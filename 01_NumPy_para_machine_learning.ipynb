{
  "nbformat": 4,
  "nbformat_minor": 0,
  "metadata": {
    "colab": {
      "name": "numpy-para-machine-learning.ipynb",
      "provenance": [],
      "authorship_tag": "ABX9TyNobkJ548vtnEwu/ZOw1i8R",
      "include_colab_link": true
    },
    "kernelspec": {
      "name": "python3",
      "display_name": "Python 3"
    }
  },
  "cells": [
    {
      "cell_type": "markdown",
      "metadata": {
        "id": "view-in-github",
        "colab_type": "text"
      },
      "source": [
        "<a href=\"https://colab.research.google.com/github/julianox5/Desafios-Resolvidos-do-curso-machine-learning-crash-course-google/blob/master/numpy_para_machine_learning.ipynb\" target=\"_parent\"><img src=\"https://colab.research.google.com/assets/colab-badge.svg\" alt=\"Open In Colab\"/></a>"
      ]
    },
    {
      "cell_type": "markdown",
      "metadata": {
        "id": "igQb8J1FuqVI",
        "colab_type": "text"
      },
      "source": [
        "Importando o numpy"
      ]
    },
    {
      "cell_type": "code",
      "metadata": {
        "id": "StcLNvMPuvSu",
        "colab_type": "code",
        "colab": {}
      },
      "source": [
        "import numpy as np"
      ],
      "execution_count": 0,
      "outputs": []
    },
    {
      "cell_type": "markdown",
      "metadata": {
        "id": "IQ2YSVDK2Qd1",
        "colab_type": "text"
      },
      "source": [
        "## Preencher matrizes com números expecíficos"
      ]
    },
    {
      "cell_type": "markdown",
      "metadata": {
        "id": "9aKndZ4Tu20H",
        "colab_type": "text"
      },
      "source": [
        "Criando uma matriz com o numpy.array()"
      ]
    },
    {
      "cell_type": "code",
      "metadata": {
        "id": "dLW1PQBFveVr",
        "colab_type": "code",
        "outputId": "aee87ec3-9489-46e3-c8fe-2c0cfd1434d8",
        "colab": {
          "base_uri": "https://localhost:8080/",
          "height": 34
        }
      },
      "source": [
        "myArray = np.array([1,2,3,4,5,6,7,8,9,0])\n",
        "print(myArray)"
      ],
      "execution_count": 0,
      "outputs": [
        {
          "output_type": "stream",
          "text": [
            "[1 2 3 4 5 6 7 8 9 0]\n"
          ],
          "name": "stdout"
        }
      ]
    },
    {
      "cell_type": "markdown",
      "metadata": {
        "id": "McnFUU_axvzd",
        "colab_type": "text"
      },
      "source": [
        "Criando uma matriz bidimensional 3 x 2"
      ]
    },
    {
      "cell_type": "code",
      "metadata": {
        "id": "35UMMNJSx3aO",
        "colab_type": "code",
        "outputId": "a8e87b62-9976-434c-f031-d66f63e00054",
        "colab": {
          "base_uri": "https://localhost:8080/",
          "height": 70
        }
      },
      "source": [
        "matriz_bi = np.array([[6 , 5], [11 , 4], [5 , 9] ])\n",
        "print(matriz_bi)"
      ],
      "execution_count": 0,
      "outputs": [
        {
          "output_type": "stream",
          "text": [
            "[[ 6  5]\n",
            " [11  4]\n",
            " [ 5  9]]\n"
          ],
          "name": "stdout"
        }
      ]
    },
    {
      "cell_type": "markdown",
      "metadata": {
        "id": "oxNuTnyDyaYe",
        "colab_type": "text"
      },
      "source": [
        "Prencher um matriz com uma sequência de numeros, numpy.arange()"
      ]
    },
    {
      "cell_type": "code",
      "metadata": {
        "id": "-8O_NKfQyqj0",
        "colab_type": "code",
        "outputId": "eb99c7dd-53d9-406f-bf95-523397c20aa2",
        "colab": {
          "base_uri": "https://localhost:8080/",
          "height": 34
        }
      },
      "source": [
        "metodArange = np.arange(5, 12)\n",
        "print(metodArange)"
      ],
      "execution_count": 0,
      "outputs": [
        {
          "output_type": "stream",
          "text": [
            "[ 5  6  7  8  9 10 11]\n"
          ],
          "name": "stdout"
        }
      ]
    },
    {
      "cell_type": "markdown",
      "metadata": {
        "id": "DOBsmA6-zc5F",
        "colab_type": "text"
      },
      "source": [
        "## Preencher matrizes com sequência de números\n",
        "Numpy possui varias funções para preencher matrizes com números aleatórios em determinados intervalos.\n",
        "***numpy.random.randint*** gera números inteiros aleatórios entre um valor baixo e alto."
      ]
    },
    {
      "cell_type": "code",
      "metadata": {
        "id": "gArQy_RN0OE9",
        "colab_type": "code",
        "outputId": "8dfbcb4a-e0cc-412b-d326-e8c7401d735d",
        "colab": {
          "base_uri": "https://localhost:8080/",
          "height": 34
        }
      },
      "source": [
        "aleatorio_randint = np.random.randint(low = 10, high=100, size=(10))\n",
        "print(aleatorio_randint)"
      ],
      "execution_count": 0,
      "outputs": [
        {
          "output_type": "stream",
          "text": [
            "[39 82 57 89 69 43 96 45 21 56]\n"
          ],
          "name": "stdout"
        }
      ]
    },
    {
      "cell_type": "markdown",
      "metadata": {
        "id": "TEtinLe81pkE",
        "colab_type": "text"
      },
      "source": [
        "Criar valores aleatórios de ponto flutuante entre 0,0 e 1,0 use **numpy.random.random()**"
      ]
    },
    {
      "cell_type": "code",
      "metadata": {
        "id": "cpRhgLRi18Ya",
        "colab_type": "code",
        "outputId": "f6f31f22-4c8c-4b7d-d144-51fa2f0e2cbf",
        "colab": {
          "base_uri": "https://localhost:8080/",
          "height": 52
        }
      },
      "source": [
        "float_random = np.random.random([10])\n",
        "print(float_random)"
      ],
      "execution_count": 0,
      "outputs": [
        {
          "output_type": "stream",
          "text": [
            "[0.25235296 0.08061505 0.03279996 0.59767375 0.27453448 0.31184018\n",
            " 0.17296004 0.6211853  0.01678728 0.4507196 ]\n"
          ],
          "name": "stdout"
        }
      ]
    },
    {
      "cell_type": "markdown",
      "metadata": {
        "id": "KjXad-2tBOzA",
        "colab_type": "text"
      },
      "source": [
        "O Numpy possui um truque chamado broadcasting que expande virtualmente o operando menor para dimensões compatíveis com a álgebra linear. "
      ]
    },
    {
      "cell_type": "code",
      "metadata": {
        "id": "XofZVWJTCKmK",
        "colab_type": "code",
        "outputId": "70a0fa2a-23dc-4c46-8f3b-2bb3f676a851",
        "colab": {
          "base_uri": "https://localhost:8080/",
          "height": 52
        }
      },
      "source": [
        "random_floats_2_e_3 = float_random + 2.0\n",
        "print (random_floats_2_e_3)"
      ],
      "execution_count": 0,
      "outputs": [
        {
          "output_type": "stream",
          "text": [
            "[2.25235296 2.08061505 2.03279996 2.59767375 2.27453448 2.31184018\n",
            " 2.17296004 2.6211853  2.01678728 2.4507196 ]\n"
          ],
          "name": "stdout"
        }
      ]
    },
    {
      "cell_type": "markdown",
      "metadata": {
        "id": "Z8lhj0wlFsIL",
        "colab_type": "text"
      },
      "source": [
        "## Tarefa 1: Criar um conjunto de dados linear\n",
        "Seu objetivo é criar um conjunto de dados simples que consiste em um único recurso e um rótulo da seguinte maneira:\n",
        "1. Atribua uma sequência de números inteiros de 6 a 20 (inclusive) a uma matriz NumPy denominada `feature`.\n",
        "2.Atribua 15 valores a uma matriz NumPy denominada de labelmodo que:\n",
        "\n",
        "```\n",
        "   label = (3)(feature) + 4\n",
        "```\n",
        "Por exemplo, o primeiro valor para `label`deve ser:\n",
        "\n",
        "```\n",
        "  label = (3)(6) + 4 = 22\n",
        " ```"
      ]
    },
    {
      "cell_type": "code",
      "metadata": {
        "id": "Hp90yVOCGeEf",
        "colab_type": "code",
        "outputId": "edab559c-469e-4b5b-9e52-253689263472",
        "colab": {
          "base_uri": "https://localhost:8080/",
          "height": 52
        }
      },
      "source": [
        "feature = np.arange(6, 21)\n",
        "print(feature)\n",
        "label = (feature * 3) + 4\n",
        "print(label)"
      ],
      "execution_count": 0,
      "outputs": [
        {
          "output_type": "stream",
          "text": [
            "[ 6  7  8  9 10 11 12 13 14 15 16 17 18 19 20]\n",
            "[22 25 28 31 34 37 40 43 46 49 52 55 58 61 64]\n"
          ],
          "name": "stdout"
        }
      ]
    },
    {
      "cell_type": "markdown",
      "metadata": {
        "colab_type": "text",
        "id": "m36IvGA-Jdsk"
      },
      "source": [
        "\n",
        "## Tarefa 2: adicionar algum ruído ao conjunto de dados\n",
        "\n",
        "Para tornar seu conjunto de dados um pouco mais realista, insira um pouco de ruído aleatório em cada elemento da labelmatriz que você já criou. Para ser mais preciso, modifique cada valor atribuído rótulo, adicionando um valor de ponto flutuante aleatório diferente entre -2 e +2.\n",
        "\n",
        "ão confie na transmissão. Em vez disso, crie um ruido na matriz com a mesma dimensão que rótulo."
      ]
    },
    {
      "cell_type": "code",
      "metadata": {
        "id": "fgRjmRryJpae",
        "colab_type": "code",
        "outputId": "252247bc-fc37-4546-e71f-e912b4948067",
        "colab": {
          "base_uri": "https://localhost:8080/",
          "height": 274
        }
      },
      "source": [
        "noise = (np.random.random([15]) * 4) -2\n",
        "print(noise)\n",
        "label += noise \n",
        "print(label)"
      ],
      "execution_count": 0,
      "outputs": [
        {
          "output_type": "stream",
          "text": [
            "[-0.2195936   1.3326103   1.84731153 -0.2603278  -1.46650376 -0.45077214\n",
            " -0.08141228 -0.59877044 -0.39544639  1.06051902 -0.3939568  -0.34886473\n",
            "  0.94562907  1.45291256 -0.09328554]\n"
          ],
          "name": "stdout"
        },
        {
          "output_type": "error",
          "ename": "UFuncTypeError",
          "evalue": "ignored",
          "traceback": [
            "\u001b[0;31m---------------------------------------------------------------------------\u001b[0m",
            "\u001b[0;31mUFuncTypeError\u001b[0m                            Traceback (most recent call last)",
            "\u001b[0;32m<ipython-input-40-6a681c4f906c>\u001b[0m in \u001b[0;36m<module>\u001b[0;34m()\u001b[0m\n\u001b[1;32m      1\u001b[0m \u001b[0mnoise\u001b[0m \u001b[0;34m=\u001b[0m \u001b[0;34m(\u001b[0m\u001b[0mnp\u001b[0m\u001b[0;34m.\u001b[0m\u001b[0mrandom\u001b[0m\u001b[0;34m.\u001b[0m\u001b[0mrandom\u001b[0m\u001b[0;34m(\u001b[0m\u001b[0;34m[\u001b[0m\u001b[0;36m15\u001b[0m\u001b[0;34m]\u001b[0m\u001b[0;34m)\u001b[0m \u001b[0;34m*\u001b[0m \u001b[0;36m4\u001b[0m\u001b[0;34m)\u001b[0m \u001b[0;34m-\u001b[0m\u001b[0;36m2\u001b[0m\u001b[0;34m\u001b[0m\u001b[0;34m\u001b[0m\u001b[0m\n\u001b[1;32m      2\u001b[0m \u001b[0mprint\u001b[0m\u001b[0;34m(\u001b[0m\u001b[0mnoise\u001b[0m\u001b[0;34m)\u001b[0m\u001b[0;34m\u001b[0m\u001b[0;34m\u001b[0m\u001b[0m\n\u001b[0;32m----> 3\u001b[0;31m \u001b[0mlabel\u001b[0m \u001b[0;34m+=\u001b[0m \u001b[0mnoise\u001b[0m\u001b[0;34m\u001b[0m\u001b[0;34m\u001b[0m\u001b[0m\n\u001b[0m\u001b[1;32m      4\u001b[0m \u001b[0mprint\u001b[0m\u001b[0;34m(\u001b[0m\u001b[0mlabel\u001b[0m\u001b[0;34m)\u001b[0m\u001b[0;34m\u001b[0m\u001b[0;34m\u001b[0m\u001b[0m\n",
            "\u001b[0;31mUFuncTypeError\u001b[0m: Cannot cast ufunc 'add' output from dtype('float64') to dtype('int64') with casting rule 'same_kind'"
          ]
        }
      ]
    },
    {
      "cell_type": "code",
      "metadata": {
        "id": "fSw562f2NIPM",
        "colab_type": "code",
        "colab": {}
      },
      "source": [
        "#@title Example form fields\n",
        "#@markdown Forms support many types of fields.\n",
        "\n",
        "no_type_checking = ''  #@param\n",
        "string_type = 'example'  #@param {type: \"string\"}\n",
        "slider_value = 142  #@param {type: \"slider\", min: 100, max: 200}\n",
        "number = 102  #@param {type: \"number\"}\n",
        "date = '2010-11-05'  #@param {type: \"date\"}\n",
        "pick_me = \"monday\"  #@param ['monday', 'tuesday', 'wednesday', 'thursday']\n",
        "select_or_input = \"apples\" #@param [\"apples\", \"bananas\", \"oranges\"] {allow-input: true}\n",
        "#@markdown ---\n"
      ],
      "execution_count": 0,
      "outputs": []
    }
  ]
}
