{
  "nbformat": 4,
  "nbformat_minor": 0,
  "metadata": {
    "colab": {
      "name": "03-regressão-linear-com-dados sinteticos.ipynb",
      "provenance": [],
      "authorship_tag": "ABX9TyPR6QciLuGXn+wUfcxEko/4",
      "include_colab_link": true
    },
    "kernelspec": {
      "name": "python3",
      "display_name": "Python 3"
    }
  },
  "cells": [
    {
      "cell_type": "markdown",
      "metadata": {
        "id": "view-in-github",
        "colab_type": "text"
      },
      "source": [
        "<a href=\"https://colab.research.google.com/github/julianox5/Desafios-Resolvidos-do-curso-machine-learning-crash-course-google/blob/master/03_regress%C3%A3o_linear_com_dados_sinteticos.ipynb\" target=\"_parent\"><img src=\"https://colab.research.google.com/assets/colab-badge.svg\" alt=\"Open In Colab\"/></a>"
      ]
    },
    {
      "cell_type": "markdown",
      "metadata": {
        "id": "5O4ag-t8Y40b",
        "colab_type": "text"
      },
      "source": [
        "##\n"
      ]
    },
    {
      "cell_type": "markdown",
      "metadata": {
        "id": "D5Jh4tjueEWT",
        "colab_type": "text"
      },
      "source": [
        "#Usando a versão mais recente do TensorFlow\n"
      ]
    },
    {
      "cell_type": "code",
      "metadata": {
        "id": "ixfmrpdAd9JK",
        "colab_type": "code",
        "colab": {}
      },
      "source": [
        "%tensorflow_version 2.x"
      ],
      "execution_count": 0,
      "outputs": []
    },
    {
      "cell_type": "markdown",
      "metadata": {
        "id": "qbqBJqQIecAH",
        "colab_type": "text"
      },
      "source": [
        "# Importando módulos necessários"
      ]
    },
    {
      "cell_type": "code",
      "metadata": {
        "id": "fepUhHZqelEK",
        "colab_type": "code",
        "colab": {}
      },
      "source": [
        "import pandas as pd\n",
        "import tensorflow as tf\n",
        "from matplotlib import pyplot as plt"
      ],
      "execution_count": 0,
      "outputs": []
    },
    {
      "cell_type": "markdown",
      "metadata": {
        "id": "8zwwWTTefTLX",
        "colab_type": "text"
      },
      "source": [
        "#Criar e compilar um modelo de regressão linear simples\n",
        "### 1. Definir função que crie um modelo "
      ]
    },
    {
      "cell_type": "code",
      "metadata": {
        "id": "0QqRGuSFfTxG",
        "colab_type": "code",
        "colab": {}
      },
      "source": [
        "def construi_modelo (taxa_aprendizado):\n",
        "  #Quase todos os modelos simples do tf.keras é sequencial\n",
        "  # Um modelo sequencial contém uma ou mais camadas\n",
        "  modelo = tf.keras.models.Sequential()\n",
        "  \"\"\"expecificando a  topografia do modelo\n",
        "    a topografia de um modelo de regressão\n",
        "    linear simples é um único nó em uma única camada\n",
        "  \"\"\"\n",
        "  modelo.add(tf.keras.layers.Dense(units=1, \n",
        "                                  input_shape=(1,)))\n",
        "\n",
        "  # Configurar treinamento para minimizar o erro do quadrado médio do modelo\n",
        "  modelo.compile(optimizer=tf.keras.optimizers.RMSprop(lr=taxa_aprendizado),\n",
        "                loss=\"mean_squared_error\",\n",
        "                metrics=[tf.keras.metrics.RootMeanSquaredError()])\n",
        "  return modelo\n",
        "\n"
      ],
      "execution_count": 0,
      "outputs": []
    },
    {
      "cell_type": "markdown",
      "metadata": {
        "id": "-_Kd6YnLjsz9",
        "colab_type": "text"
      },
      "source": [
        "### 2. Definir função que treine o modelo criado a partir dos exemplos(recursos, rotulos) "
      ]
    },
    {
      "cell_type": "code",
      "metadata": {
        "id": "3dNY9vJSj1IS",
        "colab_type": "code",
        "colab": {}
      },
      "source": [
        "def treinando_modelo(modelo, recursos, rotulos, epocas, batch_size):\n",
        "\n",
        "  history = modelo.fit(x=recursos,\n",
        "                      y=rotulos,\n",
        "                      batch_size = None,\n",
        "                      epochs=epocas)\n",
        "  # Reúna o peso e o viés do modelo treinado.\n",
        "  peso_treinado = modelo.get_weights()[0]\n",
        "  vies_treinado = modelo.get_weights()[1]\n",
        "  epocas = history.epoch \n",
        "\n",
        "  #Reúna a história de cada época\n",
        "  hist = pd.DataFrame(history.history)\n",
        "\n",
        "  # Reúna o erro quadrático médio da raiz em cada época \n",
        "  rmse = hist[\"root_mean_squared_error\"]\n",
        "\n",
        "  return peso_treinado, vies_treinado, epocas, rmse\n"
      ],
      "execution_count": 0,
      "outputs": []
    },
    {
      "cell_type": "markdown",
      "metadata": {
        "id": "Wc7j986rqP5m",
        "colab_type": "text"
      },
      "source": [
        "###3. Definir funções de plotagem\n",
        "Usar um biblioteca Python popular camada **Matplotlib** para criar dois gráficos que mostrem:\n",
        "* Valores dos recursos VS valores dos rótulos e uma linha mostando a saída do modelo treinado.\n",
        "* Uma curva de perda\n"
      ]
    },
    {
      "cell_type": "code",
      "metadata": {
        "id": "4AyouZxxri2S",
        "colab_type": "code",
        "colab": {}
      },
      "source": [
        "def plotagem_do_modelo(peso_treinamento, vies_treinamento, recursos, rotulos):\n",
        "\n",
        "  #Rotule os eixo.\n",
        "  plt.xlabel(\"Recurso\")\n",
        "  plt.ylabel(\"Rótulo\")\n",
        "\n",
        "  #Plotando os valores dos recursos x valores dos rótulos\n",
        "  plt.scatter(recursos, rotulos)\n",
        "\n",
        "  #Criando uma linha vermelha que representa o modelo. A linha vermelha\n",
        "  #começa nas coordenadas (x0, y0) e termina (x1,y1).\n",
        "  x0 = 0\n",
        "  y0 = vies_treinamento\n",
        "  x1 = meus_recursos[-1]\n",
        "  y1 = vies_treinamento + (peso_treinado * x1)\n",
        "  plt.plot([x0,x1], [y0,y1], c='r')\n",
        "\n",
        "  # Desenhando o gráfico de dispersão e a linha vermelha\n",
        "  plt.show()"
      ],
      "execution_count": 0,
      "outputs": []
    },
    {
      "cell_type": "code",
      "metadata": {
        "id": "hi64WYxWSCaq",
        "colab_type": "code",
        "colab": {}
      },
      "source": [
        "#funçao para plotar a curva de perda qadrática\n",
        "def plotagem_curva_perda(epochs, rmse):\n",
        "  \"\"\"Plotando a curva de perda, que mostra a perda vs epocas \"\"\"\n",
        "\n",
        "  plt.figure() \n",
        "  plt.xlabel(\"Épocas\")\n",
        "  plt.ylabel(\"Erro médio quadrático da raiz\")\n",
        "\n",
        "  plt.plot (epochs, rmse, label = \"Perda\")\n",
        "  plt.legend()\n",
        "  plt.ylim([rmse.min()*0.97, rmse.max()])\n",
        "  plt.show()"
      ],
      "execution_count": 0,
      "outputs": []
    },
    {
      "cell_type": "markdown",
      "metadata": {
        "id": "9oD7lZrHTuSB",
        "colab_type": "text"
      },
      "source": [
        "### 4. Definindo conjuntos de dados"
      ]
    },
    {
      "cell_type": "code",
      "metadata": {
        "id": "kQxpoTKzT0Eq",
        "colab_type": "code",
        "colab": {}
      },
      "source": [
        "meus_recursos = ([1.0, 2.0, 3.0, 4.0, 5.0, 6.0, 7.0, 8.0, 9.0, 10.0, 11.0, 12.0])\n",
        "meus_rotulos  = ([5.0, 8.8, 9.6, 14.2, 18.8, 19.5, 21.4, 26.8, 28.9, 32.0, 33.8, 38.2])"
      ],
      "execution_count": 0,
      "outputs": []
    },
    {
      "cell_type": "markdown",
      "metadata": {
        "id": "p_6ozIDngzoE",
        "colab_type": "text"
      },
      "source": [
        "Definindo os hiperparâmetro e chamando as funçõe que foram criadas\n",
        "\n",
        "Hiperparâmetros:\n",
        "* Taxa de aprendizagem\n",
        "* Número de Epocas\n",
        "* Tamanho do Lote (batch)"
      ]
    },
    {
      "cell_type": "code",
      "metadata": {
        "id": "LPlBSP6chY0G",
        "colab_type": "code",
        "outputId": "9315ee28-758c-4026-d95c-7cf94e73adcb",
        "colab": {
          "base_uri": "https://localhost:8080/",
          "height": 902
        }
      },
      "source": [
        "taxa_aprendizado = 0.01\n",
        "epochs = 10\n",
        "tam_lote=12\n",
        "\n",
        "meu_modelo = criando_modelo(taxa_aprendizado)\n",
        "peso_treinado, vies_treinado, epochs, rmse = treinando_modelo(meu_modelo,\n",
        "                                                              meus_recursos,\n",
        "                                                              meus_rotulos,\n",
        "                                                              epochs,\n",
        "                                                              tam_lote)\n",
        "\n",
        "plotagem_do_modelo(peso_treinado, vies_treinado, meus_recursos, meus_rotulos)\n",
        "plotagem_curva_perda(epochs, rmse)"
      ],
      "execution_count": 143,
      "outputs": [
        {
          "output_type": "stream",
          "text": [
            "Train on 12 samples\n",
            "Epoch 1/10\n",
            "12/12 [==============================] - 0s 19ms/sample - loss: 836.2507 - root_mean_squared_error: 28.9180\n",
            "Epoch 2/10\n",
            "12/12 [==============================] - 0s 816us/sample - loss: 821.2299 - root_mean_squared_error: 28.6571\n",
            "Epoch 3/10\n",
            "12/12 [==============================] - 0s 606us/sample - loss: 810.4646 - root_mean_squared_error: 28.4687\n",
            "Epoch 4/10\n",
            "12/12 [==============================] - 0s 526us/sample - loss: 801.5283 - root_mean_squared_error: 28.3113\n",
            "Epoch 5/10\n",
            "12/12 [==============================] - 0s 589us/sample - loss: 793.6526 - root_mean_squared_error: 28.1718\n",
            "Epoch 6/10\n",
            "12/12 [==============================] - 0s 505us/sample - loss: 786.4811 - root_mean_squared_error: 28.0443\n",
            "Epoch 7/10\n",
            "12/12 [==============================] - 0s 582us/sample - loss: 779.8152 - root_mean_squared_error: 27.9252\n",
            "Epoch 8/10\n",
            "12/12 [==============================] - 0s 510us/sample - loss: 773.5318 - root_mean_squared_error: 27.8124\n",
            "Epoch 9/10\n",
            "12/12 [==============================] - 0s 588us/sample - loss: 767.5485 - root_mean_squared_error: 27.7047\n",
            "Epoch 10/10\n",
            "12/12 [==============================] - 0s 562us/sample - loss: 761.8068 - root_mean_squared_error: 27.6008\n"
          ],
          "name": "stdout"
        },
        {
          "output_type": "display_data",
          "data": {
            "image/png": "[encoded data removed]",
            "text/plain": [
              "<Figure size 432x288 with 1 Axes>"
            ]
          },
          "metadata": {
            "tags": []
          }
        },
        {
          "output_type": "display_data",
          "data": {
            "image/png": "[encoded data removed]",
            "text/plain": [
              "<Figure size 432x288 with 1 Axes>"
            ]
          },
          "metadata": {
            "tags": []
          }
        }
      ]
    },
    {
      "cell_type": "markdown",
      "metadata": {
        "id": "k8098wFB5Ws9",
        "colab_type": "text"
      },
      "source": [
        "## Exercício 1: Aumentar o número de épocas\n",
        "A perda de treinamento deve diminuir constantemente, brutalmente no início e depois mais lentamente. Eventualmente, a perda de treinamento deve permanecer constante (inclinação zero ou inclinação quase zero), o que indica que o treinamento convergiu .\n",
        "\n",
        "Sua tarefa é aumentar o número de épocas o suficiente para fazer o modelo convergir. No entanto, é ineficiente treinar a convergência passada, portanto, não basta definir o número de épocas para um valor arbitrariamente alto."
      ]
    },
    {
      "cell_type": "code",
      "metadata": {
        "id": "o5BrVUIL6OiD",
        "colab_type": "code",
        "colab": {}
      },
      "source": [
        "taxa_aprendizado=0.01\n",
        "epochs=450\n",
        "tam_lote=12\n",
        "\n",
        "meu_modelo = criando_modelo(taxa_aprendizado)\n",
        "peso_treinado, vies_treinado, epochs, rmse = treinando_modelo(meu_modelo,\n",
        "                                                              meus_recursos,\n",
        "                                                              meus_rotulos,\n",
        "                                                              epochs,\n",
        "                                                              tam_lote)\n",
        "\n",
        "plotagem_do_modelo(peso_treinado, vies_treinado, meus_recursos, meus_rotulos)\n",
        "plotagem_curva_perda(epochs, rmse)"
      ],
      "execution_count": 0,
      "outputs": []
    },
    {
      "cell_type": "markdown",
      "metadata": {
        "id": "18TNFmYT6vRq",
        "colab_type": "text"
      },
      "source": [
        "## Exercício 2: Aumentar a Taxa de Aprendizado\n",
        "No exercício 2, foi aumentado o número de épocas para obter a convergência do modelo. Às vezes, é possível fazer o modelo convergir mais rapidamente aumentando a taxa de aprendizado. No entanto, definir uma taxa de aprendizado muito alta geralmente impossibilita a convergência de um modelo. No exercício 2, intencionalmente definir uma taxa de aprendizado muito alta. Execute a seguinte célula de código e veja o que acontece."
      ]
    },
    {
      "cell_type": "code",
      "metadata": {
        "id": "5ZI-FBJ87ZQi",
        "colab_type": "code",
        "colab": {}
      },
      "source": [
        "taxa_aprendizado = 100\n",
        "epochs = 500\n",
        "\n",
        "\n",
        "meu_modelo = criando_modelo(taxa_aprendizado)\n",
        "peso_treinado, vies_treinado, epochs, rmse = treinando_modelo(meu_modelo,\n",
        "                                                              meus_recursos,\n",
        "                                                              meus_rotulos,\n",
        "                                                              epochs,\n",
        "                                                              tam_lote)\n",
        "\n",
        "plotagem_do_modelo(peso_treinado, vies_treinado, meus_recursos, meus_rotulos)\n",
        "plotagem_curva_perda(epochs, rmse)"
      ],
      "execution_count": 0,
      "outputs": []
    },
    {
      "cell_type": "markdown",
      "metadata": {
        "id": "FWf8EMFm73qr",
        "colab_type": "text"
      },
      "source": [
        "O modelo resultante é terrível; a linha vermelha não se alinha com os pontos azuis. Além disso, a curva de perda oscila como uma montanha-russa . Uma curva de perda oscilante sugere fortemente que a taxa de aprendizado é muito alta.\n"
      ]
    },
    {
      "cell_type": "markdown",
      "metadata": {
        "id": "I2mQRzUOHSvV",
        "colab_type": "text"
      },
      "source": [
        "##Exercício 3: Encontre a combinação ideal de épocas e taxa de aprendizado\n",
        "Atribua valores aos dois hiperparâmetros a seguir para fazer o treinamento convergir da maneira mais eficiente possível:\n",
        "* taxa de Aprendizagem\n",
        "* épocas"
      ]
    },
    {
      "cell_type": "code",
      "metadata": {
        "id": "8QK2fz6gRjg4",
        "colab_type": "code",
        "colab": {}
      },
      "source": [
        "taxa_aprendizado=0.14\n",
        "epochs=70\n",
        "tam_lote=12\n",
        "\n",
        "meu_modelo = criando_modelo(taxa_aprendizado)\n",
        "peso_treinado, vies_treinado, epochs, rmse = treinando_modelo(meu_modelo,\n",
        "                                                              meus_recursos,\n",
        "                                                              meus_rotulos,\n",
        "                                                              epochs,\n",
        "                                                              tam_lote)\n",
        "\n",
        "plotagem_do_modelo(peso_treinado, vies_treinado, meus_recursos, meus_rotulos)\n",
        "plotagem_curva_perda(epochs, rmse)"
      ],
      "execution_count": 0,
      "outputs": []
    },
    {
      "cell_type": "markdown",
      "metadata": {
        "id": "GU2cQ8NWR2a1",
        "colab_type": "text"
      },
      "source": [
        "##Exercício 4: Ajustar o tamanho do lote\n",
        "O sistema recalcula o valor de perda do modelo e ajusta os pesos e a tendência do modelo após cada iteração . Cada iteração é o período em que o sistema processa um lote. Por exemplo, se o tamanho do lote for 6, o sistema recalcula o valor de perda do modelo e ajusta os pesos e desvios do modelo após o processamento de cada 6 exemplos.\n",
        "\n",
        "Uma época abrange iterações suficientes para processar todos os exemplos no conjunto de dados. Por exemplo, se o tamanho do lote for 12, cada época terá uma iteração. No entanto, se o tamanho do lote for 6, cada época consumirá duas iterações.\n",
        "\n",
        "É tentador simplesmente definir o tamanho do lote para o número de exemplos no conjunto de dados (12, neste caso). No entanto, o modelo pode realmente treinar mais rapidamente em lotes menores. Por outro lado, lotes muito pequenos podem não conter informações suficientes para ajudar o modelo a convergir.\n",
        "\n",
        "Qual é o menor número inteiro para o qual você pode definir **tam_lote** e ainda assim o modelo converge em épocas?"
      ]
    },
    {
      "cell_type": "code",
      "metadata": {
        "id": "tZE8qsm6S-GO",
        "colab_type": "code",
        "colab": {}
      },
      "source": [
        "taxa_aprendizado=0.05\n",
        "epochs=125\n",
        "tam_lote=1\n",
        "\n",
        "meu_modelo = criando_modelo(taxa_aprendizado)\n",
        "peso_treinado, vies_treinado, epochs, rmse = treinando_modelo(meu_modelo,\n",
        "                                                              meus_recursos,\n",
        "                                                              meus_rotulos,\n",
        "                                                              epochs,\n",
        "                                                              tam_lote)\n",
        "\n",
        "plotagem_do_modelo(peso_treinado, vies_treinado, meus_recursos, meus_rotulos)\n",
        "plotagem_curva_perda(epochs, rmse)"
      ],
      "execution_count": 0,
      "outputs": []
    },
    {
      "cell_type": "markdown",
      "metadata": {
        "id": "JTVDuqjoTwdw",
        "colab_type": "text"
      },
      "source": [
        "##Resumo sobre ajustes  dos hiperparâmetros\n",
        "A maioria dos problemas de aprendizado de máquina exige muito ajuste de hiperparâmetro. Infelizmente, não podemos fornecer regras de ajuste concretas para todos os modelos. A redução da taxa de aprendizado pode ajudar um modelo a convergir com eficiência, mas fazer com que outro modelo converja muito lentamente. Você deve experimentar para encontrar o melhor conjunto de hiperparâmetros para o seu conjunto de dados. Dito isto, aqui estão algumas regras práticas:\n",
        "* A perda de treinamento deve diminuir constantemente, abruptamente no início e depois mais lentamente até que a inclinação da curva atinja ou se aproxime de zero.\n",
        "\n",
        "* Se a perda de treinamento não convergir, treine por mais épocas.\n",
        "\n",
        "\n",
        "* Se a perda de treinamento diminuir muito lentamente, aumente a taxa de aprendizado. Observe que definir a perda de treinamento muito alta também pode impedir a convergência da perda de treinamento.\n",
        "\n",
        "* Se a perda de treinamento variar muito (ou seja, a perda de treinamento aumentar rapidamente), diminua a taxa de aprendizado.\n",
        "\n",
        "* Diminuir a taxa de aprendizado enquanto aumenta o número de épocas ou o tamanho do lote geralmente é uma boa combinação.\n",
        "\n",
        "* Definir o tamanho do lote para um número muito pequeno também pode causar instabilidade. Primeiro, tente valores grandes de tamanho de lote. Em seguida, diminua o tamanho do lote até ver a degradação.\n",
        "\n",
        "* Para conjuntos de dados do mundo real que consistem em um número muito grande de exemplos, o conjunto de dados inteiro pode não caber na memória. Nesses casos, você precisará reduzir o tamanho do lote para permitir que um lote caiba na memória.\n",
        "\n"
      ]
    }
  ]
}