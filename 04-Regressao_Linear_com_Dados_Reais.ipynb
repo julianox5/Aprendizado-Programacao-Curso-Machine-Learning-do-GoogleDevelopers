{
  "nbformat": 4,
  "nbformat_minor": 0,
  "metadata": {
    "colab": {
      "name": "Regressao-Linea- com-Dados-Reais.ipynb",
      "provenance": [],
      "authorship_tag": "ABX9TyMIQvlCjma+Vy3hp2u362yB",
      "include_colab_link": true
    },
    "kernelspec": {
      "name": "python3",
      "display_name": "Python 3"
    }
  },
  "cells": [
    {
      "cell_type": "markdown",
      "metadata": {
        "id": "view-in-github",
        "colab_type": "text"
      },
      "source": [
        "<a href=\"https://colab.research.google.com/github/julianox5/Tarefas-de-Programacao-Curso-Machine-Learning-do-GoogleDevelopers/blob/master/Regressao_Linea_com_Dados_Reais.ipynb\" target=\"_parent\"><img src=\"https://colab.research.google.com/assets/colab-badge.svg\" alt=\"Open In Colab\"/></a>"
      ]
    },
    {
      "cell_type": "code",
      "metadata": {
        "id": "kmKIl8KG6oXs",
        "colab_type": "code",
        "colab": {}
      },
      "source": [
        "##"
      ],
      "execution_count": 0,
      "outputs": []
    },
    {
      "cell_type": "markdown",
      "metadata": {
        "id": "l9zeuyY77MTD",
        "colab_type": "text"
      },
      "source": [
        "##Regressão linear com um conjunto de dados real"
      ]
    },
    {
      "cell_type": "markdown",
      "metadata": {
        "id": "0cJB6NS17RJk",
        "colab_type": "text"
      },
      "source": [
        "Este Colab usa um conjunto de dados real para prever os preços das casas na Califórnia."
      ]
    },
    {
      "cell_type": "markdown",
      "metadata": {
        "id": "fH4FlBD_7jpB",
        "colab_type": "text"
      },
      "source": [
        "##Objetivos de aprendizado\n",
        "Ao final desse colab, você aprenderá fazer o seguinte: \n",
        "* Ler um arquivo .csv em um DataFrame do Pandas\n",
        "* Examinar um conjunto de dados\n",
        "* experimentar diferentes recursos na contrução de um modelo \n",
        "* Ajustar hiperparâmetros do modelo\n"
      ]
    },
    {
      "cell_type": "markdown",
      "metadata": {
        "id": "2ZNsHLuj8Q6k",
        "colab_type": "text"
      },
      "source": [
        "## Conjunto de dados Utilizado\n",
        "O conjunto de dados para este exercício é baseado nos dados do censo de 1990 da Califórnia. O conjunto de dados é antigo, mas ainda oferece uma ótima oportunidade para aprender sobre programação de aprendizado de máquina.\n"
      ]
    },
    {
      "cell_type": "markdown",
      "metadata": {
        "id": "s0AnTJak8p2T",
        "colab_type": "text"
      },
      "source": [
        "# Usar a versão correta do TensorFlow\n",
        "A seguinte célula de código oculto garante que o Colab seja executado no TensorFlow 2.X."
      ]
    },
    {
      "cell_type": "code",
      "metadata": {
        "id": "QQP0MvLk842S",
        "colab_type": "code",
        "colab": {}
      },
      "source": [
        "%tensorflow_version 2.x "
      ],
      "execution_count": 0,
      "outputs": []
    },
    {
      "cell_type": "markdown",
      "metadata": {
        "id": "D_L6npbW9iXz",
        "colab_type": "text"
      },
      "source": [
        "##Importar modulos relevantes para a programação nesse colab"
      ]
    },
    {
      "cell_type": "code",
      "metadata": {
        "id": "42QvpEEw9pNC",
        "colab_type": "code",
        "colab": {}
      },
      "source": [
        "import pandas as pd\n",
        "import tensorflow as tf\n",
        "from matplotlib import pyplot as plt \n",
        "# Granularidade é a extensão à qual um sistema é dividido em partes \n",
        "# pequenas, ou o sistema propriamente dito ou sua descrição ou observação.\n",
        "# As linhas a seguir ajustam a granularidade da notificação\n",
        "\n",
        "pd.options.display.max_rows = 10\n",
        "pd.options.display.float_format = \"{: .1f}\".format"
      ],
      "execution_count": 0,
      "outputs": []
    },
    {
      "cell_type": "markdown",
      "metadata": {
        "id": "87YrRber_tB9",
        "colab_type": "text"
      },
      "source": [
        "## Conjunto de dados .csv\n",
        "Os conjuntos de dados geralmente são armazenados em disco ou em uma texto alternativoURL no formato .csv .\n",
        "\n",
        "Um arquivo .csv bem formado contém nomes de colunas na primeira linha, seguidos por muitas linhas de dados. Uma vírgula divide cada valor em cada linha. Por exemplo, aqui estão as cinco primeiras linhas do arquivo .csv que contém o Conjunto de Dados de Habitação da Califórnia:\n",
        "```\n",
        "\"longitude\",\"latitude\",\"housing_median_age\",\"total_rooms\",\"total_bedrooms\",\"population\",\"households\",\"median_income\",\"median_house_value\"\n",
        "-114.310000,34.190000,15.000000,5612.000000,1283.000000,1015.000000,472.000000,1.493600,66900.000000\n",
        "-114.470000,34.400000,19.000000,7650.000000,1901.000000,1129.000000,463.000000,1.820000,80100.000000\n",
        "-114.560000,33.690000,17.000000,720.000000,174.000000,333.000000,117.000000,1.650900,85700.000000\n",
        "-114.570000,33.640000,14.000000,1501.000000,337.000000,515.000000,226.000000,3.191700,73400.000000\n",
        "```"
      ]
    },
    {
      "cell_type": "markdown",
      "metadata": {
        "id": "3w-Px3k-_2qE",
        "colab_type": "text"
      },
      "source": [
        "## Carregando um arquivo .csv em uma DataFrame do Pandas\n",
        "Este Colab, como muitos programas de aprendizado de máquina, reúne o arquivo .csv e armazena os dados na memória como um Dataframe do pandas.\n",
        "\n",
        "A seguinte célula de código importa o arquivo .csv para um DataFrame do pandas e dimensiona os valores no rótulo ( median_house_value):"
      ]
    },
    {
      "cell_type": "code",
      "metadata": {
        "id": "dkZCeIPaFuzt",
        "colab_type": "code",
        "outputId": "8dc19b58-8956-4bfb-c62f-9dc893614642",
        "colab": {
          "base_uri": "https://localhost:8080/",
          "height": 198
        }
      },
      "source": [
        "# importando o conjunto de dados\n",
        "meu_dataframe = pd.read_csv(filepath_or_buffer=\"https://download.mlcc.google.com/mledu-datasets/california_housing_train.csv\")\n",
        "\n",
        "#dimensionar nosso rótulo\n",
        "meu_dataframe[\"median_house_value\"] /= 1000.0\n",
        "\n",
        "#Imprimindo as primeiras linhas do meu DataFrame\n",
        "meu_dataframe.head()\n",
        "\n"
      ],
      "execution_count": 49,
      "outputs": [
        {
          "output_type": "execute_result",
          "data": {
            "text/html": [
              "<div>\n",
              "<style scoped>\n",
              "    .dataframe tbody tr th:only-of-type {\n",
              "        vertical-align: middle;\n",
              "    }\n",
              "\n",
              "    .dataframe tbody tr th {\n",
              "        vertical-align: top;\n",
              "    }\n",
              "\n",
              "    .dataframe thead th {\n",
              "        text-align: right;\n",
              "    }\n",
              "</style>\n",
              "<table border=\"1\" class=\"dataframe\">\n",
              "  <thead>\n",
              "    <tr style=\"text-align: right;\">\n",
              "      <th></th>\n",
              "      <th>longitude</th>\n",
              "      <th>latitude</th>\n",
              "      <th>housing_median_age</th>\n",
              "      <th>total_rooms</th>\n",
              "      <th>total_bedrooms</th>\n",
              "      <th>population</th>\n",
              "      <th>households</th>\n",
              "      <th>median_income</th>\n",
              "      <th>median_house_value</th>\n",
              "    </tr>\n",
              "  </thead>\n",
              "  <tbody>\n",
              "    <tr>\n",
              "      <th>0</th>\n",
              "      <td>-114.3</td>\n",
              "      <td>34.2</td>\n",
              "      <td>15.0</td>\n",
              "      <td>5612.0</td>\n",
              "      <td>1283.0</td>\n",
              "      <td>1015.0</td>\n",
              "      <td>472.0</td>\n",
              "      <td>1.5</td>\n",
              "      <td>66.9</td>\n",
              "    </tr>\n",
              "    <tr>\n",
              "      <th>1</th>\n",
              "      <td>-114.5</td>\n",
              "      <td>34.4</td>\n",
              "      <td>19.0</td>\n",
              "      <td>7650.0</td>\n",
              "      <td>1901.0</td>\n",
              "      <td>1129.0</td>\n",
              "      <td>463.0</td>\n",
              "      <td>1.8</td>\n",
              "      <td>80.1</td>\n",
              "    </tr>\n",
              "    <tr>\n",
              "      <th>2</th>\n",
              "      <td>-114.6</td>\n",
              "      <td>33.7</td>\n",
              "      <td>17.0</td>\n",
              "      <td>720.0</td>\n",
              "      <td>174.0</td>\n",
              "      <td>333.0</td>\n",
              "      <td>117.0</td>\n",
              "      <td>1.7</td>\n",
              "      <td>85.7</td>\n",
              "    </tr>\n",
              "    <tr>\n",
              "      <th>3</th>\n",
              "      <td>-114.6</td>\n",
              "      <td>33.6</td>\n",
              "      <td>14.0</td>\n",
              "      <td>1501.0</td>\n",
              "      <td>337.0</td>\n",
              "      <td>515.0</td>\n",
              "      <td>226.0</td>\n",
              "      <td>3.2</td>\n",
              "      <td>73.4</td>\n",
              "    </tr>\n",
              "    <tr>\n",
              "      <th>4</th>\n",
              "      <td>-114.6</td>\n",
              "      <td>33.6</td>\n",
              "      <td>20.0</td>\n",
              "      <td>1454.0</td>\n",
              "      <td>326.0</td>\n",
              "      <td>624.0</td>\n",
              "      <td>262.0</td>\n",
              "      <td>1.9</td>\n",
              "      <td>65.5</td>\n",
              "    </tr>\n",
              "  </tbody>\n",
              "</table>\n",
              "</div>"
            ],
            "text/plain": [
              "   longitude  latitude  ...  median_income  median_house_value\n",
              "0     -114.3      34.2  ...            1.5                66.9\n",
              "1     -114.5      34.4  ...            1.8                80.1\n",
              "2     -114.6      33.7  ...            1.7                85.7\n",
              "3     -114.6      33.6  ...            3.2                73.4\n",
              "4     -114.6      33.6  ...            1.9                65.5\n",
              "\n",
              "[5 rows x 9 columns]"
            ]
          },
          "metadata": {
            "tags": []
          },
          "execution_count": 49
        }
      ]
    },
    {
      "cell_type": "markdown",
      "metadata": {
        "id": "SZ1yx9X5KZsC",
        "colab_type": "text"
      },
      "source": [
        "## Examinaminar o conjunto de dados\n",
        "Uma grande parte da maioria dos projetos de aprendizado de máquina é conhecer seus dados. A API do pandas fornece uma função `describe()` que gera as seguintes estatísticas sobre cada coluna no DataFrame:`\n",
        "* `count`, que é o número de linhas nessa coluna\n",
        "*  `mean` e `std`, que contêm a média e o desvio padrão dos valores em cada coluna\n",
        "* `min` e `max`, que contêm os valores mais alto e mais baixo em cada coluna\n",
        "* `25%`, `50%`, `75%` Que contêm vários quantis ."
      ]
    },
    {
      "cell_type": "code",
      "metadata": {
        "id": "4mJabMQULt9D",
        "colab_type": "code",
        "outputId": "fc48a9ba-8d5b-4187-eac5-e7edbb853160",
        "colab": {
          "base_uri": "https://localhost:8080/",
          "height": 288
        }
      },
      "source": [
        "# obtendo estatísticas úteis sobre meu conjuto de dados \n",
        "meu_dataframe.describe()"
      ],
      "execution_count": 50,
      "outputs": [
        {
          "output_type": "execute_result",
          "data": {
            "text/html": [
              "<div>\n",
              "<style scoped>\n",
              "    .dataframe tbody tr th:only-of-type {\n",
              "        vertical-align: middle;\n",
              "    }\n",
              "\n",
              "    .dataframe tbody tr th {\n",
              "        vertical-align: top;\n",
              "    }\n",
              "\n",
              "    .dataframe thead th {\n",
              "        text-align: right;\n",
              "    }\n",
              "</style>\n",
              "<table border=\"1\" class=\"dataframe\">\n",
              "  <thead>\n",
              "    <tr style=\"text-align: right;\">\n",
              "      <th></th>\n",
              "      <th>longitude</th>\n",
              "      <th>latitude</th>\n",
              "      <th>housing_median_age</th>\n",
              "      <th>total_rooms</th>\n",
              "      <th>total_bedrooms</th>\n",
              "      <th>population</th>\n",
              "      <th>households</th>\n",
              "      <th>median_income</th>\n",
              "      <th>median_house_value</th>\n",
              "    </tr>\n",
              "  </thead>\n",
              "  <tbody>\n",
              "    <tr>\n",
              "      <th>count</th>\n",
              "      <td>17000.0</td>\n",
              "      <td>17000.0</td>\n",
              "      <td>17000.0</td>\n",
              "      <td>17000.0</td>\n",
              "      <td>17000.0</td>\n",
              "      <td>17000.0</td>\n",
              "      <td>17000.0</td>\n",
              "      <td>17000.0</td>\n",
              "      <td>17000.0</td>\n",
              "    </tr>\n",
              "    <tr>\n",
              "      <th>mean</th>\n",
              "      <td>-119.6</td>\n",
              "      <td>35.6</td>\n",
              "      <td>28.6</td>\n",
              "      <td>2643.7</td>\n",
              "      <td>539.4</td>\n",
              "      <td>1429.6</td>\n",
              "      <td>501.2</td>\n",
              "      <td>3.9</td>\n",
              "      <td>207.3</td>\n",
              "    </tr>\n",
              "    <tr>\n",
              "      <th>std</th>\n",
              "      <td>2.0</td>\n",
              "      <td>2.1</td>\n",
              "      <td>12.6</td>\n",
              "      <td>2179.9</td>\n",
              "      <td>421.5</td>\n",
              "      <td>1147.9</td>\n",
              "      <td>384.5</td>\n",
              "      <td>1.9</td>\n",
              "      <td>116.0</td>\n",
              "    </tr>\n",
              "    <tr>\n",
              "      <th>min</th>\n",
              "      <td>-124.3</td>\n",
              "      <td>32.5</td>\n",
              "      <td>1.0</td>\n",
              "      <td>2.0</td>\n",
              "      <td>1.0</td>\n",
              "      <td>3.0</td>\n",
              "      <td>1.0</td>\n",
              "      <td>0.5</td>\n",
              "      <td>15.0</td>\n",
              "    </tr>\n",
              "    <tr>\n",
              "      <th>25%</th>\n",
              "      <td>-121.8</td>\n",
              "      <td>33.9</td>\n",
              "      <td>18.0</td>\n",
              "      <td>1462.0</td>\n",
              "      <td>297.0</td>\n",
              "      <td>790.0</td>\n",
              "      <td>282.0</td>\n",
              "      <td>2.6</td>\n",
              "      <td>119.4</td>\n",
              "    </tr>\n",
              "    <tr>\n",
              "      <th>50%</th>\n",
              "      <td>-118.5</td>\n",
              "      <td>34.2</td>\n",
              "      <td>29.0</td>\n",
              "      <td>2127.0</td>\n",
              "      <td>434.0</td>\n",
              "      <td>1167.0</td>\n",
              "      <td>409.0</td>\n",
              "      <td>3.5</td>\n",
              "      <td>180.4</td>\n",
              "    </tr>\n",
              "    <tr>\n",
              "      <th>75%</th>\n",
              "      <td>-118.0</td>\n",
              "      <td>37.7</td>\n",
              "      <td>37.0</td>\n",
              "      <td>3151.2</td>\n",
              "      <td>648.2</td>\n",
              "      <td>1721.0</td>\n",
              "      <td>605.2</td>\n",
              "      <td>4.8</td>\n",
              "      <td>265.0</td>\n",
              "    </tr>\n",
              "    <tr>\n",
              "      <th>max</th>\n",
              "      <td>-114.3</td>\n",
              "      <td>42.0</td>\n",
              "      <td>52.0</td>\n",
              "      <td>37937.0</td>\n",
              "      <td>6445.0</td>\n",
              "      <td>35682.0</td>\n",
              "      <td>6082.0</td>\n",
              "      <td>15.0</td>\n",
              "      <td>500.0</td>\n",
              "    </tr>\n",
              "  </tbody>\n",
              "</table>\n",
              "</div>"
            ],
            "text/plain": [
              "       longitude  latitude  ...  median_income  median_house_value\n",
              "count    17000.0   17000.0  ...        17000.0             17000.0\n",
              "mean      -119.6      35.6  ...            3.9               207.3\n",
              "std          2.0       2.1  ...            1.9               116.0\n",
              "min       -124.3      32.5  ...            0.5                15.0\n",
              "25%       -121.8      33.9  ...            2.6               119.4\n",
              "50%       -118.5      34.2  ...            3.5               180.4\n",
              "75%       -118.0      37.7  ...            4.8               265.0\n",
              "max       -114.3      42.0  ...           15.0               500.0\n",
              "\n",
              "[8 rows x 9 columns]"
            ]
          },
          "metadata": {
            "tags": []
          },
          "execution_count": 50
        }
      ]
    },
    {
      "cell_type": "markdown",
      "metadata": {
        "id": "gNCaJr43M8YA",
        "colab_type": "text"
      },
      "source": [
        "## Anomalias encontradas no conjuto de dados\n",
        " O valor máximo (máximo) de várias colunas parece muito\n",
        " alto comparado aos outros quantis. Por exemplo\n",
        " a coluna total_rooms. Dado o quantil\n",
        " valores (25%, 50% e 75%), você pode esperar o\n",
        " valor máximo de total_ quartos a ser aproximadamente\n",
        "5.000 ou possivelmente 10.000. No entanto, o valor máximo\n",
        " é realmente 37.937.\n",
        "\n",
        " Quando você vê anomalias em uma coluna, tenha mais cuidado\n",
        " sobre o uso dessa coluna como um recurso. Dito isto,\n",
        " anomalias em recursos potenciais às vezes espelham\n",
        " anomalias no rótulo, o que poderia tornar a coluna\n",
        " seja (ou pareça ser) um recurso poderoso.\n",
        " Além disso, como você verá mais adiante, você\n",
        " pode representar (pré-processar) dados brutos\n",
        " para transformar colunas em recursos úteis."
      ]
    },
    {
      "cell_type": "markdown",
      "metadata": {
        "id": "vATGtfKiNgMh",
        "colab_type": "text"
      },
      "source": [
        "#Definir funções que constroem e treinam um modelo\n",
        "\n",
        "O código a seguir define duas funções:\n",
        "\n",
        "* `contruindo_modelo(taxa_aprendizado)`, que cria um modelo inicializado aleatoriamente.\n",
        "* `treinando_modelo(modelo, recuros, rotulo, epochs)`, que treina o modelo a partir dos exemplos (recurso e rotulos) que você passa."
      ]
    },
    {
      "cell_type": "code",
      "metadata": {
        "id": "VfE1yUc6OaeZ",
        "colab_type": "code",
        "outputId": "c5a0ec6c-b8c2-49ce-fc37-5c6fcc2add21",
        "colab": {
          "base_uri": "https://localhost:8080/",
          "height": 35
        }
      },
      "source": [
        "def contruindo_modelo(taxa_aprendizado):\n",
        "  # A maioria dos modelos simples do tf.keras é sequencial\n",
        "  modelo = tf.keras.models.Sequential()\n",
        "  \n",
        "  #descrevendo a topografia do modelo\n",
        "  #seria apenas um nó em uma única camada\n",
        "  modelo.add(tf.keras.layers.Dense(units=1,\n",
        "                                   input_shape=(1,)))\n",
        "  \n",
        "  #compilando a topografia do modelo que o TensorFlow consiga executar\n",
        "  modelo.compile(optimizer=tf.keras.optimizers.RMSprop(lr=taxa_aprendizado),\n",
        "                 loss=\"mean_squared_error\",\n",
        "                 metrics=[tf.keras.metrics.RootMeanSquaredError()])\n",
        "\n",
        "  return modelo\n",
        "\n",
        "def treinando_modelo(modelo, meu_df, recurso, rotulo, epochs, tam_lote):\n",
        "  #alimentar o modelo como recursos e rotulos\n",
        "  #o modelo treinará para o número especificado de épocas\n",
        "  history = modelo.fit(x=meu_df[recurso],\n",
        "                       y=meu_df[rotulo],\n",
        "                       batch_size = tam_lote,\n",
        "                       epochs = epochs)\n",
        "  \n",
        "  #Reunindo o peso e o viés do model \n",
        "  peso_treinado = modelo.get_weights()[0]\n",
        "  vies_treinado = modelo.get_weights()[1]  \n",
        "\n",
        "  #lista de épocas será separada do resto da historia\n",
        "  epochs = history.epoch\n",
        "\n",
        "  #isolando o erro para cada época\n",
        "  hist = pd.DataFrame(history.history)\n",
        "\n",
        "  # Acompanhar o treinamento imprimindo o erro médio quadrático da raiz\n",
        "  rmse = hist[\"root_mean_squared_error\"]\n",
        "\n",
        "  return peso_treinado, vies_treinado, epochs, rmse\n",
        "\n",
        "print(\"Tudo Ok!\")"
      ],
      "execution_count": 40,
      "outputs": [
        {
          "output_type": "stream",
          "text": [
            "Tudo Ok!\n"
          ],
          "name": "stdout"
        }
      ]
    },
    {
      "cell_type": "markdown",
      "metadata": {
        "id": "qp5T02LHddfP",
        "colab_type": "text"
      },
      "source": [
        "##Criar funções de plotagem\n",
        "As seguintes funções matplotlib criam os seguintes gráficos:\n",
        "* De dispersão do recurso vs rótulo e uma linha mostrando a saída do modelo treinado\n",
        "* Curva de perda"
      ]
    },
    {
      "cell_type": "code",
      "metadata": {
        "id": "VqdsoZg0ezqe",
        "colab_type": "code",
        "outputId": "a5f5682f-5587-43b6-c38e-ea26129d4c71",
        "colab": {
          "base_uri": "https://localhost:8080/",
          "height": 35
        }
      },
      "source": [
        "def plot_modelo(peso_treinado, vies_treinado, recurso, rotulo):\n",
        "  #Rotule os eixos\n",
        "  plt.xlabel(recurso)\n",
        "  plt.ylabel(rotulo)\n",
        "\n",
        "  #Criando um gráfico de dispersão a partir de 200 pontos aleatórios do conjunto\n",
        "  exemplos_aleatorios = meu_dataframe.sample(n=200)\n",
        "  \n",
        "  plt.scatter(exemplos_aleatorios[recurso], exemplos_aleatorios[rotulo])\n",
        "\n",
        "  #Criando uma linha vermelha representando o modelo\n",
        "  #Começando nas cordenadas (x=0, y=0) até (x=1, y=1)\n",
        "  x0 = 0,\n",
        "  y0 = vies_treinado\n",
        "\n",
        "  x1= 500\n",
        "  y1= vies_treinado + (peso_treinado * x1)\n",
        "\n",
        "  plt.plot([x0, x1],[y0, y1], c='r')\n",
        "\n",
        "  #Renderizando o gráfico de disperção e a linha vermelha\n",
        "  plt.show\n",
        "\n",
        "\"\"\" Criar uma curva de perda VX épocas\"\"\"\n",
        "def plot_curva_perda(epochs, rmse):\n",
        "  plt.figure()\n",
        "  plt.xlabel(\"Épocas\")\n",
        "  plt.ylabel(\"Erro Médio Quadrático da Raiz\")\n",
        "  \n",
        "  plt.plot(epochs, rmse, label=\"Perda\")\n",
        "  plt.legend() \n",
        "  plt.ylim([rmse.min()*0.97, rmse.max()])\n",
        "  plt.show()\n",
        "\n",
        "print(\"Função ok\")"
      ],
      "execution_count": 53,
      "outputs": [
        {
          "output_type": "stream",
          "text": [
            "Função ok\n"
          ],
          "name": "stdout"
        }
      ]
    },
    {
      "cell_type": "markdown",
      "metadata": {
        "id": "7dvqs1JwiCcf",
        "colab_type": "text"
      },
      "source": [
        "## Chamando as funções do modelo\n",
        "Uma parte importante do aprendizado de máquina é determinar quais recursos se correlacionam com o rótulo . Por exemplo, os modelos de previsão de valor residencial da vida real geralmente contam com centenas de recursos e recursos sintéticos. No entanto, este modelo depende apenas de um recurso. Por enquanto, vou usar arbitrariamente total_roomscomo como recurso."
      ]
    },
    {
      "cell_type": "code",
      "metadata": {
        "id": "lJ-uV9Ykidot",
        "colab_type": "code",
        "colab": {}
      },
      "source": [
        "# Criando os hiperparâmetros.\n",
        "taxa_aprendizado= 0.001\n",
        "epochs = 30\n",
        "tam_lote = 30 \n",
        "\n",
        "#Especificar os recurso e rótulos \n",
        "meus_recurso = \"total_rooms\" #número total de quartos em uma cidade específica\n",
        "meus_rotulo = \"median_house_value\" #Valor mediano de uma casa espécifica por bloco\n",
        "#ou seja, criamos um modelo que prevê o valor da casa com base apenas no total de quartos\n",
        "\n",
        "#Descartar qualquer versão pré-existente do modelo\n",
        "meu_modelo = None\n",
        "\n",
        "#invocando as funções\n",
        "meu_modelo = contruindo_modelo(taxa_aprendizado)\n",
        "peso, vies, epochs, rmse = treinando_modelo(meu_modelo, meu_dataframe,\n",
        "                                            meus_recurso, meus_rotulo,\n",
        "                                            epochs, tam_lote)\n",
        "\n",
        "print(\"\\n Peso aprendido para o modelo é %.4f\" % peso)\n",
        "print(\"\\n Viés aprendido para o modelo é %.4f\" % vies)\n",
        "\n",
        "plot_modelo(peso, vies, meus_recurso, meus_rotulo)\n",
        "plot_curva_perda(epochs, rmse)\n"
      ],
      "execution_count": 0,
      "outputs": []
    },
    {
      "cell_type": "markdown",
      "metadata": {
        "id": "iNdRgFqbmSsM",
        "colab_type": "text"
      },
      "source": [
        "##Use o modelo para fazer previsões\n",
        "Você pode usar o modelo treinado para fazer previsões. Na prática, você deve fazer previsões sobre exemplos que não são usados ​​no treinamento . No entanto, para este exercício, você apenas trabalhará com um subconjunto do mesmo conjunto de dados de treinamento. Um exercício posterior da Colab explorará maneiras de fazer previsões sobre exemplos não utilizados no treinamento.\n",
        "Definir a função de previsão para valor da casa:"
      ]
    },
    {
      "cell_type": "code",
      "metadata": {
        "id": "XMNxatx-msqJ",
        "colab_type": "code",
        "colab": {}
      },
      "source": [
        "def prever_valor_casa(n, recurso, rotulo):\n",
        "  lote = meu_dataframe[recurso][10000:10000 + n]\n",
        "  valores_previsto = meu_modelo.predict_on_batch(x=lote)\n",
        "\n",
        "  print(\"Rótulo de recurso previsto\")\n",
        "  print(\"valor valor valor\")\n",
        "  print(\"Em milhares de dólares em milhares de dólares\")\n",
        "  print(\"---------------------------------------------\")\n",
        "  for i in range(n):\n",
        "    print(\"%5.0f %6.0f %15.0f\" % (meu_dataframe[recurso][i],\n",
        "                                  meu_dataframe[rotulo],\n",
        "                                  valores_previsto[i][0] ))\n",
        "    \n"
      ],
      "execution_count": 0,
      "outputs": []
    },
    {
      "cell_type": "markdown",
      "metadata": {
        "id": "UO_LjafposaM",
        "colab_type": "text"
      },
      "source": [
        "Agora chamar a função de previsão do valor da casa em 10 exemplos"
      ]
    },
    {
      "cell_type": "code",
      "metadata": {
        "id": "iHmZECgTpIY-",
        "colab_type": "code",
        "colab": {}
      },
      "source": [
        "prever_valor_casa(10, meus_recurso, meus_rotulo)"
      ],
      "execution_count": 0,
      "outputs": []
    },
    {
      "cell_type": "markdown",
      "metadata": {
        "id": "cXXakzBusKY5",
        "colab_type": "text"
      },
      "source": [
        "##Tarefa 1: Experimente um recurso diferente\n",
        "O recurso ´total_rooms´ tinha apenas um pouco de poder preditivo. Um recurso diferente teria maior poder preditivo? Tente usar ´population´ como recurso em vez de ´total_rooms´.\n",
        "\n",
        "Nota: Ao alterar os recursos, também pode ser necessário alterar os hiperparâmetros."
      ]
    },
    {
      "cell_type": "code",
      "metadata": {
        "id": "OKS7nmhAsw09",
        "colab_type": "code",
        "colab": {}
      },
      "source": [
        "meus_recurso = \"population\"\n",
        "taxa_aprendizado = 0.05\n",
        "epochs =18\n",
        "tam_lote = 3\n",
        "meu_modelo = contruindo_modelo(taxa_aprendizado)\n",
        "\n",
        "peso, vies, epochs, rmse = treinando_modelo(meu_modelo, meu_dataframe,\n",
        "                                            meus_recurso, meus_rotulo,\n",
        "                                            epochs, tam_lote)\n",
        "\n",
        "plot_modelo(peso, vies, meus_recurso, meus_rotulo)\n",
        "plot_curva_perda(epochs, rmse)\n",
        "\n",
        "prever_valor_casa(10, meus_recurso, meus_rotulo)\n"
      ],
      "execution_count": 0,
      "outputs": []
    },
    {
      "cell_type": "markdown",
      "metadata": {
        "id": "UljwcmSnxhOu",
        "colab_type": "text"
      },
      "source": [
        "#Tarefa 2: Criar um recurso sintético\n",
        "Vimos que total_roomse e population não era um recurso útil. Ou seja, nem o número total de quartos em um bairro nem a população do bairro previram com sucesso o preço médio da habitação desse bairro. Talvez a proporção de total_roomspara populationpossa ter algum poder preditivo. Ou seja, talvez a densidade de blocos esteja relacionada ao valor médio da casa.\n",
        "\n",
        "Para explorar essa hipótese, faça o seguinte:\n",
        "1. Criar um recurso sintético\n",
        "2. Ajuste os três hiperparâmetros.\n",
        "3. Determine se esse recurso sintético produz um valor de perda menor do que qualquer um dos recursos individuais que você tentou anteriormente neste exercício."
      ]
    },
    {
      "cell_type": "code",
      "metadata": {
        "id": "RiuD9dCQ9gH9",
        "colab_type": "code",
        "colab": {}
      },
      "source": [
        "meu_dataframe = [\"rooms_per_person\"] = meu_dataframe[\"total_rooms\"] / meu_dataframe[\"population\"]\n",
        "meus_recurso = \"rooms_per_person\"\n",
        "\n",
        "taxa_aprendizado = 0.06\n",
        "epochs = 24\n",
        "tam_lote = 30\n",
        "\n",
        "meu_modelo = contruindo_modelo(taxa_aprendizado)\n",
        "\n",
        "peso, vies, epochs, rmse = treinando_modelo(meu_modelo, meu_dataframe,\n",
        "                                            meus_recurso, meus_rotulo,\n",
        "                                            epochs, tam_lote)\n",
        "\n",
        "plot_modelo(peso, vies, meus_recurso, meus_rotulo)\n",
        "plot_curva_perda(epochs, rmse)\n",
        "\n",
        "prever_valor_casa(10, meus_recurso, meus_rotulo)"
      ],
      "execution_count": 0,
      "outputs": []
    },
    {
      "cell_type": "markdown",
      "metadata": {
        "id": "kO6iWhb--Zy0",
        "colab_type": "text"
      },
      "source": [
        "Com base nos valores de perda, esse recurso sintético produz um modelo melhor do que os recursos individuais que você tentou. No entanto, o modelo ainda não está criando ótimas previsões."
      ]
    },
    {
      "cell_type": "markdown",
      "metadata": {
        "id": "H844E4o7-kg_",
        "colab_type": "text"
      },
      "source": [
        "##Tarefa 3: Encontre os recursos cujos valores brutos se correlacionam com o rótulo\n",
        "Até agora, contamos com tentativa e erro para identificar possíveis recursos para o modelo. Vamos confiar nas estatísticas.\n",
        "\n",
        "Uma matriz de correlação indica como os valores brutos de cada atributo se relacionam com os valores brutos dos outros atributos. Os valores de correlação têm os seguintes significados:\n",
        "\n",
        "* `1.0`: correlação positiva perfeita; isto é, quando um atributo aumenta, o outro atributo aumenta.\n",
        "* `-1.0`: correlação negativa perfeita; isto é, quando um atributo aumenta, o outro atributo cai.\n",
        "* `0.0`:  nenhuma correlação; as duas colunas não são linearmente relacionadas .\n",
        "Em geral, quanto maior o valor absoluto de um valor de correlação, maior seu poder preditivo. Por exemplo, um valor de correlação de -0,8 implica muito mais poder preditivo do que uma correlação de -0,2.\n",
        "\n",
        "A célula de código a seguir gera a matriz de correlação para atributos do Conjunto de Dados de Habitação da Califórnia:"
      ]
    },
    {
      "cell_type": "code",
      "metadata": {
        "id": "JPpA5jMe-i1n",
        "colab_type": "code",
        "colab": {}
      },
      "source": [
        "meu_dataframe.corr()"
      ],
      "execution_count": 0,
      "outputs": []
    },
    {
      "cell_type": "code",
      "metadata": {
        "id": "JZSRo3OjI0av",
        "colab_type": "code",
        "colab": {}
      },
      "source": [
        "\n",
        "meus_recurso = \"median_income\"\n",
        "\n",
        "taxa_aprendizado = 0.06\n",
        "epochs = 24\n",
        "tam_lote = 30\n",
        "\n",
        "meu_modelo = contruindo_modelo(taxa_aprendizado)\n",
        "\n",
        "peso, vies, epochs, rmse = treinando_modelo(meu_modelo, meu_dataframe,\n",
        "                                            meus_recurso, meus_rotulo,\n",
        "                                            epochs, tam_lote)\n",
        "\n",
        "plot_modelo(peso, vies, meus_recurso, meus_rotulo)\n",
        "plot_curva_perda(epochs, rmse)\n",
        "\n",
        "prever_valor_casa(10, meus_recurso, meus_rotulo)"
      ],
      "execution_count": 0,
      "outputs": []
    },
    {
      "cell_type": "markdown",
      "metadata": {
        "id": "Trsz4ESu_x4u",
        "colab_type": "text"
      },
      "source": [
        "\n",
        "O recurso `median_income` correlaciona 0.7 com o rótulo\n",
        "(median_house_value), então median_income` pode ser um\n",
        "bom recurso. As outras sete características possíveis\n",
        "todos têm uma correlação relativamente próxima de 0.\n",
        "\n"
      ]
    }
  ]
}
