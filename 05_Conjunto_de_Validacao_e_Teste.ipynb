{
  "nbformat": 4,
  "nbformat_minor": 0,
  "metadata": {
    "colab": {
      "name": "Conjunto_de_Validacao_e_Teste.ipynb",
      "provenance": [],
      "authorship_tag": "ABX9TyNyGpZBS5KPBXGzTMf8/kAc",
      "include_colab_link": true
    },
    "kernelspec": {
      "name": "python3",
      "display_name": "Python 3"
    }
  },
  "cells": [
    {
      "cell_type": "markdown",
      "metadata": {
        "id": "view-in-github",
        "colab_type": "text"
      },
      "source": [
        "<a href=\"https://colab.research.google.com/github/julianox5/Exercicios-Programacao-Curso-Machine-Learning-do-GoogleDevelopers/blob/master/05_Conjunto_de_Validacao_e_Teste.ipynb\" target=\"_parent\"><img src=\"https://colab.research.google.com/assets/colab-badge.svg\" alt=\"Open In Colab\"/></a>"
      ]
    },
    {
      "cell_type": "markdown",
      "metadata": {
        "id": "KmeKPmPcq6Tf",
        "colab_type": "text"
      },
      "source": [
        "##Conjunto de validação e conjunto de teste\n",
        "Os exercícios anteriores da Colab avaliaram o modelo treinado em relação ao conjunto de treinamento, o que não fornece um sinal forte sobre a qualidade do seu modelo. Neste Colab, você experimentará conjuntos de validação e conjuntos de testes."
      ]
    },
    {
      "cell_type": "markdown",
      "metadata": {
        "id": "YuMIJ-TerN0i",
        "colab_type": "text"
      },
      "source": [
        "## Objetivos de aprendizado\n",
        "Depois deste Colab, você saberá como fazer o seguinte:\n",
        "* Dividir um conjunto de treinamento em um conjunto menor de treinamento e um conjunto de validação.\n",
        "* Analise deltas entre os resultados do conjunto de treinamento e do conjunto de validação.\n",
        "* Testar o modelo treinado com um conjunto de testes para determinar se seu modelo treinado está se ajustando demais.\n",
        "* Detectar e corrigir um problema de treinamento comum."
      ]
    },
    {
      "cell_type": "markdown",
      "metadata": {
        "id": "1vvSuluiwkJk",
        "colab_type": "text"
      },
      "source": [
        "## O conjunto de dados\n",
        "Como no exercício anterior, este exercício usa o conjunto de dados da California Housing para prever o `median_house_value`. Como muitos conjuntos de dados \"famosos\", o California Housing Dataset na verdade consiste em dois conjuntos de dados separados, cada um vivendo em arquivos .csv separados:\n",
        "* O conjunto de treinamento é `california_housing_train.csv`\n",
        "* O conjunto de teste é `california_housing_test.csv`\n",
        "\n",
        "Vamos criar o conjunto de validação dividindo o conjunto de treinamento baixado em duas partes:\n",
        "* Um conjunto de treinamento menor\n",
        "* Um conjunto de validação\n"
      ]
    },
    {
      "cell_type": "markdown",
      "metadata": {
        "id": "vlixNp4JxoUV",
        "colab_type": "text"
      },
      "source": [
        "## Usar a versão correta do TensorFlow\n"
      ]
    },
    {
      "cell_type": "code",
      "metadata": {
        "id": "gLIE0Yu6xwMk",
        "colab_type": "code",
        "colab": {}
      },
      "source": [
        "%tensorflow_version 2.x "
      ],
      "execution_count": 0,
      "outputs": []
    },
    {
      "cell_type": "markdown",
      "metadata": {
        "id": "Vnofg3n3x6KE",
        "colab_type": "text"
      },
      "source": [
        "## Importar modúlos nescessários\n",
        "Essa primeira célula de código importa os módulos necessários e define algumas opções de exibição."
      ]
    },
    {
      "cell_type": "code",
      "metadata": {
        "id": "b3d7gDJtyMOn",
        "colab_type": "code",
        "colab": {}
      },
      "source": [
        "import tensorflow as tf\n",
        "import numpy as np\n",
        "import pandas as pd\n",
        "from matplotlib import pyplot as plt\n",
        "\n",
        "pd.options.display.max_rows = 10\n",
        "pd.options.display.float_format = \"{:.1f}\".format"
      ],
      "execution_count": 0,
      "outputs": []
    },
    {
      "cell_type": "markdown",
      "metadata": {
        "id": "xyfsHOa_zO6a",
        "colab_type": "text"
      },
      "source": [
        "##Carregar os conjuntos de dados da Internet\n",
        "Carregando os arquivos .csv separados e criando os dois DataFrames do pandas a seguir:\n",
        "* Conjunto de treinamento `df_treinamento`\n",
        "* Conjunto de teste `df_test`\n"
      ]
    },
    {
      "cell_type": "code",
      "metadata": {
        "id": "6xMA71EAzorW",
        "colab_type": "code",
        "colab": {}
      },
      "source": [
        "df_treinamento = pd.read_csv(\"https://download.mlcc.google.com/mledu-datasets/california_housing_train.csv\")\n",
        "df_teste        = pd.read_csv(\"https://download.mlcc.google.com/mledu-datasets/california_housing_test.csv\")\n"
      ],
      "execution_count": 0,
      "outputs": []
    },
    {
      "cell_type": "markdown",
      "metadata": {
        "id": "6WUhuRR806Pm",
        "colab_type": "text"
      },
      "source": [
        "##Escalar os valores dos rótulos\n",
        "Dimensionando o median_house_value. Veja o exercício anterior da Colab para obter detalhes.\n"
      ]
    },
    {
      "cell_type": "code",
      "metadata": {
        "id": "kKMVLuFi1D31",
        "colab_type": "code",
        "colab": {}
      },
      "source": [
        "df_treinamento[\"median_house_value\"] /= 1000.0\n",
        "df_teste[\"median_house_value\"] /= 1000.0"
      ],
      "execution_count": 0,
      "outputs": []
    },
    {
      "cell_type": "markdown",
      "metadata": {
        "id": "AQhNDkKQ1hb5",
        "colab_type": "text"
      },
      "source": [
        "\n",
        "Carregar as funções para construir e treinar um modelo\n",
        "\n",
        "> Indented block\n",
        "\n"
      ]
    },
    {
      "cell_type": "code",
      "metadata": {
        "id": "tmllTeXN2u_Y",
        "colab_type": "code",
        "colab": {
          "base_uri": "https://localhost:8080/",
          "height": 35
        },
        "outputId": "747a9d0a-bec8-4ec0-e2ce-834b6785b642"
      },
      "source": [
        "def contruir_modelo(tx_aprendizado):\n",
        "\n",
        "  modelo = tf.keras.models.Sequential()\n",
        "\n",
        "  modelo.add(tf.keras.layers.Dense(units=1,\n",
        "                                   input_shape=(1,)))\n",
        "\n",
        "  modelo.compile(optmizer=tf.keras.optmizers.RMSprop(lr=tx_aprendizado,\n",
        "                                                     loss=\"mean_squared_error\",\n",
        "                                                     metrics=[tf.keras.metrics.RootMeanSquaredError()]))\n",
        "  return modelo\n",
        "\n",
        "def treinar_modelo(modelo, df, recurso, rotulo,epocas, tam_lote=None, div_validacao=0.1):\n",
        "  \n",
        "  history = modelo.fit(x=recurso, y = rotulo,\n",
        "                       epochs = epocas, batch = tam_lote, \n",
        "                       validation_split = div_validacao)\n",
        "  \n",
        "  peso_treinado = modelo.get_weights()[0]\n",
        "  vies_treinado = modelo.get_weights()[1]\n",
        "\n",
        "  epochs = history.epoch\n",
        "\n",
        "  hist = pd.DataFrame(history.history)\n",
        "  rmse = hist[\"root_mean_squared_error\"]\n",
        "\n",
        "  return epochs, rmse, history.history \n",
        "\n",
        "print(\"Ok!\")"
      ],
      "execution_count": 7,
      "outputs": [
        {
          "output_type": "stream",
          "text": [
            "Ok!\n"
          ],
          "name": "stdout"
        }
      ]
    }
  ]
}
