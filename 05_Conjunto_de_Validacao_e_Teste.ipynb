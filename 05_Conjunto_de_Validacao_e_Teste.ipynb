{
  "nbformat": 4,
  "nbformat_minor": 0,
  "metadata": {
    "colab": {
      "name": "05_Conjunto_de_Validacao_e_Teste.ipynb",
      "provenance": [],
      "authorship_tag": "ABX9TyNZRYwVoU+bpGgWKOKe0G15",
      "include_colab_link": true
    },
    "kernelspec": {
      "name": "python3",
      "display_name": "Python 3"
    }
  },
  "cells": [
    {
      "cell_type": "markdown",
      "metadata": {
        "id": "view-in-github",
        "colab_type": "text"
      },
      "source": [
        "<a href=\"https://colab.research.google.com/github/julianox5/Exercicios-Programacao-Curso-Machine-Learning-do-GoogleDevelopers/blob/master/05_Conjunto_de_Validacao_e_Teste.ipynb\" target=\"_parent\"><img src=\"https://colab.research.google.com/assets/colab-badge.svg\" alt=\"Open In Colab\"/></a>"
      ]
    },
    {
      "cell_type": "markdown",
      "metadata": {
        "id": "KmeKPmPcq6Tf",
        "colab_type": "text"
      },
      "source": [
        "##Conjunto de validação e de teste\n",
        "Os exercícios anteriores da Colab avaliaram o modelo treinado em relação ao conjunto de treinamento, o que não fornece um sinal forte sobre a qualidade do seu modelo. Neste Colab, você experimentará conjuntos de validação e conjuntos de testes."
      ]
    },
    {
      "cell_type": "markdown",
      "metadata": {
        "id": "YuMIJ-TerN0i",
        "colab_type": "text"
      },
      "source": [
        "## Objetivos de aprendizado\n",
        "Depois deste Colab, você saberá como fazer o seguinte:\n",
        "* Dividir um conjunto de treinamento em um conjunto menor de treinamento e um conjunto de validação.\n",
        "* Analise deltas entre os resultados do conjunto de treinamento e do conjunto de validação.\n",
        "* Testar o modelo treinado com um conjunto de testes para determinar se seu modelo treinado está se ajustando demais.\n",
        "* Detectar e corrigir um problema de treinamento comum."
      ]
    },
    {
      "cell_type": "markdown",
      "metadata": {
        "id": "1vvSuluiwkJk",
        "colab_type": "text"
      },
      "source": [
        "## O conjunto de dados\n",
        "Como no exercício anterior, este exercício usa o conjunto de dados da California Housing para prever o `median_house_value`. Como muitos conjuntos de dados \"famosos\", o California Housing Dataset na verdade consiste em dois conjuntos de dados separados, cada um vivendo em arquivos .csv separados:\n",
        "* O conjunto de treinamento é `california_housing_train.csv`\n",
        "* O conjunto de teste é `california_housing_test.csv`\n",
        "\n",
        "Vamos criar o conjunto de validação dividindo o conjunto de treinamento baixado em duas partes:\n",
        "* Um conjunto de treinamento menor\n",
        "* Um conjunto de validação\n"
      ]
    },
    {
      "cell_type": "markdown",
      "metadata": {
        "id": "vlixNp4JxoUV",
        "colab_type": "text"
      },
      "source": [
        "## Usar a versão correta do TensorFlow\n"
      ]
    },
    {
      "cell_type": "code",
      "metadata": {
        "id": "gLIE0Yu6xwMk",
        "colab_type": "code",
        "colab": {}
      },
      "source": [
        "%tensorflow_version 2.x "
      ],
      "execution_count": 0,
      "outputs": []
    },
    {
      "cell_type": "markdown",
      "metadata": {
        "id": "Vnofg3n3x6KE",
        "colab_type": "text"
      },
      "source": [
        "## Importar modúlos nescessários\n",
        "Essa primeira célula de código importa os módulos necessários e define algumas opções de exibição."
      ]
    },
    {
      "cell_type": "code",
      "metadata": {
        "id": "b3d7gDJtyMOn",
        "colab_type": "code",
        "colab": {}
      },
      "source": [
        "import tensorflow as tf\n",
        "import numpy as np\n",
        "import pandas as pd\n",
        "from matplotlib import pyplot as plt\n",
        "\n",
        "pd.options.display.max_rows = 10\n",
        "pd.options.display.float_format = \"{:.1f}\".format"
      ],
      "execution_count": 0,
      "outputs": []
    },
    {
      "cell_type": "markdown",
      "metadata": {
        "id": "xyfsHOa_zO6a",
        "colab_type": "text"
      },
      "source": [
        "##Carregar os conjuntos de dados da Internet\n",
        "Carregando os arquivos .csv separados e criando os dois DataFrames do pandas a seguir:\n",
        "* Conjunto de treinamento `df_treinamento`\n",
        "* Conjunto de teste `df_test`\n"
      ]
    },
    {
      "cell_type": "code",
      "metadata": {
        "id": "6xMA71EAzorW",
        "colab_type": "code",
        "colab": {}
      },
      "source": [
        "df_treinamento = pd.read_csv(\"https://download.mlcc.google.com/mledu-datasets/california_housing_train.csv\")\n",
        "df_teste       = pd.read_csv(\"https://download.mlcc.google.com/mledu-datasets/california_housing_test.csv\")\n"
      ],
      "execution_count": 0,
      "outputs": []
    },
    {
      "cell_type": "markdown",
      "metadata": {
        "id": "6WUhuRR806Pm",
        "colab_type": "text"
      },
      "source": [
        "##Escalar os valores dos rótulos\n",
        "Dimensionando o median_house_value. Veja o exercício anterior da Colab para obter detalhes.\n"
      ]
    },
    {
      "cell_type": "code",
      "metadata": {
        "id": "kKMVLuFi1D31",
        "colab_type": "code",
        "colab": {}
      },
      "source": [
        "escalar = 1000.0\n",
        "df_treinamento[\"median_house_value\"] /= escalar\n",
        "df_teste[\"median_house_value\"] /= escalar"
      ],
      "execution_count": 0,
      "outputs": []
    },
    {
      "cell_type": "markdown",
      "metadata": {
        "id": "AQhNDkKQ1hb5",
        "colab_type": "text"
      },
      "source": [
        "\n",
        "Carregar as funções para construir e treinar um modelo\n",
        "\n",
        "\n",
        "\n"
      ]
    },
    {
      "cell_type": "code",
      "metadata": {
        "id": "tmllTeXN2u_Y",
        "colab_type": "code",
        "outputId": "92db0841-7d15-4298-c0c3-5c21bfaaf27a",
        "colab": {
          "base_uri": "https://localhost:8080/",
          "height": 35
        }
      },
      "source": [
        "def contruir_modelo(tx_aprendizado):\n",
        "\n",
        "  modelo = tf.keras.models.Sequential()\n",
        " \n",
        "  modelo.add(tf.keras.layers.Dense(units=1,\n",
        "                                   input_shape=(1,)))\n",
        "  \n",
        "  modelo.compile(optimizer=tf.keras.optimizers.RMSprop(lr=tx_aprendizado),\n",
        "                 loss=\"mean_squared_error\",\n",
        "                 metrics=[tf.keras.metrics.RootMeanSquaredError()])\n",
        "  return modelo\n",
        "\n",
        "def treinar_modelo(modelo, df, recurso, rotulo,epocas, tam_lote=None, div_validacao=0.1):\n",
        "  \n",
        "  history = modelo.fit(x=df[recurso], \n",
        "                       y = df[rotulo],\n",
        "                       epochs = epocas, \n",
        "                       batch_size = tam_lote, \n",
        "                       validation_split = div_validacao)\n",
        "  \n",
        "  peso_treinado = modelo.get_weights()[0]\n",
        "  vies_treinado = modelo.get_weights()[1]\n",
        "\n",
        "  epochs = history.epoch\n",
        "\n",
        "  hist = pd.DataFrame(history.history)\n",
        "  rmse = hist[\"root_mean_squared_error\"]\n",
        "\n",
        "  return epochs, rmse, history.history \n",
        "\n",
        "print(\"Ok!\")"
      ],
      "execution_count": 64,
      "outputs": [
        {
          "output_type": "stream",
          "text": [
            "Ok!\n"
          ],
          "name": "stdout"
        }
      ]
    },
    {
      "cell_type": "markdown",
      "metadata": {
        "id": "52LkyZtz4EZb",
        "colab_type": "text"
      },
      "source": [
        "## Definir Funções de plotagem\n",
        "A função `plot_curva_perda` plota perda versus época para o conjunto de treinamento e o conjunto de validação\n"
      ]
    },
    {
      "cell_type": "code",
      "metadata": {
        "id": "yPtUfwqsPaZK",
        "colab_type": "code",
        "outputId": "eff12ef3-e97d-4fe1-e49c-49c78c0c0a99",
        "colab": {
          "base_uri": "https://localhost:8080/",
          "height": 35
        }
      },
      "source": [
        "def plot_curva_perda(epochs, mae_training, mae_validation):\n",
        "  \n",
        "  plt.figure()\n",
        "  plt.xlabel(\"Epoch\")\n",
        "  plt.ylabel(\"Root Mean Squared Error\")\n",
        "\n",
        "  plt.plot(epochs[1:], mae_training[1:], label=\"Training Loss\")\n",
        "  plt.plot(epochs[1:], mae_validation[1:], label=\"Validation Loss\")\n",
        "  plt.legend()\n",
        "  \n",
        "  # Não vamos traçar a primeira época, já qua perda na primeira época\n",
        "  # geralmente é substancialmente maior que a perda para outras épocas.\n",
        "  merged_mae_lists = mae_training[1:] + mae_validation[1:]\n",
        "  highest_loss = max(merged_mae_lists)\n",
        "  lowest_loss = min(merged_mae_lists)\n",
        "  delta = highest_loss - lowest_loss\n",
        "  print(delta)\n",
        "\n",
        "  top_of_y_axis = highest_loss + (delta * 0.05)\n",
        "  bottom_of_y_axis = lowest_loss - (delta * 0.05)\n",
        "   \n",
        "  plt.ylim([bottom_of_y_axis, top_of_y_axis])\n",
        "  plt.show()  \n",
        "\n",
        "print(\"Definida função para plotar gráfico da curva de perda!\")"
      ],
      "execution_count": 65,
      "outputs": [
        {
          "output_type": "stream",
          "text": [
            "Definida função para plotar gráfico da curva de perda!\n"
          ],
          "name": "stdout"
        }
      ]
    },
    {
      "cell_type": "markdown",
      "metadata": {
        "id": "tPWjdvkGZKda",
        "colab_type": "text"
      },
      "source": [
        "## Tarefa 1: Experiência com a divisão de validação\n",
        "Na célula de código a seguir, você verá uma variável denominada `validacao_div`, que inicializamos em 0,2. A variável `validacao_div` especifica a proporção do conjunto de treinamento original que servirá como o conjunto de validação. O conjunto de treinamento original contém 17.000 exemplos. Portanto, um `validacao_div` 0,2 significa que:\n",
        "* 17.000 * 0,2 ~ = 3.400 exemplos se tornarão o conjunto de validação.\n",
        "* 17.000 * 0,8 ~ = 13.600 exemplos se tornarão o novo conjunto de treinamento.\n",
        "\n",
        "O código a seguir cria um modelo, o treina no conjunto de treinamento e avalia o modelo criado em ambos:\n",
        "* Conjunto de treinamento\n",
        "* Conjunto de validacao\n",
        "\n",
        "Se os dados no conjunto de treinamento forem semelhantes aos dados no conjunto de validação, as duas curvas de perda e os valores de perda final deverão ser quase idênticos. No entanto, as curvas de perda e os valores de perda final não são quase idênticos. Hmm, isso é estranho.\n",
        "\n",
        "Experimente com dois ou três valores diferentes de `validacao_div`. Valores diferentes de `validacao_div`correção do problema?"
      ]
    },
    {
      "cell_type": "code",
      "metadata": {
        "id": "OeX7NgPaaVK7",
        "colab_type": "code",
        "outputId": "ca925e7b-3765-4c17-d300-57bf0ba5c973",
        "colab": {
          "base_uri": "https://localhost:8080/",
          "height": 1000
        }
      },
      "source": [
        "# Definindo os hiperparâmetros\n",
        "tx_aprendizado = 0.08\n",
        "epochs = 30 \n",
        "tam_lote = 100\n",
        "\n",
        "#dividindo o conjunto de treinamento original em um conjunto reduzido e um \n",
        "#conjunto de treinamento\n",
        "validacao_div = 0.2\n",
        "\n",
        "#identifica o recurso e o rótulo \n",
        "meu_recurso = \"median_income\" # renda media em um quarteirao específico\n",
        "meu_rotulo  = \"median_house_value\" # o valor medio de uma casa em uma cidade expecífica por bloco\n",
        "# Vamos criar um modelo que prevê o valor da casa com base na renda media do bairro\n",
        "\n",
        "# descartar qualquer versão pré-existente do modelo.\n",
        "meu_modelo = None\n",
        "\n",
        "# invocar as funções para criar e treinar o modelo\n",
        "meu_modelo = contruir_modelo(tx_aprendizado)\n",
        "\n",
        "epochs, rmse, history = treinar_modelo(meu_modelo, df_treinamento, \n",
        "                                       meu_recurso, meu_rotulo,\n",
        "                                       epochs, tam_lote,\n",
        "                                       validacao_div)\n",
        "\n",
        "plot_curva_perda(epochs, history[\"root_mean_squared_error\"], \n",
        "                    history[\"val_root_mean_squared_error\"])"
      ],
      "execution_count": 73,
      "outputs": [
        {
          "output_type": "stream",
          "text": [
            "Epoch 1/30\n",
            "136/136 [==============================] - 0s 2ms/step - loss: 0.0645 - root_mean_squared_error: 0.2540 - val_loss: 0.0536 - val_root_mean_squared_error: 0.2316\n",
            "Epoch 2/30\n",
            "136/136 [==============================] - 0s 1ms/step - loss: 0.0482 - root_mean_squared_error: 0.2194 - val_loss: 0.0335 - val_root_mean_squared_error: 0.1829\n",
            "Epoch 3/30\n",
            "136/136 [==============================] - 0s 1ms/step - loss: 0.0479 - root_mean_squared_error: 0.2188 - val_loss: 0.0262 - val_root_mean_squared_error: 0.1619\n",
            "Epoch 4/30\n",
            "136/136 [==============================] - 0s 1ms/step - loss: 0.0474 - root_mean_squared_error: 0.2177 - val_loss: 0.0704 - val_root_mean_squared_error: 0.2653\n",
            "Epoch 5/30\n",
            "136/136 [==============================] - 0s 1ms/step - loss: 0.0492 - root_mean_squared_error: 0.2218 - val_loss: 0.0983 - val_root_mean_squared_error: 0.3135\n",
            "Epoch 6/30\n",
            "136/136 [==============================] - 0s 1ms/step - loss: 0.0471 - root_mean_squared_error: 0.2169 - val_loss: 0.0239 - val_root_mean_squared_error: 0.1547\n",
            "Epoch 7/30\n",
            "136/136 [==============================] - 0s 1ms/step - loss: 0.0477 - root_mean_squared_error: 0.2184 - val_loss: 0.0417 - val_root_mean_squared_error: 0.2041\n",
            "Epoch 8/30\n",
            "136/136 [==============================] - 0s 1ms/step - loss: 0.0485 - root_mean_squared_error: 0.2203 - val_loss: 0.0835 - val_root_mean_squared_error: 0.2889\n",
            "Epoch 9/30\n",
            "136/136 [==============================] - 0s 1ms/step - loss: 0.0474 - root_mean_squared_error: 0.2176 - val_loss: 0.0692 - val_root_mean_squared_error: 0.2630\n",
            "Epoch 10/30\n",
            "136/136 [==============================] - 0s 1ms/step - loss: 0.0475 - root_mean_squared_error: 0.2181 - val_loss: 0.1428 - val_root_mean_squared_error: 0.3780\n",
            "Epoch 11/30\n",
            "136/136 [==============================] - 0s 1ms/step - loss: 0.0494 - root_mean_squared_error: 0.2223 - val_loss: 0.0182 - val_root_mean_squared_error: 0.1349\n",
            "Epoch 12/30\n",
            "136/136 [==============================] - 0s 1ms/step - loss: 0.0460 - root_mean_squared_error: 0.2144 - val_loss: 0.0413 - val_root_mean_squared_error: 0.2031\n",
            "Epoch 13/30\n",
            "136/136 [==============================] - 0s 1ms/step - loss: 0.0490 - root_mean_squared_error: 0.2213 - val_loss: 0.0167 - val_root_mean_squared_error: 0.1292\n",
            "Epoch 14/30\n",
            "136/136 [==============================] - 0s 1ms/step - loss: 0.0483 - root_mean_squared_error: 0.2197 - val_loss: 0.0773 - val_root_mean_squared_error: 0.2781\n",
            "Epoch 15/30\n",
            "136/136 [==============================] - 0s 1ms/step - loss: 0.0503 - root_mean_squared_error: 0.2243 - val_loss: 0.0189 - val_root_mean_squared_error: 0.1376\n",
            "Epoch 16/30\n",
            "136/136 [==============================] - 0s 1ms/step - loss: 0.0483 - root_mean_squared_error: 0.2197 - val_loss: 0.0091 - val_root_mean_squared_error: 0.0952\n",
            "Epoch 17/30\n",
            "136/136 [==============================] - 0s 1ms/step - loss: 0.0462 - root_mean_squared_error: 0.2149 - val_loss: 0.0271 - val_root_mean_squared_error: 0.1646\n",
            "Epoch 18/30\n",
            "136/136 [==============================] - 0s 1ms/step - loss: 0.0493 - root_mean_squared_error: 0.2220 - val_loss: 0.0634 - val_root_mean_squared_error: 0.2517\n",
            "Epoch 19/30\n",
            "136/136 [==============================] - 0s 1ms/step - loss: 0.0469 - root_mean_squared_error: 0.2166 - val_loss: 0.1049 - val_root_mean_squared_error: 0.3238\n",
            "Epoch 20/30\n",
            "136/136 [==============================] - 0s 1ms/step - loss: 0.0499 - root_mean_squared_error: 0.2234 - val_loss: 0.0326 - val_root_mean_squared_error: 0.1806\n",
            "Epoch 21/30\n",
            "136/136 [==============================] - 0s 1ms/step - loss: 0.0475 - root_mean_squared_error: 0.2179 - val_loss: 0.0506 - val_root_mean_squared_error: 0.2250\n",
            "Epoch 22/30\n",
            "136/136 [==============================] - 0s 1ms/step - loss: 0.0471 - root_mean_squared_error: 0.2170 - val_loss: 0.0158 - val_root_mean_squared_error: 0.1256\n",
            "Epoch 23/30\n",
            "136/136 [==============================] - 0s 1ms/step - loss: 0.0490 - root_mean_squared_error: 0.2213 - val_loss: 0.0274 - val_root_mean_squared_error: 0.1654\n",
            "Epoch 24/30\n",
            "136/136 [==============================] - 0s 1ms/step - loss: 0.0482 - root_mean_squared_error: 0.2196 - val_loss: 0.0960 - val_root_mean_squared_error: 0.3098\n",
            "Epoch 25/30\n",
            "136/136 [==============================] - 0s 1ms/step - loss: 0.0491 - root_mean_squared_error: 0.2216 - val_loss: 0.0499 - val_root_mean_squared_error: 0.2234\n",
            "Epoch 26/30\n",
            "136/136 [==============================] - 0s 1ms/step - loss: 0.0459 - root_mean_squared_error: 0.2142 - val_loss: 0.0494 - val_root_mean_squared_error: 0.2222\n",
            "Epoch 27/30\n",
            "136/136 [==============================] - 0s 1ms/step - loss: 0.0490 - root_mean_squared_error: 0.2213 - val_loss: 0.0662 - val_root_mean_squared_error: 0.2573\n",
            "Epoch 28/30\n",
            "136/136 [==============================] - 0s 1ms/step - loss: 0.0487 - root_mean_squared_error: 0.2206 - val_loss: 0.1067 - val_root_mean_squared_error: 0.3267\n",
            "Epoch 29/30\n",
            "136/136 [==============================] - 0s 1ms/step - loss: 0.0485 - root_mean_squared_error: 0.2203 - val_loss: 0.0408 - val_root_mean_squared_error: 0.2019\n",
            "Epoch 30/30\n",
            "136/136 [==============================] - 0s 1ms/step - loss: 0.0459 - root_mean_squared_error: 0.2143 - val_loss: 0.1490 - val_root_mean_squared_error: 0.3861\n",
            "0.29086288809776306\n"
          ],
          "name": "stdout"
        },
        {
          "output_type": "display_data",
          "data": {
            "image/png": "[encoded data removed]",
            "text/plain": [
              "<Figure size 432x288 with 1 Axes>"
            ]
          },
          "metadata": {
            "tags": [],
            "needs_background": "light"
          }
        }
      ]
    },
    {
      "cell_type": "markdown",
      "metadata": {
        "id": "lpMJtgM5UxGP",
        "colab_type": "text"
      },
      "source": [
        "## Tarefa 2:Determinar por que as curvas de perda diferem\n",
        "Não importa como você divide o conjunto de treinamento e o conjunto de validação, as curvas de perda diferem significativamente. Evidentemente, os dados no conjunto de treinamento não são semelhantes o suficiente para os dados no conjunto de validação. Contra-intuitivo? Sim, mas esse problema é realmente muito comum no aprendizado de máquina.\n",
        "\n",
        "Sua tarefa é determinar por que as curvas de perda não são muito semelhantes. Como na maioria dos problemas de aprendizado de máquina, o problema está enraizado nos próprios dados. Para resolver esse mistério de por que o conjunto de treinamento e o conjunto de validação não são quase idênticos, escreva uma ou duas linhas do código pandas na célula de código a seguir."
      ]
    },
    {
      "cell_type": "markdown",
      "metadata": {
        "id": "61ccU3yxWT-L",
        "colab_type": "text"
      },
      "source": [
        "R: Examine os exemplos 0 a 4 e os exemplos 25 a 29 o conjunto é classificado por longitude, aparentemente a longetude influência a relação  de `total_rooms` para `median_house_value`"
      ]
    },
    {
      "cell_type": "code",
      "metadata": {
        "id": "W4fI9-loVgg7",
        "colab_type": "code",
        "colab": {
          "base_uri": "https://localhost:8080/",
          "height": 407
        },
        "outputId": "25c8ed75-12d6-44a1-bf78-53fab99588ef"
      },
      "source": [
        "df_treinamento.head(n=30)"
      ],
      "execution_count": 52,
      "outputs": [
        {
          "output_type": "execute_result",
          "data": {
            "text/html": [
              "<div>\n",
              "<style scoped>\n",
              "    .dataframe tbody tr th:only-of-type {\n",
              "        vertical-align: middle;\n",
              "    }\n",
              "\n",
              "    .dataframe tbody tr th {\n",
              "        vertical-align: top;\n",
              "    }\n",
              "\n",
              "    .dataframe thead th {\n",
              "        text-align: right;\n",
              "    }\n",
              "</style>\n",
              "<table border=\"1\" class=\"dataframe\">\n",
              "  <thead>\n",
              "    <tr style=\"text-align: right;\">\n",
              "      <th></th>\n",
              "      <th>longitude</th>\n",
              "      <th>latitude</th>\n",
              "      <th>housing_median_age</th>\n",
              "      <th>total_rooms</th>\n",
              "      <th>total_bedrooms</th>\n",
              "      <th>population</th>\n",
              "      <th>households</th>\n",
              "      <th>median_income</th>\n",
              "      <th>median_house_value</th>\n",
              "    </tr>\n",
              "  </thead>\n",
              "  <tbody>\n",
              "    <tr>\n",
              "      <th>0</th>\n",
              "      <td>-114.3</td>\n",
              "      <td>34.2</td>\n",
              "      <td>15.0</td>\n",
              "      <td>5612.0</td>\n",
              "      <td>1283.0</td>\n",
              "      <td>1015.0</td>\n",
              "      <td>472.0</td>\n",
              "      <td>1.5</td>\n",
              "      <td>0.1</td>\n",
              "    </tr>\n",
              "    <tr>\n",
              "      <th>1</th>\n",
              "      <td>-114.5</td>\n",
              "      <td>34.4</td>\n",
              "      <td>19.0</td>\n",
              "      <td>7650.0</td>\n",
              "      <td>1901.0</td>\n",
              "      <td>1129.0</td>\n",
              "      <td>463.0</td>\n",
              "      <td>1.8</td>\n",
              "      <td>0.1</td>\n",
              "    </tr>\n",
              "    <tr>\n",
              "      <th>2</th>\n",
              "      <td>-114.6</td>\n",
              "      <td>33.7</td>\n",
              "      <td>17.0</td>\n",
              "      <td>720.0</td>\n",
              "      <td>174.0</td>\n",
              "      <td>333.0</td>\n",
              "      <td>117.0</td>\n",
              "      <td>1.7</td>\n",
              "      <td>0.1</td>\n",
              "    </tr>\n",
              "    <tr>\n",
              "      <th>3</th>\n",
              "      <td>-114.6</td>\n",
              "      <td>33.6</td>\n",
              "      <td>14.0</td>\n",
              "      <td>1501.0</td>\n",
              "      <td>337.0</td>\n",
              "      <td>515.0</td>\n",
              "      <td>226.0</td>\n",
              "      <td>3.2</td>\n",
              "      <td>0.1</td>\n",
              "    </tr>\n",
              "    <tr>\n",
              "      <th>4</th>\n",
              "      <td>-114.6</td>\n",
              "      <td>33.6</td>\n",
              "      <td>20.0</td>\n",
              "      <td>1454.0</td>\n",
              "      <td>326.0</td>\n",
              "      <td>624.0</td>\n",
              "      <td>262.0</td>\n",
              "      <td>1.9</td>\n",
              "      <td>0.1</td>\n",
              "    </tr>\n",
              "    <tr>\n",
              "      <th>...</th>\n",
              "      <td>...</td>\n",
              "      <td>...</td>\n",
              "      <td>...</td>\n",
              "      <td>...</td>\n",
              "      <td>...</td>\n",
              "      <td>...</td>\n",
              "      <td>...</td>\n",
              "      <td>...</td>\n",
              "      <td>...</td>\n",
              "    </tr>\n",
              "    <tr>\n",
              "      <th>25</th>\n",
              "      <td>-115.3</td>\n",
              "      <td>32.8</td>\n",
              "      <td>34.0</td>\n",
              "      <td>591.0</td>\n",
              "      <td>139.0</td>\n",
              "      <td>327.0</td>\n",
              "      <td>89.0</td>\n",
              "      <td>3.7</td>\n",
              "      <td>0.1</td>\n",
              "    </tr>\n",
              "    <tr>\n",
              "      <th>26</th>\n",
              "      <td>-115.4</td>\n",
              "      <td>32.8</td>\n",
              "      <td>30.0</td>\n",
              "      <td>1602.0</td>\n",
              "      <td>322.0</td>\n",
              "      <td>1130.0</td>\n",
              "      <td>335.0</td>\n",
              "      <td>3.6</td>\n",
              "      <td>0.1</td>\n",
              "    </tr>\n",
              "    <tr>\n",
              "      <th>27</th>\n",
              "      <td>-115.4</td>\n",
              "      <td>32.8</td>\n",
              "      <td>14.0</td>\n",
              "      <td>1276.0</td>\n",
              "      <td>270.0</td>\n",
              "      <td>867.0</td>\n",
              "      <td>261.0</td>\n",
              "      <td>1.9</td>\n",
              "      <td>0.1</td>\n",
              "    </tr>\n",
              "    <tr>\n",
              "      <th>28</th>\n",
              "      <td>-115.4</td>\n",
              "      <td>32.8</td>\n",
              "      <td>32.0</td>\n",
              "      <td>741.0</td>\n",
              "      <td>191.0</td>\n",
              "      <td>623.0</td>\n",
              "      <td>169.0</td>\n",
              "      <td>1.8</td>\n",
              "      <td>0.1</td>\n",
              "    </tr>\n",
              "    <tr>\n",
              "      <th>29</th>\n",
              "      <td>-115.4</td>\n",
              "      <td>32.8</td>\n",
              "      <td>23.0</td>\n",
              "      <td>1458.0</td>\n",
              "      <td>294.0</td>\n",
              "      <td>866.0</td>\n",
              "      <td>275.0</td>\n",
              "      <td>2.4</td>\n",
              "      <td>0.1</td>\n",
              "    </tr>\n",
              "  </tbody>\n",
              "</table>\n",
              "<p>30 rows × 9 columns</p>\n",
              "</div>"
            ],
            "text/plain": [
              "    longitude  latitude  ...  median_income  median_house_value\n",
              "0      -114.3      34.2  ...            1.5                 0.1\n",
              "1      -114.5      34.4  ...            1.8                 0.1\n",
              "2      -114.6      33.7  ...            1.7                 0.1\n",
              "3      -114.6      33.6  ...            3.2                 0.1\n",
              "4      -114.6      33.6  ...            1.9                 0.1\n",
              "..        ...       ...  ...            ...                 ...\n",
              "25     -115.3      32.8  ...            3.7                 0.1\n",
              "26     -115.4      32.8  ...            3.6                 0.1\n",
              "27     -115.4      32.8  ...            1.9                 0.1\n",
              "28     -115.4      32.8  ...            1.8                 0.1\n",
              "29     -115.4      32.8  ...            2.4                 0.1\n",
              "\n",
              "[30 rows x 9 columns]"
            ]
          },
          "metadata": {
            "tags": []
          },
          "execution_count": 52
        }
      ]
    },
    {
      "cell_type": "markdown",
      "metadata": {
        "id": "47mv7t6eaC3F",
        "colab_type": "text"
      },
      "source": [
        "#Tarefa 3. Corrija o problema\n",
        "Para corrigir o problema, embaralhe os exemplos no conjunto de treinamento antes de dividi-los em um conjunto de treinamento e validação. Para fazer isso, execute as seguintes etapas:\n",
        "\n",
        "1 - Embaralhe os dados no conjunto de treinamento adicionando a seguinte linha em qualquer lugar antes de ligar `df_treinamento`(na célula de código associada à Tarefa 1):\n",
        "```\n",
        "embaralhar_treinamento = df_treinamento.reindex(np.random.permutation(df_treinamento.index))\n",
        "```\n",
        "\n",
        "2 - Passe shuffled_train_df(em vez de train_df) como o segundo argumento para train_model(na chamada de código associada à Tarefa) \n",
        "\n",
        "Com o conjunto de treinamento embaralhado, a perda final do treinamento está mais próxima da perda final do conjunto de validação?\n",
        "Em que faixa de valores os valores de validacao_div perda final para o conjunto de treinamento e validação divergem significativamente? Por quê?"
      ]
    },
    {
      "cell_type": "markdown",
      "metadata": {
        "id": "JPz4vPRtmU55",
        "colab_type": "text"
      },
      "source": [
        "R: \n",
        "\n",
        "Sim, depois de embaralhar o conjunto de treinamento original, a perda final do conjunto de treinamento e da validação se torna muito mais próxima.\n",
        "\n",
        "Se validation_div <0,15,\n",
        "os valores de perda final para o conjunto de treinamento e validação divergem significativamente. Pelo visto,\n",
        "o conjunto de validação não contém mais exemplos suficientes."
      ]
    },
    {
      "cell_type": "code",
      "metadata": {
        "id": "YWlDGCAXih-b",
        "colab_type": "code",
        "colab": {
          "base_uri": "https://localhost:8080/",
          "height": 1000
        },
        "outputId": "2a205ff7-5049-4ebe-bdee-735825b9c1cb"
      },
      "source": [
        "# ** 1 ** embaralhar os dados\n",
        "embaralhar_treinamento = df_treinamento.reindex(np.random.permutation(df_treinamento.index))\n",
        "\n",
        "# **  ***\n",
        "\n",
        "# Definindo os hiperparâmetros\n",
        "tx_aprendizado = 0.08\n",
        "epochs = 70 \n",
        "tam_lote = 100\n",
        "\n",
        "#dividindo o conjunto de treinamento original em um conjunto reduzido e um \n",
        "#conjunto de treinamento\n",
        "validacao_div = 0.2\n",
        "\n",
        "#identifica o recurso e o rótulo \n",
        "meu_recurso = \"median_income\" # renda media em um quarteirao específico\n",
        "meu_rotulo  = \"median_house_value\" # o valor medio de uma casa em uma cidade expecífica por bloco\n",
        "# Vamos criar um modelo que prevê o valor da casa com base na renda media do bairro\n",
        "\n",
        "# descartar qualquer versão pré-existente do modelo.\n",
        "meu_modelo = None\n",
        "\n",
        "# invocar as funções para criar e treinar o modelo\n",
        "meu_modelo = contruir_modelo(tx_aprendizado)\n",
        "\n",
        "# ** 2 ** Pasando embaralhar_treinamento como segundo argumento da minha função\n",
        "epochs, rmse, history = treinar_modelo(meu_modelo, embaralhar_treinamento, \n",
        "                                       meu_recurso, meu_rotulo,\n",
        "                                       epochs, tam_lote,\n",
        "                                       validacao_div)\n",
        "# ** 2 ** --------------------------------------------------------------------\n",
        "\n",
        "plot_curva_perda(epochs, history[\"root_mean_squared_error\"], \n",
        "                    history[\"val_root_mean_squared_error\"])\n"
      ],
      "execution_count": 72,
      "outputs": [
        {
          "output_type": "stream",
          "text": [
            "Epoch 1/70\n",
            "136/136 [==============================] - 0s 2ms/step - loss: 0.0640 - root_mean_squared_error: 0.2530 - val_loss: 0.0281 - val_root_mean_squared_error: 0.1677\n",
            "Epoch 2/70\n",
            "136/136 [==============================] - 0s 1ms/step - loss: 0.0493 - root_mean_squared_error: 0.2221 - val_loss: 0.0236 - val_root_mean_squared_error: 0.1535\n",
            "Epoch 3/70\n",
            "136/136 [==============================] - 0s 1ms/step - loss: 0.0511 - root_mean_squared_error: 0.2261 - val_loss: 0.0172 - val_root_mean_squared_error: 0.1311\n",
            "Epoch 4/70\n",
            "136/136 [==============================] - 0s 1ms/step - loss: 0.0494 - root_mean_squared_error: 0.2222 - val_loss: 0.0114 - val_root_mean_squared_error: 0.1068\n",
            "Epoch 5/70\n",
            "136/136 [==============================] - 0s 1ms/step - loss: 0.0527 - root_mean_squared_error: 0.2295 - val_loss: 0.0220 - val_root_mean_squared_error: 0.1484\n",
            "Epoch 6/70\n",
            "136/136 [==============================] - 0s 1ms/step - loss: 0.0497 - root_mean_squared_error: 0.2229 - val_loss: 0.0849 - val_root_mean_squared_error: 0.2914\n",
            "Epoch 7/70\n",
            "136/136 [==============================] - 0s 1ms/step - loss: 0.0497 - root_mean_squared_error: 0.2230 - val_loss: 0.0284 - val_root_mean_squared_error: 0.1685\n",
            "Epoch 8/70\n",
            "136/136 [==============================] - 0s 1ms/step - loss: 0.0501 - root_mean_squared_error: 0.2239 - val_loss: 0.0228 - val_root_mean_squared_error: 0.1509\n",
            "Epoch 9/70\n",
            "136/136 [==============================] - 0s 1ms/step - loss: 0.0513 - root_mean_squared_error: 0.2265 - val_loss: 0.0137 - val_root_mean_squared_error: 0.1172\n",
            "Epoch 10/70\n",
            "136/136 [==============================] - 0s 1ms/step - loss: 0.0510 - root_mean_squared_error: 0.2258 - val_loss: 0.0344 - val_root_mean_squared_error: 0.1854\n",
            "Epoch 11/70\n",
            "136/136 [==============================] - 0s 1ms/step - loss: 0.0481 - root_mean_squared_error: 0.2193 - val_loss: 0.0277 - val_root_mean_squared_error: 0.1665\n",
            "Epoch 12/70\n",
            "136/136 [==============================] - 0s 1ms/step - loss: 0.0515 - root_mean_squared_error: 0.2270 - val_loss: 0.0071 - val_root_mean_squared_error: 0.0845\n",
            "Epoch 13/70\n",
            "136/136 [==============================] - 0s 1ms/step - loss: 0.0510 - root_mean_squared_error: 0.2257 - val_loss: 0.0111 - val_root_mean_squared_error: 0.1053\n",
            "Epoch 14/70\n",
            "136/136 [==============================] - 0s 1ms/step - loss: 0.0500 - root_mean_squared_error: 0.2237 - val_loss: 0.0708 - val_root_mean_squared_error: 0.2661\n",
            "Epoch 15/70\n",
            "136/136 [==============================] - 0s 1ms/step - loss: 0.0510 - root_mean_squared_error: 0.2259 - val_loss: 0.0221 - val_root_mean_squared_error: 0.1487\n",
            "Epoch 16/70\n",
            "136/136 [==============================] - 0s 1ms/step - loss: 0.0503 - root_mean_squared_error: 0.2242 - val_loss: 0.0619 - val_root_mean_squared_error: 0.2488\n",
            "Epoch 17/70\n",
            "136/136 [==============================] - 0s 1ms/step - loss: 0.0504 - root_mean_squared_error: 0.2245 - val_loss: 0.0448 - val_root_mean_squared_error: 0.2116\n",
            "Epoch 18/70\n",
            "136/136 [==============================] - 0s 1ms/step - loss: 0.0493 - root_mean_squared_error: 0.2219 - val_loss: 0.0111 - val_root_mean_squared_error: 0.1056\n",
            "Epoch 19/70\n",
            "136/136 [==============================] - 0s 1ms/step - loss: 0.0507 - root_mean_squared_error: 0.2251 - val_loss: 0.0377 - val_root_mean_squared_error: 0.1942\n",
            "Epoch 20/70\n",
            "136/136 [==============================] - 0s 1ms/step - loss: 0.0524 - root_mean_squared_error: 0.2290 - val_loss: 0.0514 - val_root_mean_squared_error: 0.2268\n",
            "Epoch 21/70\n",
            "136/136 [==============================] - 0s 1ms/step - loss: 0.0487 - root_mean_squared_error: 0.2207 - val_loss: 0.0175 - val_root_mean_squared_error: 0.1322\n",
            "Epoch 22/70\n",
            "136/136 [==============================] - 0s 1ms/step - loss: 0.0495 - root_mean_squared_error: 0.2225 - val_loss: 0.0098 - val_root_mean_squared_error: 0.0992\n",
            "Epoch 23/70\n",
            "136/136 [==============================] - 0s 1ms/step - loss: 0.0511 - root_mean_squared_error: 0.2259 - val_loss: 0.0859 - val_root_mean_squared_error: 0.2931\n",
            "Epoch 24/70\n",
            "136/136 [==============================] - 0s 1ms/step - loss: 0.0503 - root_mean_squared_error: 0.2243 - val_loss: 0.1083 - val_root_mean_squared_error: 0.3291\n",
            "Epoch 25/70\n",
            "136/136 [==============================] - 0s 1ms/step - loss: 0.0511 - root_mean_squared_error: 0.2259 - val_loss: 0.0145 - val_root_mean_squared_error: 0.1206\n",
            "Epoch 26/70\n",
            "136/136 [==============================] - 0s 1ms/step - loss: 0.0502 - root_mean_squared_error: 0.2240 - val_loss: 0.0269 - val_root_mean_squared_error: 0.1639\n",
            "Epoch 27/70\n",
            "136/136 [==============================] - 0s 1ms/step - loss: 0.0513 - root_mean_squared_error: 0.2266 - val_loss: 0.0652 - val_root_mean_squared_error: 0.2554\n",
            "Epoch 28/70\n",
            "136/136 [==============================] - 0s 1ms/step - loss: 0.0505 - root_mean_squared_error: 0.2247 - val_loss: 0.0205 - val_root_mean_squared_error: 0.1432\n",
            "Epoch 29/70\n",
            "136/136 [==============================] - 0s 1ms/step - loss: 0.0498 - root_mean_squared_error: 0.2232 - val_loss: 0.0795 - val_root_mean_squared_error: 0.2820\n",
            "Epoch 30/70\n",
            "136/136 [==============================] - 0s 1ms/step - loss: 0.0495 - root_mean_squared_error: 0.2224 - val_loss: 0.0975 - val_root_mean_squared_error: 0.3122\n",
            "Epoch 31/70\n",
            "136/136 [==============================] - 0s 1ms/step - loss: 0.0509 - root_mean_squared_error: 0.2255 - val_loss: 0.0666 - val_root_mean_squared_error: 0.2581\n",
            "Epoch 32/70\n",
            "136/136 [==============================] - 0s 1ms/step - loss: 0.0476 - root_mean_squared_error: 0.2181 - val_loss: 0.0197 - val_root_mean_squared_error: 0.1404\n",
            "Epoch 33/70\n",
            "136/136 [==============================] - 0s 1ms/step - loss: 0.0510 - root_mean_squared_error: 0.2257 - val_loss: 0.0208 - val_root_mean_squared_error: 0.1441\n",
            "Epoch 34/70\n",
            "136/136 [==============================] - 0s 1ms/step - loss: 0.0514 - root_mean_squared_error: 0.2267 - val_loss: 0.0214 - val_root_mean_squared_error: 0.1463\n",
            "Epoch 35/70\n",
            "136/136 [==============================] - 0s 1ms/step - loss: 0.0489 - root_mean_squared_error: 0.2212 - val_loss: 0.0656 - val_root_mean_squared_error: 0.2562\n",
            "Epoch 36/70\n",
            "136/136 [==============================] - 0s 1ms/step - loss: 0.0505 - root_mean_squared_error: 0.2247 - val_loss: 0.0824 - val_root_mean_squared_error: 0.2870\n",
            "Epoch 37/70\n",
            "136/136 [==============================] - 0s 1ms/step - loss: 0.0493 - root_mean_squared_error: 0.2221 - val_loss: 0.0551 - val_root_mean_squared_error: 0.2347\n",
            "Epoch 38/70\n",
            "136/136 [==============================] - 0s 1ms/step - loss: 0.0519 - root_mean_squared_error: 0.2277 - val_loss: 0.0826 - val_root_mean_squared_error: 0.2873\n",
            "Epoch 39/70\n",
            "136/136 [==============================] - 0s 1ms/step - loss: 0.0492 - root_mean_squared_error: 0.2218 - val_loss: 0.0546 - val_root_mean_squared_error: 0.2336\n",
            "Epoch 40/70\n",
            "136/136 [==============================] - 0s 1ms/step - loss: 0.0499 - root_mean_squared_error: 0.2234 - val_loss: 0.0145 - val_root_mean_squared_error: 0.1204\n",
            "Epoch 41/70\n",
            "136/136 [==============================] - 0s 1ms/step - loss: 0.0526 - root_mean_squared_error: 0.2293 - val_loss: 0.0989 - val_root_mean_squared_error: 0.3144\n",
            "Epoch 42/70\n",
            "136/136 [==============================] - 0s 1ms/step - loss: 0.0493 - root_mean_squared_error: 0.2220 - val_loss: 0.0666 - val_root_mean_squared_error: 0.2581\n",
            "Epoch 43/70\n",
            "136/136 [==============================] - 0s 1ms/step - loss: 0.0509 - root_mean_squared_error: 0.2256 - val_loss: 0.0145 - val_root_mean_squared_error: 0.1206\n",
            "Epoch 44/70\n",
            "136/136 [==============================] - 0s 1ms/step - loss: 0.0507 - root_mean_squared_error: 0.2252 - val_loss: 0.0107 - val_root_mean_squared_error: 0.1034\n",
            "Epoch 45/70\n",
            "136/136 [==============================] - 0s 1ms/step - loss: 0.0501 - root_mean_squared_error: 0.2239 - val_loss: 0.0347 - val_root_mean_squared_error: 0.1864\n",
            "Epoch 46/70\n",
            "136/136 [==============================] - 0s 1ms/step - loss: 0.0505 - root_mean_squared_error: 0.2247 - val_loss: 0.1373 - val_root_mean_squared_error: 0.3706\n",
            "Epoch 47/70\n",
            "136/136 [==============================] - 0s 1ms/step - loss: 0.0503 - root_mean_squared_error: 0.2244 - val_loss: 0.0195 - val_root_mean_squared_error: 0.1396\n",
            "Epoch 48/70\n",
            "136/136 [==============================] - 0s 1ms/step - loss: 0.0517 - root_mean_squared_error: 0.2274 - val_loss: 0.0070 - val_root_mean_squared_error: 0.0835\n",
            "Epoch 49/70\n",
            "136/136 [==============================] - 0s 1ms/step - loss: 0.0492 - root_mean_squared_error: 0.2217 - val_loss: 0.0235 - val_root_mean_squared_error: 0.1535\n",
            "Epoch 50/70\n",
            "136/136 [==============================] - 0s 1ms/step - loss: 0.0488 - root_mean_squared_error: 0.2209 - val_loss: 0.0546 - val_root_mean_squared_error: 0.2337\n",
            "Epoch 51/70\n",
            "136/136 [==============================] - 0s 1ms/step - loss: 0.0488 - root_mean_squared_error: 0.2210 - val_loss: 0.0297 - val_root_mean_squared_error: 0.1724\n",
            "Epoch 52/70\n",
            "136/136 [==============================] - 0s 1ms/step - loss: 0.0524 - root_mean_squared_error: 0.2290 - val_loss: 0.0312 - val_root_mean_squared_error: 0.1765\n",
            "Epoch 53/70\n",
            "136/136 [==============================] - 0s 1ms/step - loss: 0.0512 - root_mean_squared_error: 0.2262 - val_loss: 0.0882 - val_root_mean_squared_error: 0.2970\n",
            "Epoch 54/70\n",
            "136/136 [==============================] - 0s 1ms/step - loss: 0.0498 - root_mean_squared_error: 0.2231 - val_loss: 0.0515 - val_root_mean_squared_error: 0.2270\n",
            "Epoch 55/70\n",
            "136/136 [==============================] - 0s 1ms/step - loss: 0.0495 - root_mean_squared_error: 0.2226 - val_loss: 0.0309 - val_root_mean_squared_error: 0.1757\n",
            "Epoch 56/70\n",
            "136/136 [==============================] - 0s 1ms/step - loss: 0.0499 - root_mean_squared_error: 0.2234 - val_loss: 0.1305 - val_root_mean_squared_error: 0.3612\n",
            "Epoch 57/70\n",
            "136/136 [==============================] - 0s 1ms/step - loss: 0.0502 - root_mean_squared_error: 0.2240 - val_loss: 0.0624 - val_root_mean_squared_error: 0.2498\n",
            "Epoch 58/70\n",
            "136/136 [==============================] - 0s 1ms/step - loss: 0.0514 - root_mean_squared_error: 0.2268 - val_loss: 0.0166 - val_root_mean_squared_error: 0.1290\n",
            "Epoch 59/70\n",
            "136/136 [==============================] - 0s 1ms/step - loss: 0.0490 - root_mean_squared_error: 0.2212 - val_loss: 0.0955 - val_root_mean_squared_error: 0.3091\n",
            "Epoch 60/70\n",
            "136/136 [==============================] - 0s 1ms/step - loss: 0.0508 - root_mean_squared_error: 0.2255 - val_loss: 0.0606 - val_root_mean_squared_error: 0.2463\n",
            "Epoch 61/70\n",
            "136/136 [==============================] - 0s 1ms/step - loss: 0.0515 - root_mean_squared_error: 0.2270 - val_loss: 0.0336 - val_root_mean_squared_error: 0.1834\n",
            "Epoch 62/70\n",
            "136/136 [==============================] - 0s 1ms/step - loss: 0.0507 - root_mean_squared_error: 0.2251 - val_loss: 0.0071 - val_root_mean_squared_error: 0.0842\n",
            "Epoch 63/70\n",
            "136/136 [==============================] - 0s 1ms/step - loss: 0.0513 - root_mean_squared_error: 0.2265 - val_loss: 0.0391 - val_root_mean_squared_error: 0.1978\n",
            "Epoch 64/70\n",
            "136/136 [==============================] - 0s 1ms/step - loss: 0.0505 - root_mean_squared_error: 0.2248 - val_loss: 0.0591 - val_root_mean_squared_error: 0.2432\n",
            "Epoch 65/70\n",
            "136/136 [==============================] - 0s 1ms/step - loss: 0.0514 - root_mean_squared_error: 0.2267 - val_loss: 0.0621 - val_root_mean_squared_error: 0.2492\n",
            "Epoch 66/70\n",
            "136/136 [==============================] - 0s 1ms/step - loss: 0.0493 - root_mean_squared_error: 0.2220 - val_loss: 0.0127 - val_root_mean_squared_error: 0.1126\n",
            "Epoch 67/70\n",
            "136/136 [==============================] - 0s 1ms/step - loss: 0.0505 - root_mean_squared_error: 0.2247 - val_loss: 0.0178 - val_root_mean_squared_error: 0.1333\n",
            "Epoch 68/70\n",
            "136/136 [==============================] - 0s 1ms/step - loss: 0.0499 - root_mean_squared_error: 0.2233 - val_loss: 0.0333 - val_root_mean_squared_error: 0.1826\n",
            "Epoch 69/70\n",
            "136/136 [==============================] - 0s 1ms/step - loss: 0.0495 - root_mean_squared_error: 0.2226 - val_loss: 0.0162 - val_root_mean_squared_error: 0.1273\n",
            "Epoch 70/70\n",
            "136/136 [==============================] - 0s 1ms/step - loss: 0.0516 - root_mean_squared_error: 0.2271 - val_loss: 0.0340 - val_root_mean_squared_error: 0.1843\n",
            "0.28704002499580383\n"
          ],
          "name": "stdout"
        },
        {
          "output_type": "display_data",
          "data": {
            "image/png": "[encoded data removed]",
            "text/plain": [
              "<Figure size 432x288 with 1 Axes>"
            ]
          },
          "metadata": {
            "tags": [],
            "needs_background": "light"
          }
        }
      ]
    },
    {
      "cell_type": "markdown",
      "metadata": {
        "id": "UkC0l7XXmyox",
        "colab_type": "text"
      },
      "source": [
        "## Tarefa 4: use o conjunto de dados de teste para avaliar o desempenho do seu modelo\n",
        "O conjunto de testes geralmente atua como o juiz final da qualidade de um modelo. O conjunto de testes pode servir como um juiz imparcial, porque seus exemplos não foram usados ​​no treinamento do modelo. Execute a seguinte célula de código para avaliar o modelo com o conjunto de testes:\n"
      ]
    },
    {
      "cell_type": "code",
      "metadata": {
        "id": "zpRkhl7bnkQp",
        "colab_type": "code",
        "colab": {
          "base_uri": "https://localhost:8080/",
          "height": 35
        },
        "outputId": "3b21231f-66ed-4fee-9336-1fdefbfd4729"
      },
      "source": [
        "x_test = df_teste[meu_recurso]\n",
        "y_test = df_teste[meu_rotulo]\n",
        "\n",
        "resultados = meu_modelo.evaluate(x_test, y_test, batch_size = tam_lote) "
      ],
      "execution_count": 71,
      "outputs": [
        {
          "output_type": "stream",
          "text": [
            "30/30 [==============================] - 0s 1ms/step - loss: 0.0889 - root_mean_squared_error: 0.2982\n"
          ],
          "name": "stdout"
        }
      ]
    },
    {
      "cell_type": "markdown",
      "metadata": {
        "id": "QfHZg577oh9p",
        "colab_type": "text"
      },
      "source": [
        "Compare o erro quadrático médio raiz do modelo quando avaliado em cada um dos três conjuntos de dados:\n",
        "\n",
        "* conjunto de treinamento: procure root_mean_squared_errorna época final do treinamento.\n",
        "* conjunto de validação: procure val_root_mean_squared_errorna época final do treinamento.\n",
        "* conjunto de teste: execute a célula de código anterior e examine o root_mean_squred_error.\n",
        "Idealmente, o erro quadrático médio raiz dos três conjuntos deve ser semelhante. São eles?\n",
        "\n",
        "`R: Em nossos experimentos sim, os valores rmse eram semelhantes o suficiente.` \n"
      ]
    }
  ]
}