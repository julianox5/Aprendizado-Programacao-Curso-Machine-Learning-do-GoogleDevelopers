{
  "nbformat": 4,
  "nbformat_minor": 0,
  "metadata": {
    "colab": {
      "name": "06_Representação com Cruzamento de Recursos.ipynb",
      "provenance": [],
      "authorship_tag": "ABX9TyNap1FYoLz2o8gi2+53aWgR",
      "include_colab_link": true
    },
    "kernelspec": {
      "name": "python3",
      "display_name": "Python 3"
    }
  },
  "cells": [
    {
      "cell_type": "markdown",
      "metadata": {
        "id": "view-in-github",
        "colab_type": "text"
      },
      "source": [
        "<a href=\"https://colab.research.google.com/github/julianox5/Aprendizado-Programacao-Curso-Machine-Learning-do-GoogleDevelopers/blob/master/06_Representa%C3%A7%C3%A3o_com_Cruzamento_de_Recursos.ipynb\" target=\"_parent\"><img src=\"https://colab.research.google.com/assets/colab-badge.svg\" alt=\"Open In Colab\"/></a>"
      ]
    },
    {
      "cell_type": "markdown",
      "metadata": {
        "id": "E45iimQllzzl",
        "colab_type": "text"
      },
      "source": [
        "## Representação com cruzamento de recursos \n",
        "Neste exercício, vamos experimentar maneiras diferentes de representar recursos.\n",
        "\n"
      ]
    },
    {
      "cell_type": "markdown",
      "metadata": {
        "id": "ijP32f_qX9RD",
        "colab_type": "text"
      },
      "source": [
        "## Objetivo do Aprendizado com os Exercícios\n",
        "\n",
        "Depois do exercícios, vamos saber: \n",
        "* Usar o Método [`tf.feature_column`] para representar os recurso de maneiras diferentes\n",
        "* Representar recursos como `caixas` `(bins)`.\n",
        "* Usar Caixas cruzadas para criar uma feature cross.\n"
      ]
    },
    {
      "cell_type": "markdown",
      "metadata": {
        "id": "iRIyt3LTcBDp",
        "colab_type": "text"
      },
      "source": [
        "## O Conjunto de Dados\n",
        "Como os exercícios anteriores, usaremos o conjunto de dados de habitação da Califórnia "
      ]
    },
    {
      "cell_type": "markdown",
      "metadata": {
        "id": "WZAzPBrHcQhh",
        "colab_type": "text"
      },
      "source": [
        "## Usando a versão correta do TensorFlow"
      ]
    },
    {
      "cell_type": "code",
      "metadata": {
        "id": "U3_vecusceNp",
        "colab_type": "code",
        "colab": {}
      },
      "source": [
        "%tensorflow_version 2.x"
      ],
      "execution_count": 0,
      "outputs": []
    },
    {
      "cell_type": "markdown",
      "metadata": {
        "id": "uWaIydTxcus6",
        "colab_type": "text"
      },
      "source": [
        "## Chamar as instruções de importação \n",
        "O código abaixo importa os módulos necessários para executar o código que vamos criar\n",
        "\n"
      ]
    },
    {
      "cell_type": "code",
      "metadata": {
        "id": "mSml5SI-dMPc",
        "colab_type": "code",
        "colab": {
          "base_uri": "https://localhost:8080/",
          "height": 35
        },
        "outputId": "658ad953-718a-4be0-ffff-43808696dcd7"
      },
      "source": [
        "import numpy as np \n",
        "import pandas as pd\n",
        "import tensorflow as tf\n",
        "\n",
        "from tensorflow import feature_column\n",
        "from tensorflow.keras import layers  \n",
        "\n",
        "from matplotlib import pyplot as plt \n",
        "\n",
        "# as linhas a seguir ajustam a granularidade da notificação\n",
        "pd.options.display.max_rows = 10 \n",
        "pd.options.display.float_format =\"{: 1f}\".format\n",
        "\n",
        "tf.keras.backend.set_floatx('float32')\n",
        "\n",
        "print(\"módulos importados\")\n"
      ],
      "execution_count": 2,
      "outputs": [
        {
          "output_type": "stream",
          "text": [
            "módulos importados\n"
          ],
          "name": "stdout"
        }
      ]
    },
    {
      "cell_type": "markdown",
      "metadata": {
        "id": "3pH53Chjn2PS",
        "colab_type": "text"
      },
      "source": [
        "## Carregar, dimensionar e embaralhar os exemplos\n",
        "O código a seguir carrega os arquivos .csv separados e cria dois DataFrames do Pandas: \n",
        "* `treina_df`, que contém os dados de treinamento\n",
        "* `test_df`, que contém os dados de teste\n",
        "\n",
        "A célula de código então dimensiona `median_house_value` para um intervalo mais amigável ao ser humano e, em seguida, apresenta os exemplos."
      ]
    },
    {
      "cell_type": "code",
      "metadata": {
        "id": "ySshm0MLo-55",
        "colab_type": "code",
        "colab": {}
      },
      "source": [
        "#Carregando os conjuntos de dados\n",
        "treina_df = pd.read_csv(\"https://download.mlcc.google.com/mledu-datasets/california_housing_train.csv\")\n",
        "test_df   = pd.read_csv(\"https://download.mlcc.google.com/mledu-datasets/california_housing_test.csv\")\n",
        "\n",
        "#Escalando os rótulos \n",
        "fator_escala = 1000.0\n",
        "\n",
        "treina_df[\"median_house_value\"] /= fator_escala \n",
        "test_df[\"median_house_value\"] /= fator_escala\n",
        "\n",
        "# Embaralhando os exemplos \n",
        "treina_df = treina_df.reindex(np.random.permutation(treina_df.index))"
      ],
      "execution_count": 0,
      "outputs": []
    },
    {
      "cell_type": "markdown",
      "metadata": {
        "id": "adeVolqXu1Tt",
        "colab_type": "text"
      },
      "source": [
        "# Representar latitude e longitude como valores de ponto flutuante\n",
        "\n",
        "Colabs anteriores treinados em apenas um único recurso ou um único recurso sintético. Por outro lado, este exercício se baseia em dois recursos. Além disso, este Colab apresenta colunas de recursos , que fornecem uma maneira sofisticada de representar recursos.\n",
        "\n",
        "Você pode criar colunas de recursos como:\n",
        "* Chame um método `tf.feature_column` para representar um único recurso, um único recurso cruzado ou um único recurso sintético da maneira desejada. Por exemplo, para representar um determinado recurso como valores de ponto flutuante, chame `tf.feature_column.numeric_column.` Para representar um determinado recurso como uma série de baldes ou caixas, ligue `tf.feature_column.bucketized_column`.\n",
        "* Monte as representações criadas em uma lista Python.\n",
        "\n",
        "A localização de um bairro é normalmente a característica mais importante na determinação do valor de uma casa. O conjunto de dados da California Housing fornece dois recursos `latitude` e `longitude` que identificam a localização de cada bairro.\n",
        "\n",
        "Essa célula de código especifica os recursos nos quais você treinará o modelo e como cada um desses recursos será representado. As transformações (coletadas em `fp_camada_recurso`) não são realmente aplicadas até você passar um DataFrame para ele, o que acontecerá quando treinarmos o modelo."
      ]
    },
    {
      "cell_type": "code",
      "metadata": {
        "id": "RunH2BTQwCQ9",
        "colab_type": "code",
        "colab": {}
      },
      "source": [
        "#Criando uma lista vazia que conterá todas as colunas de recursos \n",
        "coluna_recursos = []\n",
        "\n",
        "#Criando uma coluna de recurso numérico para representar a latitude\n",
        "latitude = tf.feature_column.numeric_column(\"latitude\")\n",
        "coluna_recursos.append(latitude)\n",
        "\n",
        "#Criando uma coluna de recurso numérico para representar a longitude como valor de ponto flutuante\n",
        "longitude = tf.feature_column.numeric_column(\"longitude\")\n",
        "coluna_recursos.append(longitude)\n",
        "\n",
        "#Convertendo a lista de coluna_recursos em uma camada que se tornará parte do modelo\n",
        "fp_camada_recurso = layers.DenseFeatures(coluna_recursos)\n"
      ],
      "execution_count": 0,
      "outputs": []
    },
    {
      "cell_type": "markdown",
      "metadata": {
        "id": "2RUrViCuTd7P",
        "colab_type": "text"
      },
      "source": [
        "Quando usada, a camada processa as entradas brutas, de acordo com as transformações descritas pelas colunas do recurso, e empacota o resultado em uma matriz numérica. (O modelo treinará nessa matriz numérica.)"
      ]
    },
    {
      "cell_type": "markdown",
      "metadata": {
        "id": "nhBGtvpmUkL6",
        "colab_type": "text"
      },
      "source": [
        "## Definir funções que criam e treinam um modelo\n",
        "\n",
        "Criando e compilando um simples modelo de regressão linear"
      ]
    },
    {
      "cell_type": "code",
      "metadata": {
        "id": "EisFHGjdVYDa",
        "colab_type": "code",
        "colab": {}
      },
      "source": [
        "def criar_modelo(tx_aprendizado, col_recursos):\n",
        "  # A maiorias do modelos simples são sequencial\n",
        "  modelo = tf.keras.models.Sequential()\n",
        "\n",
        "  # Adicionando a camada que possui as colunas de recursos do modelo\n",
        "  modelo.add(col_recursos)\n",
        "\n",
        "  # Adicionando uma camada linear ao modelo para gerar uma regressão linear\n",
        "  modelo.add(tf.keras.layers.Dense(units=1, input_shape = (1,)))\n",
        "\n",
        "  # Contruindo as camadas em um modelo que o TensorFlow possa executar\n",
        "  modelo.compile(optimizer=tf.keras.optimizers.RMSprop(lr=tx_aprendizado),\n",
        "                 loss=\"mean_squared_error\",\n",
        "                 metrics=[tf.keras.metrics.RootMeanSquaredError()])\n",
        "  \n",
        "  return modelo"
      ],
      "execution_count": 0,
      "outputs": []
    },
    {
      "cell_type": "markdown",
      "metadata": {
        "id": "HQ7HcyLIZ1Vd",
        "colab_type": "text"
      },
      "source": [
        "## Criando a função para treinar o modelo"
      ]
    },
    {
      "cell_type": "code",
      "metadata": {
        "id": "Jr2xmNSlZ6Zo",
        "colab_type": "code",
        "colab": {}
      },
      "source": [
        "def treinar_modelo(modelo, set_dados, epochs, tam_lote, nome_rotulo):\n",
        "  \"\"\" Alimente um conjunto de dados ao modelo para treina-lo\"\"\"\n",
        "\n",
        "  recursos = {name:np.array(value) for name, value in set_dados.items()}\n",
        "\n",
        "  rotulo   = np.array(recursos.pop(nome_rotulo))\n",
        "\n",
        "  history  = modelo.fit(x=recursos, y=rotulo, batch_size=tam_lote,\n",
        "                       epochs=epochs, shuffle=True)\n",
        "\n",
        "  #A lista de épocas é armazenada separadamente do resto do history\n",
        "  epochs = history.epoch\n",
        "\n",
        "  #Isole o erro médio absoluto  para cada época.\n",
        "  hist = pd.DataFrame(history.history)\n",
        "  rmse = hist[\"root_mean_squared_error\"]\n",
        "\n",
        "  return epochs, rmse "
      ],
      "execution_count": 0,
      "outputs": []
    },
    {
      "cell_type": "markdown",
      "metadata": {
        "id": "zUM4U706fb6n",
        "colab_type": "text"
      },
      "source": [
        "#Criando função para plotar uma curva de perda\n"
      ]
    },
    {
      "cell_type": "code",
      "metadata": {
        "id": "iSzQR-RDf5ma",
        "colab_type": "code",
        "colab": {
          "base_uri": "https://localhost:8080/",
          "height": 35
        },
        "outputId": "78aa5978-f1dd-4d44-b117-bb28a71de5ce"
      },
      "source": [
        "def plot_curva_perda(epochs, rmse):\n",
        "\n",
        "  plt.figure()\n",
        "  plt.xlabel(\"Epocas\")\n",
        "  plt.ylabel(\"Root Mean Squared Error\")\n",
        "\n",
        "  plt.plot(epochs, rmse, label=\"Loss\")\n",
        "  plt.legend()\n",
        "  plt.ylim([rmse.min()*0.94, rmse.max()*1.05]) \n",
        "  plt.show\n",
        "\n",
        "print(\"Função de plotagem definida!\")"
      ],
      "execution_count": 9,
      "outputs": [
        {
          "output_type": "stream",
          "text": [
            "Função de plotagem definida!\n"
          ],
          "name": "stdout"
        }
      ]
    },
    {
      "cell_type": "markdown",
      "metadata": {
        "id": "8wdo3MOGhIWc",
        "colab_type": "text"
      },
      "source": [
        "## Treinar o modelo com representações de ponto flutuante\n",
        "A célula de código a seguir chama as funções que você acabou de criar para treinar, plotar e avaliar um modelo."
      ]
    },
    {
      "cell_type": "code",
      "metadata": {
        "id": "Ii3WZquIlPzv",
        "colab_type": "code",
        "colab": {
          "base_uri": "https://localhost:8080/",
          "height": 1000
        },
        "outputId": "64432555-b9c2-4069-e831-734e630f5f2a"
      },
      "source": [
        "taxa_aprendizado = 0.05 \n",
        "epochs = 30 \n",
        "tam_lote = 100\n",
        "nome_label = \"median_house_value\"\n",
        "\n",
        "# Criar e compilar a topografia do modelo\n",
        "meu_modelo = criar_modelo(taxa_aprendizado, fp_camada_recurso)\n",
        "\n",
        "# Treinar o modelo no conjunto de treinamento\n",
        "epochs, rmse = treinar_modelo(meu_modelo, treina_df, epochs, tam_lote, nome_label)\n",
        "\n",
        "# gráfico curva de perda\n",
        "plot_curva_perda(epochs, rmse)\n",
        "\n",
        "print(\"\\n Avaliar o novo model em relação ao conjunto de teste: \")\n",
        "teste_recursos = {name:np.array(value) for name, value in test_df.items()}\n",
        "teste_rotulo   = np.array(teste_recursos.pop(nome_label))\n",
        "meu_modelo.evaluate(x=teste_recursos, y=teste_rotulo, batch_size=tam_lote)"
      ],
      "execution_count": 12,
      "outputs": [
        {
          "output_type": "stream",
          "text": [
            "Epoch 1/30\n",
            "170/170 [==============================] - 0s 1ms/step - loss: 14556.8506 - root_mean_squared_error: 120.6518\n",
            "Epoch 2/30\n",
            "170/170 [==============================] - 0s 1ms/step - loss: 13424.8477 - root_mean_squared_error: 115.8656\n",
            "Epoch 3/30\n",
            "170/170 [==============================] - 0s 1ms/step - loss: 13376.4033 - root_mean_squared_error: 115.6564\n",
            "Epoch 4/30\n",
            "170/170 [==============================] - 0s 1ms/step - loss: 13333.8467 - root_mean_squared_error: 115.4723\n",
            "Epoch 5/30\n",
            "170/170 [==============================] - 0s 1ms/step - loss: 13303.6729 - root_mean_squared_error: 115.3415\n",
            "Epoch 6/30\n",
            "170/170 [==============================] - 0s 1ms/step - loss: 13245.5293 - root_mean_squared_error: 115.0892\n",
            "Epoch 7/30\n",
            "170/170 [==============================] - 0s 1ms/step - loss: 13215.7842 - root_mean_squared_error: 114.9599\n",
            "Epoch 8/30\n",
            "170/170 [==============================] - 0s 1ms/step - loss: 13196.7207 - root_mean_squared_error: 114.8770\n",
            "Epoch 9/30\n",
            "170/170 [==============================] - 0s 1ms/step - loss: 13157.3281 - root_mean_squared_error: 114.7054\n",
            "Epoch 10/30\n",
            "170/170 [==============================] - 0s 1ms/step - loss: 13118.8936 - root_mean_squared_error: 114.5377\n",
            "Epoch 11/30\n",
            "170/170 [==============================] - 0s 1ms/step - loss: 13098.2871 - root_mean_squared_error: 114.4477\n",
            "Epoch 12/30\n",
            "170/170 [==============================] - 0s 1ms/step - loss: 13094.3486 - root_mean_squared_error: 114.4305\n",
            "Epoch 13/30\n",
            "170/170 [==============================] - 0s 1ms/step - loss: 13056.7461 - root_mean_squared_error: 114.2661\n",
            "Epoch 14/30\n",
            "170/170 [==============================] - 0s 1ms/step - loss: 13036.9961 - root_mean_squared_error: 114.1797\n",
            "Epoch 15/30\n",
            "170/170 [==============================] - 0s 1ms/step - loss: 13013.6875 - root_mean_squared_error: 114.0776\n",
            "Epoch 16/30\n",
            "170/170 [==============================] - 0s 1ms/step - loss: 12995.9912 - root_mean_squared_error: 114.0000\n",
            "Epoch 17/30\n",
            "170/170 [==============================] - 0s 1ms/step - loss: 12974.0869 - root_mean_squared_error: 113.9038\n",
            "Epoch 18/30\n",
            "170/170 [==============================] - 0s 1ms/step - loss: 12965.3965 - root_mean_squared_error: 113.8657\n",
            "Epoch 19/30\n",
            "170/170 [==============================] - 0s 1ms/step - loss: 12949.8721 - root_mean_squared_error: 113.7975\n",
            "Epoch 20/30\n",
            "170/170 [==============================] - 0s 2ms/step - loss: 12915.7715 - root_mean_squared_error: 113.6476\n",
            "Epoch 21/30\n",
            "170/170 [==============================] - 0s 1ms/step - loss: 12915.1787 - root_mean_squared_error: 113.6450\n",
            "Epoch 22/30\n",
            "170/170 [==============================] - 0s 1ms/step - loss: 12904.2734 - root_mean_squared_error: 113.5970\n",
            "Epoch 23/30\n",
            "170/170 [==============================] - 0s 1ms/step - loss: 12895.3877 - root_mean_squared_error: 113.5579\n",
            "Epoch 24/30\n",
            "170/170 [==============================] - 0s 1ms/step - loss: 12885.1016 - root_mean_squared_error: 113.5126\n",
            "Epoch 25/30\n",
            "170/170 [==============================] - 0s 1ms/step - loss: 12893.2178 - root_mean_squared_error: 113.5483\n",
            "Epoch 26/30\n",
            "170/170 [==============================] - 0s 1ms/step - loss: 12869.7051 - root_mean_squared_error: 113.4447\n",
            "Epoch 27/30\n",
            "170/170 [==============================] - 0s 1ms/step - loss: 12850.4658 - root_mean_squared_error: 113.3599\n",
            "Epoch 28/30\n",
            "170/170 [==============================] - 0s 1ms/step - loss: 12838.6621 - root_mean_squared_error: 113.3078\n",
            "Epoch 29/30\n",
            "170/170 [==============================] - 0s 1ms/step - loss: 12848.3027 - root_mean_squared_error: 113.3504\n",
            "Epoch 30/30\n",
            "170/170 [==============================] - 0s 1ms/step - loss: 12814.6826 - root_mean_squared_error: 113.2020\n",
            "\n",
            " Avaliar o novo model em relação ao conjunto de teste: \n",
            "30/30 [==============================] - 0s 1ms/step - loss: 12273.5723 - root_mean_squared_error: 110.7862\n"
          ],
          "name": "stdout"
        },
        {
          "output_type": "execute_result",
          "data": {
            "text/plain": [
              "[12273.572265625, 110.7861557006836]"
            ]
          },
          "metadata": {
            "tags": []
          },
          "execution_count": 12
        },
        {
          "output_type": "display_data",
          "data": {
            "image/png": "[encoded data removed]",
            "text/plain": [
              "<Figure size 432x288 with 1 Axes>"
            ]
          },
          "metadata": {
            "tags": [],
            "needs_background": "light"
          }
        }
      ]
    },
    {
      "cell_type": "markdown",
      "metadata": {
        "id": "0emHxd3Yf-LY",
        "colab_type": "text"
      },
      "source": [
        "## Por que os valores de ponto flutuante não são uma boa maneira de representar latitude e longitude?\n",
        "\n",
        "Representando `latitude` e` longitude` como\n",
        "valores de ponto flutuante quase não fornecem\n",
        "poder preditivo. Estamos apenas usando os valores brutos\n",
        "para estabelecer uma linha de base para futuras experiências\n",
        "com melhores representações."
      ]
    },
    {
      "cell_type": "markdown",
      "metadata": {
        "id": "B-cnf8WTgt9C",
        "colab_type": "text"
      },
      "source": [
        "## Representar latitude e longitude em baldes (buckets)\n",
        "A seguinte célula de código representa latitude e longitude em intervalos (posições). Cada compartimento representa todos os bairros em um único grau. Por exemplo, as vizinhanças nas latitudes 35.4 e 35.8 estão no mesmo bloco, mas as vizinhanças nas latitudes 35.4 e 36.2 estão em diferentes intervalos.\n",
        "\n",
        "O modelo aprenderá um peso separado para cada balde. Por exemplo, o modelo aprenderá um peso para todos os bairros da lixeira \"35\", um peso diferente para bairros da lixeira \"36\" e assim por diante. Essa representação criará aproximadamente 20 baldes:\n",
        "* 10 `baldes (buckets)` para `latitude`.\n",
        "* 10 `baldes (buckets)` para `longetude`.\n"
      ]
    },
    {
      "cell_type": "code",
      "metadata": {
        "id": "mRH1O_G7jPj9",
        "colab_type": "code",
        "colab": {}
      },
      "source": [
        "resolucao_graus = 1.0 \n",
        "# Criar uma nova lista vazia que eventualmente conterá a coluna do recurso gerado.\n",
        "coluna_recursos = []\n",
        "\n",
        "#Criar uma coluna de recurso de bucket (balde) para longitude ----------- 1\n",
        "latitude_col_numeric = tf.feature_column.numeric_column(\"latitude\")\n",
        "\n",
        "latitude_limites    = list(np.arange(int(min(treina_df[\"latitude\"])),\n",
        "                                     int(max(treina_df[\"latitude\"])),\n",
        "                                     resolucao_graus))\n",
        "latitude = tf.feature_column.bucketized_column(latitude_col_numeric, latitude_limites)\n",
        "\n",
        "coluna_recursos.append(latitude) #--------------------------------------- O\n",
        "\n",
        "#Criar uma coluna de recurso de bucket (balde) para longitude ----------- 1\n",
        "longitude_col_numeric = tf.feature_column.numeric_column(\"longitude\")\n",
        "\n",
        "longitude_limites    = list(np.arange(int(min(treina_df[\"longitude\"])),\n",
        "                            int(max(treina_df[\"longitude\"])),\n",
        "                            resolucao_graus))\n",
        "\n",
        "longitude = tf.feature_column.bucketized_column(longitude_col_numeric, \n",
        "                                               longitude_limites)\n",
        "\n",
        "coluna_recursos.append(longitude) #--------------------------------------- O\n",
        "\n",
        "\n",
        "\n",
        "# Converter a lista de colunas de recursos em uma camada \n",
        "# que acabará se tornando parte do modelo.\n",
        "camada_bucket_recursos = layers.DenseFeatures(coluna_recursos)\n",
        "\n",
        "\n"
      ],
      "execution_count": 0,
      "outputs": []
    },
    {
      "cell_type": "markdown",
      "metadata": {
        "id": "LtBX5h2osmN1",
        "colab_type": "text"
      },
      "source": [
        "## Treinar o modelo com representações de bucket\n",
        "Execute a seguinte célula de código para treinar o modelo com representações de bucket em vez de representações de ponto flutuante:"
      ]
    },
    {
      "cell_type": "code",
      "metadata": {
        "id": "ZM2gC7lhsrzj",
        "colab_type": "code",
        "colab": {
          "base_uri": "https://localhost:8080/",
          "height": 1000
        },
        "outputId": "e7d64fd0-caa0-4e9b-9caa-34f4232cbe47"
      },
      "source": [
        "taxa_aprendizado = 0.04\n",
        "epochs = 35\n",
        "tam_lote = 100\n",
        "nome_label = \"median_house_value\"\n",
        "\n",
        "# Criar e compilar a topografia do modelo\n",
        "meu_modelo = criar_modelo(taxa_aprendizado, camada_bucket_recursos)\n",
        "\n",
        "# Treinar o modelo no conjunto de treinamento\n",
        "epochs, rmse = treinar_modelo(meu_modelo, treina_df, epochs, tam_lote, nome_label)\n",
        "\n",
        "# gráfico curva de perda\n",
        "plot_curva_perda(epochs, rmse)\n",
        "\n",
        "print(\"\\n Avaliar o novo model em relação ao conjunto de teste: \")\n",
        "meu_modelo.evaluate(x=teste_recursos, y=teste_rotulo, batch_size=tam_lote)"
      ],
      "execution_count": 21,
      "outputs": [
        {
          "output_type": "stream",
          "text": [
            "Epoch 1/35\n",
            "170/170 [==============================] - 0s 2ms/step - loss: 52085.0430 - root_mean_squared_error: 228.2215\n",
            "Epoch 2/35\n",
            "170/170 [==============================] - 0s 2ms/step - loss: 44678.8359 - root_mean_squared_error: 211.3737\n",
            "Epoch 3/35\n",
            "170/170 [==============================] - 0s 2ms/step - loss: 38110.0273 - root_mean_squared_error: 195.2179\n",
            "Epoch 4/35\n",
            "170/170 [==============================] - 0s 2ms/step - loss: 32287.9395 - root_mean_squared_error: 179.6884\n",
            "Epoch 5/35\n",
            "170/170 [==============================] - 0s 2ms/step - loss: 27281.6094 - root_mean_squared_error: 165.1714\n",
            "Epoch 6/35\n",
            "170/170 [==============================] - 0s 2ms/step - loss: 23015.3789 - root_mean_squared_error: 151.7082\n",
            "Epoch 7/35\n",
            "170/170 [==============================] - 0s 1ms/step - loss: 19495.4922 - root_mean_squared_error: 139.6263\n",
            "Epoch 8/35\n",
            "170/170 [==============================] - 0s 1ms/step - loss: 16713.7715 - root_mean_squared_error: 129.2818\n",
            "Epoch 9/35\n",
            "170/170 [==============================] - 0s 1ms/step - loss: 14547.5547 - root_mean_squared_error: 120.6132\n",
            "Epoch 10/35\n",
            "170/170 [==============================] - 0s 1ms/step - loss: 12992.7139 - root_mean_squared_error: 113.9856\n",
            "Epoch 11/35\n",
            "170/170 [==============================] - 0s 1ms/step - loss: 11950.3223 - root_mean_squared_error: 109.3175\n",
            "Epoch 12/35\n",
            "170/170 [==============================] - 0s 1ms/step - loss: 11331.7568 - root_mean_squared_error: 106.4507\n",
            "Epoch 13/35\n",
            "170/170 [==============================] - 0s 1ms/step - loss: 10990.6816 - root_mean_squared_error: 104.8364\n",
            "Epoch 14/35\n",
            "170/170 [==============================] - 0s 1ms/step - loss: 10796.9883 - root_mean_squared_error: 103.9086\n",
            "Epoch 15/35\n",
            "170/170 [==============================] - 0s 1ms/step - loss: 10677.1309 - root_mean_squared_error: 103.3302\n",
            "Epoch 16/35\n",
            "170/170 [==============================] - 0s 1ms/step - loss: 10602.2461 - root_mean_squared_error: 102.9672\n",
            "Epoch 17/35\n",
            "170/170 [==============================] - 0s 1ms/step - loss: 10552.5635 - root_mean_squared_error: 102.7257\n",
            "Epoch 18/35\n",
            "170/170 [==============================] - 0s 1ms/step - loss: 10519.4473 - root_mean_squared_error: 102.5644\n",
            "Epoch 19/35\n",
            "170/170 [==============================] - 0s 1ms/step - loss: 10495.3145 - root_mean_squared_error: 102.4466\n",
            "Epoch 20/35\n",
            "170/170 [==============================] - 0s 1ms/step - loss: 10477.5732 - root_mean_squared_error: 102.3600\n",
            "Epoch 21/35\n",
            "170/170 [==============================] - 0s 2ms/step - loss: 10462.8232 - root_mean_squared_error: 102.2879\n",
            "Epoch 22/35\n",
            "170/170 [==============================] - 0s 1ms/step - loss: 10449.5762 - root_mean_squared_error: 102.2232\n",
            "Epoch 23/35\n",
            "170/170 [==============================] - 0s 1ms/step - loss: 10437.4717 - root_mean_squared_error: 102.1639\n",
            "Epoch 24/35\n",
            "170/170 [==============================] - 0s 1ms/step - loss: 10426.8760 - root_mean_squared_error: 102.1121\n",
            "Epoch 25/35\n",
            "170/170 [==============================] - 0s 1ms/step - loss: 10417.0469 - root_mean_squared_error: 102.0639\n",
            "Epoch 26/35\n",
            "170/170 [==============================] - 0s 1ms/step - loss: 10407.4629 - root_mean_squared_error: 102.0170\n",
            "Epoch 27/35\n",
            "170/170 [==============================] - 0s 1ms/step - loss: 10399.0264 - root_mean_squared_error: 101.9756\n",
            "Epoch 28/35\n",
            "170/170 [==============================] - 0s 1ms/step - loss: 10390.8096 - root_mean_squared_error: 101.9353\n",
            "Epoch 29/35\n",
            "170/170 [==============================] - 0s 1ms/step - loss: 10382.4668 - root_mean_squared_error: 101.8944\n",
            "Epoch 30/35\n",
            "170/170 [==============================] - 0s 1ms/step - loss: 10375.0361 - root_mean_squared_error: 101.8579\n",
            "Epoch 31/35\n",
            "170/170 [==============================] - 0s 1ms/step - loss: 10368.1855 - root_mean_squared_error: 101.8243\n",
            "Epoch 32/35\n",
            "170/170 [==============================] - 0s 1ms/step - loss: 10360.7441 - root_mean_squared_error: 101.7877\n",
            "Epoch 33/35\n",
            "170/170 [==============================] - 0s 1ms/step - loss: 10353.6816 - root_mean_squared_error: 101.7530\n",
            "Epoch 34/35\n",
            "170/170 [==============================] - 0s 2ms/step - loss: 10346.9941 - root_mean_squared_error: 101.7202\n",
            "Epoch 35/35\n",
            "170/170 [==============================] - 0s 1ms/step - loss: 10340.6328 - root_mean_squared_error: 101.6889\n",
            "\n",
            " Avaliar o novo model em relação ao conjunto de teste: \n",
            "30/30 [==============================] - 0s 1ms/step - loss: 10200.2197 - root_mean_squared_error: 100.9961\n"
          ],
          "name": "stdout"
        },
        {
          "output_type": "execute_result",
          "data": {
            "text/plain": [
              "[10200.2197265625, 100.99613952636719]"
            ]
          },
          "metadata": {
            "tags": []
          },
          "execution_count": 21
        },
        {
          "output_type": "display_data",
          "data": {
            "image/png": "[encoded data removed]",
            "text/plain": [
              "<Figure size 432x288 with 1 Axes>"
            ]
          },
          "metadata": {
            "tags": [],
            "needs_background": "light"
          }
        }
      ]
    },
    {
      "cell_type": "markdown",
      "metadata": {
        "id": "kBnTray6ymOO",
        "colab_type": "text"
      },
      "source": [
        "## Os buckets superaram as representações de ponto flutuante?\n",
        "Compare os valores de `root_mean_squared_error`  do modelo para as duas representações (ponto flutuante vs. baldes)? Qual modelo produziu menores perdas?\n",
        "\n",
        "#R: \n",
        "Representação de bucket superada representações de ponto flutuante.\n",
        "No entanto, mas ainda podemod fazer muito melhor."
      ]
    },
    {
      "cell_type": "markdown",
      "metadata": {
        "id": "4XtXLOgFzEtx",
        "colab_type": "text"
      },
      "source": [
        "## Qual é a melhor maneira de representar a localização?\n",
        "Os baldes são uma grande melhoria em relação aos valores de ponto flutuante. Você consegue identificar uma maneira ainda melhor de identificar a localização com latitudee longitude?\n",
        "## R:\n",
        "Representar a localização como um recurso cruzado deve produz melhores resultados.\n",
        "Anteriormente, representamos latitude em baldes unidimensionais e longitude em outra série de baldes unidimensionais.\n",
        "Locais do mundo real, no entanto, existem em duas dimensões. Portanto, devemos representam a localização como um recurso bidimensional Cruz. Ou seja, vamos cruzar a latitude de mais ou menos 10 buckets com os 10 ou mais longitude buckets para criar uma grade de 100 células.\n",
        "O modelo aprenderá pesos separados para cada célula."
      ]
    },
    {
      "cell_type": "markdown",
      "metadata": {
        "id": "lfQPZRlt0c41",
        "colab_type": "text"
      },
      "source": [
        "## Representar o local como um recurso cruzado\n",
        "A seguinte célula de código representa o local como um recurso cruzado. Ou seja, a célula de código a seguir cria primeiro baldes e depois chama `tf.feature_column.crossed_columnpara` para cruzá-los."
      ]
    },
    {
      "cell_type": "code",
      "metadata": {
        "id": "qRIkrR730qSv",
        "colab_type": "code",
        "colab": {}
      },
      "source": [
        "resolucao_graus = 1.0 \n",
        "# Criar uma nova lista vazia que eventualmente conterá a coluna do recurso gerado.\n",
        "coluna_recursos = []\n",
        "\n",
        "#Criar uma coluna de recurso de bucket (balde) para longitude ----------- 1\n",
        "latitude_col_numeric = tf.feature_column.numeric_column(\"latitude\")\n",
        "\n",
        "latitude_limites    = list(np.arange(int(min(treina_df[\"latitude\"])),\n",
        "                                     int(max(treina_df[\"latitude\"])),\n",
        "                                     resolucao_graus))\n",
        "latitude = tf.feature_column.bucketized_column(latitude_col_numeric, latitude_limites)\n",
        "\n",
        "coluna_recursos.append(latitude) #--------------------------------------- O\n",
        "\n",
        "#Criar uma coluna de recurso de bucket (balde) para longitude ----------- 1\n",
        "longitude_col_numeric = tf.feature_column.numeric_column(\"longitude\")\n",
        "\n",
        "longitude_limites    = list(np.arange(int(min(treina_df[\"longitude\"])),\n",
        "                            int(max(treina_df[\"longitude\"])),\n",
        "                            resolucao_graus))\n",
        "\n",
        "longitude = tf.feature_column.bucketized_column(longitude_col_numeric, \n",
        "                                               longitude_limites)\n",
        "\n",
        "coluna_recursos.append(longitude) #--------------------------------------- O\n",
        "\n",
        "# Criar um recurso cruzado de latitude e longitude\n",
        "latitude_x_logitude\n",
        "\n",
        "\n",
        "# Converter a lista de colunas de recursos em uma camada \n",
        "# que acabará se tornando parte do modelo.\n",
        "camada_bucket_recursos = layers.DenseFeatures(coluna_recursos)"
      ],
      "execution_count": 0,
      "outputs": []
    }
  ]
}