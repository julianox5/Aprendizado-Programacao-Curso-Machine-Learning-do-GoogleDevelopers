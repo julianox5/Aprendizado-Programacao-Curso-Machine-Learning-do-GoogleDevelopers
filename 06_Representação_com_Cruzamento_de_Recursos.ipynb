{
  "nbformat": 4,
  "nbformat_minor": 0,
  "metadata": {
    "colab": {
      "name": "06_Representação com Cruzamento de Recursos.ipynb",
      "provenance": [],
      "authorship_tag": "ABX9TyOEUmqwWj0PoGcqUh/MoHrV",
      "include_colab_link": true
    },
    "kernelspec": {
      "name": "python3",
      "display_name": "Python 3"
    }
  },
  "cells": [
    {
      "cell_type": "markdown",
      "metadata": {
        "id": "view-in-github",
        "colab_type": "text"
      },
      "source": [
        "<a href=\"https://colab.research.google.com/github/julianox5/Aprendizado-Programacao-Curso-Machine-Learning-do-GoogleDevelopers/blob/master/06_Representa%C3%A7%C3%A3o_com_Cruzamento_de_Recursos.ipynb\" target=\"_parent\"><img src=\"https://colab.research.google.com/assets/colab-badge.svg\" alt=\"Open In Colab\"/></a>"
      ]
    },
    {
      "cell_type": "markdown",
      "metadata": {
        "id": "E45iimQllzzl",
        "colab_type": "text"
      },
      "source": [
        "## Representação com cruzamento de recursos \n",
        "Neste exercício, vamos experimentar maneiras diferentes de representar recursos.\n",
        "\n"
      ]
    },
    {
      "cell_type": "markdown",
      "metadata": {
        "id": "ijP32f_qX9RD",
        "colab_type": "text"
      },
      "source": [
        "## Objetivo do Aprendizado com os Exercícios\n",
        "\n",
        "Depois do exercícios, vamos saber: \n",
        "* Usar o Método [`tf.feature_column`] para representar os recurso de maneiras diferentes\n",
        "* Representar recursos como `caixas` `(bins)`.\n",
        "* Usar Caixas cruzadas para criar uma feature cross.\n"
      ]
    },
    {
      "cell_type": "markdown",
      "metadata": {
        "id": "iRIyt3LTcBDp",
        "colab_type": "text"
      },
      "source": [
        "## O Conjunto de Dados\n",
        "Como os exercícios anteriores, usaremos o conjunto de dados de habitação da Califórnia "
      ]
    },
    {
      "cell_type": "markdown",
      "metadata": {
        "id": "WZAzPBrHcQhh",
        "colab_type": "text"
      },
      "source": [
        "## Usando a versão correta do TensorFlow"
      ]
    },
    {
      "cell_type": "code",
      "metadata": {
        "id": "U3_vecusceNp",
        "colab_type": "code",
        "colab": {}
      },
      "source": [
        "%tensorflow_version 2.x"
      ],
      "execution_count": 0,
      "outputs": []
    },
    {
      "cell_type": "markdown",
      "metadata": {
        "id": "uWaIydTxcus6",
        "colab_type": "text"
      },
      "source": [
        "## Chamar as instruções de importação \n",
        "O código abaixo importa os módulos necessários para executar o código que vamos criar\n",
        "\n"
      ]
    },
    {
      "cell_type": "code",
      "metadata": {
        "id": "mSml5SI-dMPc",
        "colab_type": "code",
        "colab": {
          "base_uri": "https://localhost:8080/",
          "height": 35
        },
        "outputId": "5c6ffdf7-1821-44f2-bd4d-00ebf2770fc4"
      },
      "source": [
        "import numpy as np \n",
        "import pandas as pd\n",
        "import tensorflow as tf\n",
        "\n",
        "from tensorflow import feature_column\n",
        "from tensorflow.keras import layers  \n",
        "\n",
        "from matplotlib import pyplot as plt \n",
        "\n",
        "# as linhas a seguir ajustam a granularidade da notificação\n",
        "pd.options.display.max_rows = 10 \n",
        "pd.options.display.float_format =\"{: 1f}\".format\n",
        "\n",
        "tf.keras.backend.set_floatx('float32')\n",
        "\n",
        "print(\"módulos importados\")\n"
      ],
      "execution_count": 23,
      "outputs": [
        {
          "output_type": "stream",
          "text": [
            "módulos importados\n"
          ],
          "name": "stdout"
        }
      ]
    },
    {
      "cell_type": "markdown",
      "metadata": {
        "id": "3pH53Chjn2PS",
        "colab_type": "text"
      },
      "source": [
        "## Carregar, dimensionar e embaralhar os exemplos\n",
        "O código a seguir carrega os arquivos .csv separados e cria dois DataFrames do Pandas: \n",
        "* `treina_df`, que contém os dados de treinamento\n",
        "* `test_df`, que contém os dados de teste\n",
        "\n",
        "A célula de código então dimensiona `median_house_value` para um intervalo mais amigável ao ser humano e, em seguida, apresenta os exemplos."
      ]
    },
    {
      "cell_type": "code",
      "metadata": {
        "id": "ySshm0MLo-55",
        "colab_type": "code",
        "colab": {}
      },
      "source": [
        "#Carregando os conjuntos de dados\n",
        "treina_df = pd.read_csv(\"https://download.mlcc.google.com/mledu-datasets/california_housing_train.csv\")\n",
        "test_df   = pd.read_csv(\"https://download.mlcc.google.com/mledu-datasets/california_housing_test.csv\")\n",
        "\n",
        "#Escalando os rótulos \n",
        "fator_escala = 1000.0\n",
        "\n",
        "treina_df[\"median_house_value\"] /= fator_escala \n",
        "test_df[\"median_house_value\"] /= fator_escala\n",
        "\n",
        "# Embaralhando os exemplos \n",
        "treina_df = treina_df.reindex(np.random.permutation(treina_df.index))"
      ],
      "execution_count": 0,
      "outputs": []
    },
    {
      "cell_type": "markdown",
      "metadata": {
        "id": "adeVolqXu1Tt",
        "colab_type": "text"
      },
      "source": [
        "# Representar latitude e longitude como valores de ponto flutuante\n",
        "\n",
        "Colabs anteriores treinados em apenas um único recurso ou um único recurso sintético. Por outro lado, este exercício se baseia em dois recursos. Além disso, este Colab apresenta colunas de recursos , que fornecem uma maneira sofisticada de representar recursos.\n",
        "\n",
        "Você pode criar colunas de recursos como:\n",
        "* Chame um método `tf.feature_column` para representar um único recurso, um único recurso cruzado ou um único recurso sintético da maneira desejada. Por exemplo, para representar um determinado recurso como valores de ponto flutuante, chame `tf.feature_column.numeric_column.` Para representar um determinado recurso como uma série de baldes ou caixas, ligue `tf.feature_column.bucketized_column`.\n",
        "* Monte as representações criadas em uma lista Python.\n",
        "\n",
        "A localização de um bairro é normalmente a característica mais importante na determinação do valor de uma casa. O conjunto de dados da California Housing fornece dois recursos `latitude` e `longitude` que identificam a localização de cada bairro.\n",
        "\n",
        "Essa célula de código especifica os recursos nos quais você treinará o modelo e como cada um desses recursos será representado. As transformações (coletadas em `fp_camada_recurso`) não são realmente aplicadas até você passar um DataFrame para ele, o que acontecerá quando treinarmos o modelo."
      ]
    },
    {
      "cell_type": "code",
      "metadata": {
        "id": "RunH2BTQwCQ9",
        "colab_type": "code",
        "colab": {}
      },
      "source": [
        "#Criando uma lista vazia que conterá todas as colunas de recursos \n",
        "coluna_recursos = []\n",
        "\n",
        "#Criando uma coluna de recurso numérico para representar a latitude\n",
        "latitude = tf.feature_column.numeric_column(\"latitude\")\n",
        "coluna_recursos.append(latitude)\n",
        "\n",
        "#Criando uma coluna de recurso numérico para representar a longitude como valor de ponto flutuante\n",
        "longitude = tf.feature_column.numeric_column(\"longitude\")\n",
        "coluna_recursos.append(longitude)\n",
        "\n",
        "#Convertendo a lista de coluna_recursos em uma camada que se tornará parte do modelo\n",
        "fp_camada_recurso = layers.DenseFeatures(coluna_recursos)\n"
      ],
      "execution_count": 0,
      "outputs": []
    },
    {
      "cell_type": "markdown",
      "metadata": {
        "id": "2RUrViCuTd7P",
        "colab_type": "text"
      },
      "source": [
        "Quando usada, a camada processa as entradas brutas, de acordo com as transformações descritas pelas colunas do recurso, e empacota o resultado em uma matriz numérica. (O modelo treinará nessa matriz numérica.)"
      ]
    },
    {
      "cell_type": "markdown",
      "metadata": {
        "id": "nhBGtvpmUkL6",
        "colab_type": "text"
      },
      "source": [
        "## Definir funções que criam e treinam um modelo\n",
        "\n",
        "Criando e compilando um simples modelo de regressão linear"
      ]
    },
    {
      "cell_type": "code",
      "metadata": {
        "id": "EisFHGjdVYDa",
        "colab_type": "code",
        "colab": {}
      },
      "source": [
        "def criar_modelo(tx_aprendizado, col_recursos):\n",
        "  # A maiorias do modelos simples são sequencial\n",
        "  modelo = tf.keras.models.Sequential()\n",
        "\n",
        "  # Adicionando a camada que possui as colunas de recursos do modelo\n",
        "  modelo.add(col_recursos)\n",
        "\n",
        "  # Adicionando uma camada linear ao modelo para gerar uma regressão linear\n",
        "  modelo.add(tf.keras.layers.Dense(units=1, input_shape = (1,)))\n",
        "\n",
        "  # Contruindo as camadas em um modelo que o TensorFlow possa executar\n",
        "  modelo.compile(optimizer=tf.keras.optimizers.RMSprop(lr=tx_aprendizado),\n",
        "                 loss=\"mean_squared_error\",\n",
        "                 metrics=[tf.keras.metrics.RootMeanSquaredError()])\n",
        "  \n",
        "  return modelo"
      ],
      "execution_count": 0,
      "outputs": []
    },
    {
      "cell_type": "markdown",
      "metadata": {
        "id": "HQ7HcyLIZ1Vd",
        "colab_type": "text"
      },
      "source": [
        "## Criando a função para treinar o modelo"
      ]
    },
    {
      "cell_type": "code",
      "metadata": {
        "id": "Jr2xmNSlZ6Zo",
        "colab_type": "code",
        "colab": {}
      },
      "source": [
        "def treinar_modelo(modelo, set_dados, epochs, tam_lote, nome_rotulo):\n",
        "  \"\"\" Alimente um conjunto de dados ao modelo para treina-lo\"\"\"\n",
        "\n",
        "  recursos = {name:np.array(value) for name, value in set_dados.items()}\n",
        "\n",
        "  rotulo   = np.array(recursos.pop(nome_rotulo))\n",
        "\n",
        "  history  = modelo.fit(x=recursos, y=rotulo, batch_size=tam_lote,\n",
        "                       epochs=epochs, shuffle=True)\n",
        "\n",
        "  #A lista de épocas é armazenada separadamente do resto do history\n",
        "  epochs = history.epoch\n",
        "\n",
        "  #Isole o erro médio absoluto  para cada época.\n",
        "  hist = pd.DataFrame(history.history)\n",
        "  rmse = hist[\"root_mean_squared_error\"]\n",
        "\n",
        "  return epochs, rmse "
      ],
      "execution_count": 0,
      "outputs": []
    },
    {
      "cell_type": "markdown",
      "metadata": {
        "id": "zUM4U706fb6n",
        "colab_type": "text"
      },
      "source": [
        "#Criando função para plotar uma curva de perda\n"
      ]
    },
    {
      "cell_type": "code",
      "metadata": {
        "id": "iSzQR-RDf5ma",
        "colab_type": "code",
        "colab": {
          "base_uri": "https://localhost:8080/",
          "height": 35
        },
        "outputId": "c720248b-434e-4722-be8e-212964c7c30e"
      },
      "source": [
        "def plot_curva_perda(epochs, rmse):\n",
        "\n",
        "  plt.figure()\n",
        "  plt.xlabel(\"Epocas\")\n",
        "  plt.ylabel(\"Root Mean Squared Error\")\n",
        "\n",
        "  plt.plot(epochs, rmse, label=\"Loss\")\n",
        "  plt.legend()\n",
        "  plt.ylim([rmse.min()*0.94, rmse.max()*1.05]) \n",
        "  plt.show\n",
        "\n",
        "print(\"Função de plotagem definida!\")"
      ],
      "execution_count": 28,
      "outputs": [
        {
          "output_type": "stream",
          "text": [
            "Função de plotagem definida!\n"
          ],
          "name": "stdout"
        }
      ]
    },
    {
      "cell_type": "markdown",
      "metadata": {
        "id": "8wdo3MOGhIWc",
        "colab_type": "text"
      },
      "source": [
        "## Treinar o modelo com representações de ponto flutuante\n",
        "A célula de código a seguir chama as funções que você acabou de criar para treinar, plotar e avaliar um modelo."
      ]
    },
    {
      "cell_type": "code",
      "metadata": {
        "id": "Ii3WZquIlPzv",
        "colab_type": "code",
        "colab": {
          "base_uri": "https://localhost:8080/",
          "height": 1000
        },
        "outputId": "94471a92-a08d-4631-eac0-e9696bbd8277"
      },
      "source": [
        "taxa_aprendizado = 0.05 \n",
        "epochs = 30 \n",
        "tam_lote = 100\n",
        "nome_label = \"median_house_value\"\n",
        "\n",
        "# Criar e compilar a topografia do modelo\n",
        "meu_modelo = criar_modelo(taxa_aprendizado, fp_camada_recurso)\n",
        "\n",
        "# Treinar o modelo no conjunto de treinamento\n",
        "epochs, rmse = treinar_modelo(meu_modelo, treina_df, epochs, tam_lote, nome_label)\n",
        "\n",
        "# gráfico curva de perda\n",
        "plot_curva_perda(epochs, rmse)\n",
        "\n",
        "print(\"\\n Avaliar o novo model em relação ao conjunto de teste: \")\n",
        "teste_recursos = {name:np.array(value) for name, value in test_df.items()}\n",
        "teste_rotulo   = np.array(teste_recursos.pop(nome_label))\n",
        "meu_modelo.evaluate(x=teste_recursos, y=teste_rotulo, batch_size=tam_lote)"
      ],
      "execution_count": 29,
      "outputs": [
        {
          "output_type": "stream",
          "text": [
            "Epoch 1/30\n",
            "170/170 [==============================] - 0s 1ms/step - loss: 14145.6299 - root_mean_squared_error: 118.9354\n",
            "Epoch 2/30\n",
            "170/170 [==============================] - 0s 1ms/step - loss: 13471.1846 - root_mean_squared_error: 116.0654\n",
            "Epoch 3/30\n",
            "170/170 [==============================] - 0s 1ms/step - loss: 13418.8018 - root_mean_squared_error: 115.8396\n",
            "Epoch 4/30\n",
            "170/170 [==============================] - 0s 1ms/step - loss: 13384.7627 - root_mean_squared_error: 115.6925\n",
            "Epoch 5/30\n",
            "170/170 [==============================] - 0s 1ms/step - loss: 13333.3096 - root_mean_squared_error: 115.4699\n",
            "Epoch 6/30\n",
            "170/170 [==============================] - 0s 1ms/step - loss: 13292.3760 - root_mean_squared_error: 115.2926\n",
            "Epoch 7/30\n",
            "170/170 [==============================] - 0s 1ms/step - loss: 13252.0625 - root_mean_squared_error: 115.1176\n",
            "Epoch 8/30\n",
            "170/170 [==============================] - 0s 1ms/step - loss: 13216.7695 - root_mean_squared_error: 114.9642\n",
            "Epoch 9/30\n",
            "170/170 [==============================] - 0s 1ms/step - loss: 13184.7881 - root_mean_squared_error: 114.8250\n",
            "Epoch 10/30\n",
            "170/170 [==============================] - 0s 1ms/step - loss: 13175.4062 - root_mean_squared_error: 114.7842\n",
            "Epoch 11/30\n",
            "170/170 [==============================] - 0s 1ms/step - loss: 13116.6611 - root_mean_squared_error: 114.5280\n",
            "Epoch 12/30\n",
            "170/170 [==============================] - 0s 1ms/step - loss: 13110.6094 - root_mean_squared_error: 114.5016\n",
            "Epoch 13/30\n",
            "170/170 [==============================] - 0s 1ms/step - loss: 13098.8721 - root_mean_squared_error: 114.4503\n",
            "Epoch 14/30\n",
            "170/170 [==============================] - 0s 1ms/step - loss: 13075.3867 - root_mean_squared_error: 114.3477\n",
            "Epoch 15/30\n",
            "170/170 [==============================] - 0s 1ms/step - loss: 13044.5811 - root_mean_squared_error: 114.2129\n",
            "Epoch 16/30\n",
            "170/170 [==============================] - 0s 1ms/step - loss: 13030.6914 - root_mean_squared_error: 114.1521\n",
            "Epoch 17/30\n",
            "170/170 [==============================] - 0s 1ms/step - loss: 13005.0918 - root_mean_squared_error: 114.0399\n",
            "Epoch 18/30\n",
            "170/170 [==============================] - 0s 1ms/step - loss: 12976.5391 - root_mean_squared_error: 113.9146\n",
            "Epoch 19/30\n",
            "170/170 [==============================] - 0s 1ms/step - loss: 12954.7549 - root_mean_squared_error: 113.8190\n",
            "Epoch 20/30\n",
            "170/170 [==============================] - 0s 1ms/step - loss: 12953.6143 - root_mean_squared_error: 113.8139\n",
            "Epoch 21/30\n",
            "170/170 [==============================] - 0s 1ms/step - loss: 12929.7764 - root_mean_squared_error: 113.7092\n",
            "Epoch 22/30\n",
            "170/170 [==============================] - 0s 1ms/step - loss: 12925.6582 - root_mean_squared_error: 113.6911\n",
            "Epoch 23/30\n",
            "170/170 [==============================] - 0s 1ms/step - loss: 12904.8154 - root_mean_squared_error: 113.5994\n",
            "Epoch 24/30\n",
            "170/170 [==============================] - 0s 1ms/step - loss: 12894.1523 - root_mean_squared_error: 113.5524\n",
            "Epoch 25/30\n",
            "170/170 [==============================] - 0s 1ms/step - loss: 12887.4922 - root_mean_squared_error: 113.5231\n",
            "Epoch 26/30\n",
            "170/170 [==============================] - 0s 1ms/step - loss: 12860.2139 - root_mean_squared_error: 113.4029\n",
            "Epoch 27/30\n",
            "170/170 [==============================] - 0s 1ms/step - loss: 12861.6641 - root_mean_squared_error: 113.4093\n",
            "Epoch 28/30\n",
            "170/170 [==============================] - 0s 1ms/step - loss: 12855.4941 - root_mean_squared_error: 113.3821\n",
            "Epoch 29/30\n",
            "170/170 [==============================] - 0s 1ms/step - loss: 12854.9580 - root_mean_squared_error: 113.3797\n",
            "Epoch 30/30\n",
            "170/170 [==============================] - 0s 1ms/step - loss: 12848.2471 - root_mean_squared_error: 113.3501\n",
            "\n",
            " Avaliar o novo model em relação ao conjunto de teste: \n",
            "30/30 [==============================] - 0s 1ms/step - loss: 12182.3359 - root_mean_squared_error: 110.3736\n"
          ],
          "name": "stdout"
        },
        {
          "output_type": "execute_result",
          "data": {
            "text/plain": [
              "[12182.3359375, 110.37361907958984]"
            ]
          },
          "metadata": {
            "tags": []
          },
          "execution_count": 29
        },
        {
          "output_type": "display_data",
          "data": {
            "image/png": "[encoded data removed]",
            "text/plain": [
              "<Figure size 432x288 with 1 Axes>"
            ]
          },
          "metadata": {
            "tags": [],
            "needs_background": "light"
          }
        }
      ]
    },
    {
      "cell_type": "markdown",
      "metadata": {
        "id": "0emHxd3Yf-LY",
        "colab_type": "text"
      },
      "source": [
        "## Por que os valores de ponto flutuante não são uma boa maneira de representar latitude e longitude?\n",
        "\n",
        "Representando `latitude` e` longitude` como\n",
        "valores de ponto flutuante quase não fornecem\n",
        "poder preditivo. Estamos apenas usando os valores brutos\n",
        "para estabelecer uma linha de base para futuras experiências\n",
        "com melhores representações."
      ]
    },
    {
      "cell_type": "markdown",
      "metadata": {
        "id": "B-cnf8WTgt9C",
        "colab_type": "text"
      },
      "source": [
        "## Representar latitude e longitude em baldes (buckets)\n",
        "A seguinte célula de código representa latitude e longitude em intervalos (posições). Cada compartimento representa todos os bairros em um único grau. Por exemplo, as vizinhanças nas latitudes 35.4 e 35.8 estão no mesmo bloco, mas as vizinhanças nas latitudes 35.4 e 36.2 estão em diferentes intervalos.\n",
        "\n",
        "O modelo aprenderá um peso separado para cada balde. Por exemplo, o modelo aprenderá um peso para todos os bairros da lixeira \"35\", um peso diferente para bairros da lixeira \"36\" e assim por diante. Essa representação criará aproximadamente 20 baldes:\n",
        "* 10 `baldes (buckets)` para `latitude`.\n",
        "* 10 `baldes (buckets)` para `longetude`.\n"
      ]
    },
    {
      "cell_type": "code",
      "metadata": {
        "id": "mRH1O_G7jPj9",
        "colab_type": "code",
        "colab": {}
      },
      "source": [
        "resolucao_graus = 1.0 \n",
        "# Criar uma nova lista vazia que eventualmente conterá a coluna do recurso gerado.\n",
        "coluna_recursos = []\n",
        "\n",
        "#Criar uma coluna de recurso de bucket (balde) para longitude ----------- 1\n",
        "latitude_col_numeric = tf.feature_column.numeric_column(\"latitude\")\n",
        "\n",
        "latitude_limites    = list(np.arange(int(min(treina_df[\"latitude\"])),\n",
        "                                     int(max(treina_df[\"latitude\"])),\n",
        "                                     resolucao_graus))\n",
        "latitude = tf.feature_column.bucketized_column(latitude_col_numeric, latitude_limites)\n",
        "\n",
        "coluna_recursos.append(latitude) #--------------------------------------- O\n",
        "\n",
        "#Criar uma coluna de recurso de bucket (balde) para longitude ----------- 1\n",
        "longitude_col_numeric = tf.feature_column.numeric_column(\"longitude\")\n",
        "\n",
        "longitude_limites    = list(np.arange(int(min(treina_df[\"longitude\"])),\n",
        "                            int(max(treina_df[\"longitude\"])),\n",
        "                            resolucao_graus))\n",
        "\n",
        "longitude = tf.feature_column.bucketized_column(longitude_col_numeric, \n",
        "                                               longitude_limites)\n",
        "\n",
        "coluna_recursos.append(longitude) #--------------------------------------- O\n",
        "\n",
        "\n",
        "\n",
        "# Converter a lista de colunas de recursos em uma camada \n",
        "# que acabará se tornando parte do modelo.\n",
        "camada_bucket_recursos = layers.DenseFeatures(coluna_recursos)\n",
        "\n",
        "\n"
      ],
      "execution_count": 0,
      "outputs": []
    },
    {
      "cell_type": "markdown",
      "metadata": {
        "id": "LtBX5h2osmN1",
        "colab_type": "text"
      },
      "source": [
        "## Treinar o modelo com representações de bucket\n",
        "Execute a seguinte célula de código para treinar o modelo com representações de bucket em vez de representações de ponto flutuante:"
      ]
    },
    {
      "cell_type": "code",
      "metadata": {
        "id": "ZM2gC7lhsrzj",
        "colab_type": "code",
        "colab": {
          "base_uri": "https://localhost:8080/",
          "height": 1000
        },
        "outputId": "2499b9e8-3be5-4983-fe4f-46d45ce61c92"
      },
      "source": [
        "taxa_aprendizado = 0.04\n",
        "epochs = 35\n",
        "tam_lote = 100\n",
        "nome_label = \"median_house_value\"\n",
        "\n",
        "# Criar e compilar a topografia do modelo\n",
        "meu_modelo = criar_modelo(taxa_aprendizado, camada_bucket_recursos)\n",
        "\n",
        "# Treinar o modelo no conjunto de treinamento\n",
        "epochs, rmse = treinar_modelo(meu_modelo, treina_df, epochs, tam_lote, nome_label)\n",
        "\n",
        "# gráfico curva de perda\n",
        "plot_curva_perda(epochs, rmse)\n",
        "\n",
        "print(\"\\n Avaliar o novo model em relação ao conjunto de teste: \")\n",
        "meu_modelo.evaluate(x=teste_recursos, y=teste_rotulo, batch_size=tam_lote)"
      ],
      "execution_count": 30,
      "outputs": [
        {
          "output_type": "stream",
          "text": [
            "Epoch 1/35\n",
            "170/170 [==============================] - 0s 1ms/step - loss: 51895.1328 - root_mean_squared_error: 227.8050\n",
            "Epoch 2/35\n",
            "170/170 [==============================] - 0s 1ms/step - loss: 44529.0391 - root_mean_squared_error: 211.0190\n",
            "Epoch 3/35\n",
            "170/170 [==============================] - 0s 1ms/step - loss: 37962.8008 - root_mean_squared_error: 194.8405\n",
            "Epoch 4/35\n",
            "170/170 [==============================] - 0s 1ms/step - loss: 32150.7305 - root_mean_squared_error: 179.3062\n",
            "Epoch 5/35\n",
            "170/170 [==============================] - 0s 1ms/step - loss: 27147.3027 - root_mean_squared_error: 164.7644\n",
            "Epoch 6/35\n",
            "170/170 [==============================] - 0s 1ms/step - loss: 22905.2832 - root_mean_squared_error: 151.3449\n",
            "Epoch 7/35\n",
            "170/170 [==============================] - 0s 1ms/step - loss: 19396.7227 - root_mean_squared_error: 139.2721\n",
            "Epoch 8/35\n",
            "170/170 [==============================] - 0s 1ms/step - loss: 16625.5469 - root_mean_squared_error: 128.9401\n",
            "Epoch 9/35\n",
            "170/170 [==============================] - 0s 1ms/step - loss: 14486.2822 - root_mean_squared_error: 120.3590\n",
            "Epoch 10/35\n",
            "170/170 [==============================] - 0s 1ms/step - loss: 12930.1592 - root_mean_squared_error: 113.7109\n",
            "Epoch 11/35\n",
            "170/170 [==============================] - 0s 1ms/step - loss: 11903.7539 - root_mean_squared_error: 109.1043\n",
            "Epoch 12/35\n",
            "170/170 [==============================] - 0s 1ms/step - loss: 11301.4531 - root_mean_squared_error: 106.3083\n",
            "Epoch 13/35\n",
            "170/170 [==============================] - 0s 1ms/step - loss: 10972.8965 - root_mean_squared_error: 104.7516\n",
            "Epoch 14/35\n",
            "170/170 [==============================] - 0s 1ms/step - loss: 10784.8457 - root_mean_squared_error: 103.8501\n",
            "Epoch 15/35\n",
            "170/170 [==============================] - 0s 1ms/step - loss: 10669.5195 - root_mean_squared_error: 103.2934\n",
            "Epoch 16/35\n",
            "170/170 [==============================] - 0s 1ms/step - loss: 10595.6680 - root_mean_squared_error: 102.9353\n",
            "Epoch 17/35\n",
            "170/170 [==============================] - 0s 1ms/step - loss: 10549.0479 - root_mean_squared_error: 102.7086\n",
            "Epoch 18/35\n",
            "170/170 [==============================] - 0s 1ms/step - loss: 10516.9756 - root_mean_squared_error: 102.5523\n",
            "Epoch 19/35\n",
            "170/170 [==============================] - 0s 1ms/step - loss: 10494.2080 - root_mean_squared_error: 102.4412\n",
            "Epoch 20/35\n",
            "170/170 [==============================] - 0s 1ms/step - loss: 10476.6562 - root_mean_squared_error: 102.3555\n",
            "Epoch 21/35\n",
            "170/170 [==============================] - 0s 1ms/step - loss: 10462.5254 - root_mean_squared_error: 102.2865\n",
            "Epoch 22/35\n",
            "170/170 [==============================] - 0s 1ms/step - loss: 10450.2617 - root_mean_squared_error: 102.2265\n",
            "Epoch 23/35\n",
            "170/170 [==============================] - 0s 1ms/step - loss: 10438.6533 - root_mean_squared_error: 102.1697\n",
            "Epoch 24/35\n",
            "170/170 [==============================] - 0s 1ms/step - loss: 10428.6104 - root_mean_squared_error: 102.1206\n",
            "Epoch 25/35\n",
            "170/170 [==============================] - 0s 1ms/step - loss: 10418.6787 - root_mean_squared_error: 102.0719\n",
            "Epoch 26/35\n",
            "170/170 [==============================] - 0s 1ms/step - loss: 10409.5195 - root_mean_squared_error: 102.0271\n",
            "Epoch 27/35\n",
            "170/170 [==============================] - 0s 1ms/step - loss: 10400.5615 - root_mean_squared_error: 101.9831\n",
            "Epoch 28/35\n",
            "170/170 [==============================] - 0s 1ms/step - loss: 10392.7783 - root_mean_squared_error: 101.9450\n",
            "Epoch 29/35\n",
            "170/170 [==============================] - 0s 1ms/step - loss: 10384.7529 - root_mean_squared_error: 101.9056\n",
            "Epoch 30/35\n",
            "170/170 [==============================] - 0s 1ms/step - loss: 10376.9150 - root_mean_squared_error: 101.8671\n",
            "Epoch 31/35\n",
            "170/170 [==============================] - 0s 1ms/step - loss: 10369.2725 - root_mean_squared_error: 101.8296\n",
            "Epoch 32/35\n",
            "170/170 [==============================] - 0s 1ms/step - loss: 10362.3750 - root_mean_squared_error: 101.7958\n",
            "Epoch 33/35\n",
            "170/170 [==============================] - 0s 1ms/step - loss: 10355.3242 - root_mean_squared_error: 101.7611\n",
            "Epoch 34/35\n",
            "170/170 [==============================] - 0s 1ms/step - loss: 10348.9287 - root_mean_squared_error: 101.7297\n",
            "Epoch 35/35\n",
            "170/170 [==============================] - 0s 1ms/step - loss: 10342.4219 - root_mean_squared_error: 101.6977\n",
            "\n",
            " Avaliar o novo model em relação ao conjunto de teste: \n",
            "30/30 [==============================] - 0s 1ms/step - loss: 10202.2725 - root_mean_squared_error: 101.0063\n"
          ],
          "name": "stdout"
        },
        {
          "output_type": "execute_result",
          "data": {
            "text/plain": [
              "[10202.2724609375, 101.00630187988281]"
            ]
          },
          "metadata": {
            "tags": []
          },
          "execution_count": 30
        },
        {
          "output_type": "display_data",
          "data": {
            "image/png": "[encoded data removed]",
            "text/plain": [
              "<Figure size 432x288 with 1 Axes>"
            ]
          },
          "metadata": {
            "tags": [],
            "needs_background": "light"
          }
        }
      ]
    },
    {
      "cell_type": "markdown",
      "metadata": {
        "id": "kBnTray6ymOO",
        "colab_type": "text"
      },
      "source": [
        "## Os buckets superaram as representações de ponto flutuante?\n",
        "Compare os valores de `root_mean_squared_error`  do modelo para as duas representações (ponto flutuante vs. baldes)? Qual modelo produziu menores perdas?\n",
        "\n",
        "#R: \n",
        "Representação de bucket superada representações de ponto flutuante.\n",
        "No entanto, mas ainda podemod fazer muito melhor."
      ]
    },
    {
      "cell_type": "markdown",
      "metadata": {
        "id": "4XtXLOgFzEtx",
        "colab_type": "text"
      },
      "source": [
        "## Qual é a melhor maneira de representar a localização?\n",
        "Os baldes são uma grande melhoria em relação aos valores de ponto flutuante. Você consegue identificar uma maneira ainda melhor de identificar a localização com latitudee longitude?\n",
        "## R:\n",
        "Representar a localização como um recurso cruzado deve produz melhores resultados.\n",
        "Anteriormente, representamos latitude em baldes unidimensionais e longitude em outra série de baldes unidimensionais.\n",
        "Locais do mundo real, no entanto, existem em duas dimensões. Portanto, devemos representam a localização como um recurso bidimensional Cruz. Ou seja, vamos cruzar a latitude de mais ou menos 10 buckets com os 10 ou mais longitude buckets para criar uma grade de 100 células.\n",
        "O modelo aprenderá pesos separados para cada célula."
      ]
    },
    {
      "cell_type": "markdown",
      "metadata": {
        "id": "lfQPZRlt0c41",
        "colab_type": "text"
      },
      "source": [
        "## Representar o local como um recurso cruzado\n",
        "A seguinte célula de código representa o local como um recurso cruzado. Ou seja, a célula de código a seguir cria primeiro baldes e depois chama `tf.feature_column.crossed_columnpara` para cruzá-los."
      ]
    },
    {
      "cell_type": "code",
      "metadata": {
        "id": "qRIkrR730qSv",
        "colab_type": "code",
        "colab": {}
      },
      "source": [
        "resolucao_graus = 1.0 \n",
        "# Criar uma nova lista vazia que eventualmente conterá a coluna do recurso gerado.\n",
        "coluna_recursos = []\n",
        "\n",
        "#Criar uma coluna de recurso de bucket (balde) para longitude ----------- 1\n",
        "latitude_col_numeric = tf.feature_column.numeric_column(\"latitude\")\n",
        "\n",
        "latitude_limites    = list(np.arange(int(min(treina_df[\"latitude\"])),\n",
        "                                     int(max(treina_df[\"latitude\"])),\n",
        "                                     resolucao_graus))\n",
        "latitude = tf.feature_column.bucketized_column(latitude_col_numeric, \n",
        "                                               latitude_limites)\n",
        "#------------------------------------------------------------------------ O\n",
        "\n",
        "#Criar uma coluna de recurso de bucket (balde) para longitude ----------- 1\n",
        "longitude_col_numeric = tf.feature_column.numeric_column(\"longitude\")\n",
        "\n",
        "longitude_limites    = list(np.arange(int(min(treina_df[\"longitude\"])),\n",
        "                            int(max(treina_df[\"longitude\"])),\n",
        "                            resolucao_graus))\n",
        "\n",
        "longitude = tf.feature_column.bucketized_column(longitude_col_numeric, \n",
        "                                               longitude_limites)\n",
        "#------------------------------------------------------------------------ O\n",
        "\n",
        "# Criar um recurso cruzado de latitude e longitude\n",
        "latitude_x_longitude = tf.feature_column.crossed_column([latitude, longitude], \n",
        "                                                        hash_bucket_size=100)\n",
        "recurso_cruzado = tf.feature_column.indicator_column(latitude_x_longitude)\n",
        "\n",
        "coluna_recursos.append(recurso_cruzado)\n",
        "# Converter a lista de colunas de recursos em uma camada \n",
        "# que acabará se tornando parte do modelo.\n",
        "camada_bucket_recurso_cruzado = layers.DenseFeatures(coluna_recursos)"
      ],
      "execution_count": 0,
      "outputs": []
    },
    {
      "cell_type": "markdown",
      "metadata": {
        "id": "5OGPpkNR3bbf",
        "colab_type": "text"
      },
      "source": [
        "Invoque a seguinte célula de código para testar sua solução com cruzamento de recursos"
      ]
    },
    {
      "cell_type": "code",
      "metadata": {
        "id": "poFCiPZ_3cTm",
        "colab_type": "code",
        "colab": {
          "base_uri": "https://localhost:8080/",
          "height": 1000
        },
        "outputId": "011c5e33-eb4d-4008-cc55-63ccb514101f"
      },
      "source": [
        "taxa_aprendizado = 0.04\n",
        "epochs = 35\n",
        "\n",
        "# Contrua o modelo, mas desta vez passa camada_bucket_recurso_cruzado\n",
        "meu_modelo = criar_modelo(taxa_aprendizado, camada_bucket_recurso_cruzado)\n",
        "\n",
        "# Treinar o modelo no conjunto de treinamento\n",
        "epochs, rmse = treinar_modelo(meu_modelo, treina_df, epochs, tam_lote, nome_label)\n",
        "\n",
        "# gráfico curva de perda\n",
        "plot_curva_perda(epochs, rmse)\n",
        "\n",
        "print(\"\\n Avaliar o novo model em relação ao conjunto de teste: \")\n",
        "meu_modelo.evaluate(x=teste_recursos, y=teste_rotulo, batch_size=tam_lote)"
      ],
      "execution_count": 33,
      "outputs": [
        {
          "output_type": "stream",
          "text": [
            "Epoch 1/35\n",
            "170/170 [==============================] - 0s 1ms/step - loss: 53549.1445 - root_mean_squared_error: 231.4069\n",
            "Epoch 2/35\n",
            "170/170 [==============================] - 0s 2ms/step - loss: 48506.9219 - root_mean_squared_error: 220.2429\n",
            "Epoch 3/35\n",
            "170/170 [==============================] - 0s 2ms/step - loss: 43811.2969 - root_mean_squared_error: 209.3115\n",
            "Epoch 4/35\n",
            "170/170 [==============================] - 0s 1ms/step - loss: 39468.2891 - root_mean_squared_error: 198.6663\n",
            "Epoch 5/35\n",
            "170/170 [==============================] - 0s 2ms/step - loss: 35453.8594 - root_mean_squared_error: 188.2919\n",
            "Epoch 6/35\n",
            "170/170 [==============================] - 0s 2ms/step - loss: 31754.9785 - root_mean_squared_error: 178.1993\n",
            "Epoch 7/35\n",
            "170/170 [==============================] - 0s 1ms/step - loss: 28411.7773 - root_mean_squared_error: 168.5579\n",
            "Epoch 8/35\n",
            "170/170 [==============================] - 0s 1ms/step - loss: 25378.7969 - root_mean_squared_error: 159.3072\n",
            "Epoch 9/35\n",
            "170/170 [==============================] - 0s 2ms/step - loss: 22683.3184 - root_mean_squared_error: 150.6098\n",
            "Epoch 10/35\n",
            "170/170 [==============================] - 0s 1ms/step - loss: 20270.4727 - root_mean_squared_error: 142.3744\n",
            "Epoch 11/35\n",
            "170/170 [==============================] - 0s 1ms/step - loss: 18175.4688 - root_mean_squared_error: 134.8164\n",
            "Epoch 12/35\n",
            "170/170 [==============================] - 0s 1ms/step - loss: 16365.8184 - root_mean_squared_error: 127.9290\n",
            "Epoch 13/35\n",
            "170/170 [==============================] - 0s 2ms/step - loss: 14811.6006 - root_mean_squared_error: 121.7029\n",
            "Epoch 14/35\n",
            "170/170 [==============================] - 0s 1ms/step - loss: 13521.3799 - root_mean_squared_error: 116.2815\n",
            "Epoch 15/35\n",
            "170/170 [==============================] - 0s 1ms/step - loss: 12466.9736 - root_mean_squared_error: 111.6556\n",
            "Epoch 16/35\n",
            "170/170 [==============================] - 0s 1ms/step - loss: 11652.7549 - root_mean_squared_error: 107.9479\n",
            "Epoch 17/35\n",
            "170/170 [==============================] - 0s 2ms/step - loss: 11039.4395 - root_mean_squared_error: 105.0687\n",
            "Epoch 18/35\n",
            "170/170 [==============================] - 0s 1ms/step - loss: 10611.1836 - root_mean_squared_error: 103.0106\n",
            "Epoch 19/35\n",
            "170/170 [==============================] - 0s 2ms/step - loss: 10327.7812 - root_mean_squared_error: 101.6257\n",
            "Epoch 20/35\n",
            "170/170 [==============================] - 0s 2ms/step - loss: 10138.3027 - root_mean_squared_error: 100.6891\n",
            "Epoch 21/35\n",
            "170/170 [==============================] - 0s 2ms/step - loss: 10008.2461 - root_mean_squared_error: 100.0412\n",
            "Epoch 22/35\n",
            "170/170 [==============================] - 0s 1ms/step - loss: 9911.3848 - root_mean_squared_error: 99.5559\n",
            "Epoch 23/35\n",
            "170/170 [==============================] - 0s 2ms/step - loss: 9834.5439 - root_mean_squared_error: 99.1693\n",
            "Epoch 24/35\n",
            "170/170 [==============================] - 0s 2ms/step - loss: 9779.4473 - root_mean_squared_error: 98.8911\n",
            "Epoch 25/35\n",
            "170/170 [==============================] - 0s 1ms/step - loss: 9735.0459 - root_mean_squared_error: 98.6663\n",
            "Epoch 26/35\n",
            "170/170 [==============================] - 0s 1ms/step - loss: 9704.3486 - root_mean_squared_error: 98.5107\n",
            "Epoch 27/35\n",
            "170/170 [==============================] - 0s 1ms/step - loss: 9680.8262 - root_mean_squared_error: 98.3912\n",
            "Epoch 28/35\n",
            "170/170 [==============================] - 0s 2ms/step - loss: 9663.3477 - root_mean_squared_error: 98.3023\n",
            "Epoch 29/35\n",
            "170/170 [==============================] - 0s 1ms/step - loss: 9650.7568 - root_mean_squared_error: 98.2383\n",
            "Epoch 30/35\n",
            "170/170 [==============================] - 0s 1ms/step - loss: 9640.8477 - root_mean_squared_error: 98.1878\n",
            "Epoch 31/35\n",
            "170/170 [==============================] - 0s 1ms/step - loss: 9634.0117 - root_mean_squared_error: 98.1530\n",
            "Epoch 32/35\n",
            "170/170 [==============================] - 0s 2ms/step - loss: 9628.0762 - root_mean_squared_error: 98.1228\n",
            "Epoch 33/35\n",
            "170/170 [==============================] - 0s 2ms/step - loss: 9623.7568 - root_mean_squared_error: 98.1007\n",
            "Epoch 34/35\n",
            "170/170 [==============================] - 0s 2ms/step - loss: 9620.1641 - root_mean_squared_error: 98.0824\n",
            "Epoch 35/35\n",
            "170/170 [==============================] - 0s 2ms/step - loss: 9617.8701 - root_mean_squared_error: 98.0707\n",
            "\n",
            " Avaliar o novo model em relação ao conjunto de teste: \n",
            "30/30 [==============================] - 0s 2ms/step - loss: 9520.6357 - root_mean_squared_error: 97.5737\n"
          ],
          "name": "stdout"
        },
        {
          "output_type": "execute_result",
          "data": {
            "text/plain": [
              "[9520.6357421875, 97.57374572753906]"
            ]
          },
          "metadata": {
            "tags": []
          },
          "execution_count": 33
        },
        {
          "output_type": "display_data",
          "data": {
            "image/png": "[encoded data removed]",
            "text/plain": [
              "<Figure size 432x288 with 1 Axes>"
            ]
          },
          "metadata": {
            "tags": [],
            "needs_background": "light"
          }
        }
      ]
    },
    {
      "cell_type": "markdown",
      "metadata": {
        "id": "CTldr_pR5Eux",
        "colab_type": "text"
      },
      "source": [
        "##  O recurso superou os buckets?\n",
        "Compare os root_mean_squared_errorvalores do modelo para as duas representações (buckets vs. cross feature)? Qual modelo produziu menores perdas?\n",
        "#R:\n",
        "Sim, representando esses recursos como um cruzamento de recursos o modelo produziu valores de perda muito mais baixos do que representando esses recursos como buckets"
      ]
    },
    {
      "cell_type": "markdown",
      "metadata": {
        "id": "-hLtj-CX5kkP",
        "colab_type": "text"
      },
      "source": [
        ""
      ]
    }
  ]
}