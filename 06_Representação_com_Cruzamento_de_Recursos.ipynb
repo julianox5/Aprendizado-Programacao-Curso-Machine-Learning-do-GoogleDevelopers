{
  "nbformat": 4,
  "nbformat_minor": 0,
  "metadata": {
    "colab": {
      "name": "06_Representação com Cruzamento de Recursos.ipynb",
      "provenance": [],
      "authorship_tag": "ABX9TyN7qGVEicJi5fHVH9Y+cB86",
      "include_colab_link": true
    },
    "kernelspec": {
      "name": "python3",
      "display_name": "Python 3"
    }
  },
  "cells": [
    {
      "cell_type": "markdown",
      "metadata": {
        "id": "view-in-github",
        "colab_type": "text"
      },
      "source": [
        "<a href=\"https://colab.research.google.com/github/julianox5/Exercicios-Programacao-Curso-Machine-Learning-do-GoogleDevelopers/blob/master/06_Representa%C3%A7%C3%A3o_com_Cruzamento_de_Recursos.ipynb\" target=\"_parent\"><img src=\"https://colab.research.google.com/assets/colab-badge.svg\" alt=\"Open In Colab\"/></a>"
      ]
    },
    {
      "cell_type": "markdown",
      "metadata": {
        "id": "E45iimQllzzl",
        "colab_type": "text"
      },
      "source": [
        "## Representação com cruzamento de recursos \n",
        "Neste exercício, você experimentara maneiras diferentes de representar recursos.\n",
        "\n"
      ]
    },
    {
      "cell_type": "markdown",
      "metadata": {
        "id": "ijP32f_qX9RD",
        "colab_type": "text"
      },
      "source": [
        "## Objetivo do Aprendizado com os Exercícios\n",
        "\n",
        "Depois do exercícios, você saberá: \n",
        "* Usar o Método [`tf.feature_column`] para representar os recurso de maneiras diferentes\n",
        "* Representar recursos como `caixas` `(bins)`.\n",
        "* Caixas cruzadas para criar uma feature cross.\n"
      ]
    },
    {
      "cell_type": "markdown",
      "metadata": {
        "id": "iRIyt3LTcBDp",
        "colab_type": "text"
      },
      "source": [
        "## O Conjunto de Dados\n",
        "Como os exercícios anteriores, usaremos o conjunto de dados de habitação da Califórnia "
      ]
    },
    {
      "cell_type": "markdown",
      "metadata": {
        "id": "WZAzPBrHcQhh",
        "colab_type": "text"
      },
      "source": [
        "## Usando a versão correta do TensorFlow"
      ]
    },
    {
      "cell_type": "code",
      "metadata": {
        "id": "U3_vecusceNp",
        "colab_type": "code",
        "colab": {}
      },
      "source": [
        "%tensorflow_version 2.x"
      ],
      "execution_count": 0,
      "outputs": []
    },
    {
      "cell_type": "markdown",
      "metadata": {
        "id": "uWaIydTxcus6",
        "colab_type": "text"
      },
      "source": [
        "## Chamar as instruções de importação \n",
        "O código abaixo importa os módulos necessários para executar o código que vamos criar\n",
        "\n",
        "```\n",
        "`# This is formatted as code`\n",
        "```\n"
      ]
    },
    {
      "cell_type": "code",
      "metadata": {
        "id": "mSml5SI-dMPc",
        "colab_type": "code",
        "colab": {}
      },
      "source": [
        "import numpay as np \n",
        "import pandas as pd\n",
        "import tensorflow as tf\n",
        "\n",
        "from tensorflow import feature_column\n",
        "from tensorflow.keras import layers\n",
        "\n",
        "from matplotlib import pyplot as plt \n",
        "\n",
        "# as linhas a seguir ajustam a granularidade da notificação\n",
        "pd.options.display.max_rows = 10 \n",
        "pd.options.display.float_format =\"{: 1f}\".format\n",
        "\n",
        "tf.keras.backend.set_floatx('float32')\n",
        "\n",
        "print(\"módulos importados\")\n"
      ],
      "execution_count": 0,
      "outputs": []
    },
    {
      "cell_type": "markdown",
      "metadata": {
        "id": "3pH53Chjn2PS",
        "colab_type": "text"
      },
      "source": [
        "## Carregar, dimensionar e embaralhar os exemplos\n",
        "O código a seguir carrega os arquivos .csv separados e cria dois DataFrames do Pandas: \n",
        "* `treina_df`, que contém os dados de treinamento\n",
        "* `test_df`, que contém os dados de teste\n",
        "\n",
        "A célula de código então dimensiona `median_house_value` para um intervalo mais amigável ao ser humano e, em seguida, apresenta os exemplos."
      ]
    },
    {
      "cell_type": "code",
      "metadata": {
        "id": "ySshm0MLo-55",
        "colab_type": "code",
        "colab": {}
      },
      "source": [
        "#Carregando os conjuntos de dados\n",
        "treina_df = pd.read_csv(\"https://download.mlcc.google.com/mledu-datasets/california_housing_train.csv\")\n",
        "test_df   = pd.read_csv(\"https://download.mlcc.google.com/mledu-datasets/california_housing_test.csv\")\n",
        "\n",
        "#Escalando os rótulos \n",
        "fator_escala = 1000.0\n",
        "\n",
        "treina_df[\"median_house_value\"] /= fator_escala \n",
        "test_df[\"median_house_value\"] /= fator_escala\n",
        "\n",
        "# Embaralhando os exemplos \n",
        "treina_df = treina_df.reindex(np.random.permutation(treina_df.index))"
      ],
      "execution_count": 0,
      "outputs": []
    }
  ]
}