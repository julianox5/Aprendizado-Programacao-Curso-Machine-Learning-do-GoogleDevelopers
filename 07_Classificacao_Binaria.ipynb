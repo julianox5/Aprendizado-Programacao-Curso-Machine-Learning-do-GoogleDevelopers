{
  "nbformat": 4,
  "nbformat_minor": 0,
  "metadata": {
    "colab": {
      "name": "07_Classificacao_Binaria",
      "provenance": [],
      "collapsed_sections": [],
      "authorship_tag": "ABX9TyMLe53QlpwzS0ZxNV2uRu20",
      "include_colab_link": true
    },
    "kernelspec": {
      "name": "python3",
      "display_name": "Python 3"
    }
  },
  "cells": [
    {
      "cell_type": "markdown",
      "metadata": {
        "id": "view-in-github",
        "colab_type": "text"
      },
      "source": [
        "<a href=\"https://colab.research.google.com/github/julianox5/Aprendizado-Programacao-Curso-Machine-Learning-do-GoogleDevelopers/blob/master/07_Classificacao_Binaria.ipynb\" target=\"_parent\"><img src=\"https://colab.research.google.com/assets/colab-badge.svg\" alt=\"Open In Colab\"/></a>"
      ]
    },
    {
      "cell_type": "markdown",
      "metadata": {
        "id": "5zX44v2DyxEv",
        "colab_type": "text"
      },
      "source": [
        "# Classificação Binária\n",
        "Até agora criamosapenas modelos de regressão. Ou seja, modelos que produziram previsões de ponto flutuante, como \"casas neste bairro custam N mil dólares\". Neste Colab, vamos criar e avaliar um modelo de classificação binária . Ou seja, criaremos um modelo que responde a uma pergunta binária. Neste exercício, a pergunta binária será: \"As casas neste bairro estão acima de determinado preço?\""
      ]
    },
    {
      "cell_type": "markdown",
      "metadata": {
        "id": "5fyo4KTDzjPI",
        "colab_type": "text"
      },
      "source": [
        "# Objetivos de aprendizado:\n",
        "Depois de fazer este Colab, vamos aprender habilidades como:\n",
        "*   Converter uma pergunta de regressão em uma pergunta de classificação.\n",
        "*   Modificar o limite de classificação e determine como essa modificação influencia o modelo.\n",
        "*   Experimentar diferentes métricas de classificação para determinar a eficácia do seu modelo.\n",
        "\n"
      ]
    },
    {
      "cell_type": "markdown",
      "metadata": {
        "id": "8dPkCFpZ0Fhd",
        "colab_type": "text"
      },
      "source": [
        "## O Conjunto de Dados\n",
        "Como vários do colabs anteriores, este Colab usa o [conjunto de dados da habitação da california]\n",
        "(https://developers.google.com/machine-learning/crash-course/california-housing-data-description)."
      ]
    },
    {
      "cell_type": "markdown",
      "metadata": {
        "id": "GlRHEpR90rOq",
        "colab_type": "text"
      },
      "source": [
        "# Sempre usar a versão do tensor flow correta"
      ]
    },
    {
      "cell_type": "code",
      "metadata": {
        "id": "KBnXIF2R00SR",
        "colab_type": "code",
        "colab": {}
      },
      "source": [
        "%tensorflow_version 2.x"
      ],
      "execution_count": null,
      "outputs": []
    },
    {
      "cell_type": "markdown",
      "metadata": {
        "id": "mBZkjvEH1GF-",
        "colab_type": "text"
      },
      "source": [
        "# Importar as ferramenta nescessárias para o modelo\n"
      ]
    },
    {
      "cell_type": "code",
      "metadata": {
        "id": "MVay_5hJLMpO",
        "colab_type": "code",
        "colab": {}
      },
      "source": [
        "import numpy as np \n",
        "import pandas as np\n",
        "import tensorflow as tf\n",
        "from tensorflow import feature_column\n",
        "from tensorflow.keras import layers\n",
        "from matplotlib import pyplot as plt\n",
        "\n",
        "# ajustar a granularidade do relatorio\n",
        "pd.options.display.max_rows = 10 \n",
        "pd.options.display.float_format = \":.1f\".format\n",
        "print(\"importação executada\")"
      ],
      "execution_count": null,
      "outputs": []
    },
    {
      "cell_type": "markdown",
      "metadata": {
        "id": "89J_ohA8NQlc",
        "colab_type": "text"
      },
      "source": [
        "# Carregando os conjuntos de dados da internet\n",
        "A célula de código a seguir carrega os arquivos .csv separados e cria os dois DataFrames pandas a seguir:\n",
        "* `treino_df`, que contém o conjunto de treinamento\n",
        "* `teste_df`, que contém o conjunto de teste"
      ]
    },
    {
      "cell_type": "code",
      "metadata": {
        "id": "NjLX6Et5NpLS",
        "colab_type": "code",
        "colab": {}
      },
      "source": [
        "treino_df = pd.read_csv(\"link\")\n",
        "teste_df  = pd.read_csv(\"link\")\n",
        "#embaralhar o conjunto de treinamento \n",
        "#suffle th training set\n",
        "treino_df = treino_df.reindex(np.random.permutation(treino_df.index))\n"
      ],
      "execution_count": null,
      "outputs": []
    },
    {
      "cell_type": "markdown",
      "metadata": {
        "id": "HQS2g_eLVREB",
        "colab_type": "text"
      },
      "source": [
        "Ao contrário de alguns dos Colabs anteriores, a célula de código anterior não dimensionou o rótulo ( median_house_value). A seção a seguir (\"Normalizar valores\") fornece uma abordagem alternativa."
      ]
    },
    {
      "cell_type": "markdown",
      "metadata": {
        "id": "uzK7AslDWPsO",
        "colab_type": "text"
      },
      "source": [
        "# Normalizar valores\n",
        "Ao criar um modelo com vários recursos, os valores de cada recurso devem abranger aproximadamente o mesmo intervalo. Por exemplo, se o intervalo de um recurso se estende por 500 a 100.000 e o de outro recurso se estende por 2 a 12, o modelo será difícil ou impossível de treinar. Portanto, você deve normalizar os recursos em um modelo com vários recursos.\n",
        "\n",
        "A célula de código a seguir normaliza os conjuntos de dados convertendo cada valor bruto (incluindo o rótulo) em seu Z-score. Um Z-score é o número de desvios padrão da média para um determinado valor bruto. Por exemplo, considere um recurso com as seguintes características:\n",
        "* Á média é 60\n",
        "* O Desvio padrão é 10\n",
        "\n",
        "O valor bruto 75 teria um Z-score de +1,5:\n",
        "```\n",
        "Z-score = (75 - 60) / 10 = +1.5\n",
        "```\n",
        "O valor bruto 38 teria um escore Z de -2,2:\n",
        "```\n",
        "Z-score = (38 - 60) / 10 = -2.2\n",
        "```\n"
      ]
    },
    {
      "cell_type": "code",
      "metadata": {
        "id": "Y11rIS-IlCvo",
        "colab_type": "code",
        "colab": {}
      },
      "source": [
        "# Calcular os escores Z de cada coluna no conjunto de treinamento e escrever essas pontuações Z\n",
        "# em um novo DataFrame do pandas chamado treino_df_norm\n",
        "treino_df_media = treino_df.mean()\n",
        "treino_df_dvp   = treino_df.std()\n",
        "treino_df_norm  = (treino_df - treino_df_media)/ treino_df_dvp\n",
        "\n",
        "#Examinar alguns do valores do conjunto de treinamento normalizado. \n",
        "#Observe que a maioria dos escores Z ficam entre  -2 e +2\n",
        "treino_df_norm.head()"
      ],
      "execution_count": null,
      "outputs": []
    }
  ]
}