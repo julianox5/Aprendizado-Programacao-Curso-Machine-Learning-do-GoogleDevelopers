{
  "nbformat": 4,
  "nbformat_minor": 0,
  "metadata": {
    "colab": {
      "name": "07_Classificacao_Binaria",
      "provenance": [],
      "collapsed_sections": [],
      "authorship_tag": "ABX9TyO464eYOGCtYNRVJd5/8egQ",
      "include_colab_link": true
    },
    "kernelspec": {
      "name": "python3",
      "display_name": "Python 3"
    }
  },
  "cells": [
    {
      "cell_type": "markdown",
      "metadata": {
        "id": "view-in-github",
        "colab_type": "text"
      },
      "source": [
        "<a href=\"https://colab.research.google.com/github/julianox5/Aprendizado-Programacao-Curso-Machine-Learning-do-GoogleDevelopers/blob/master/07_Classificacao_Binaria.ipynb\" target=\"_parent\"><img src=\"https://colab.research.google.com/assets/colab-badge.svg\" alt=\"Open In Colab\"/></a>"
      ]
    },
    {
      "cell_type": "markdown",
      "metadata": {
        "id": "5zX44v2DyxEv",
        "colab_type": "text"
      },
      "source": [
        "# Classificação Binária\n",
        "Até agora criamosapenas modelos de regressão. Ou seja, modelos que produziram previsões de ponto flutuante, como \"casas neste bairro custam N mil dólares\". Neste Colab, vamos criar e avaliar um modelo de classificação binária . Ou seja, criaremos um modelo que responde a uma pergunta binária. Neste exercício, a pergunta binária será: \"As casas neste bairro estão acima de determinado preço?\""
      ]
    },
    {
      "cell_type": "markdown",
      "metadata": {
        "id": "5fyo4KTDzjPI",
        "colab_type": "text"
      },
      "source": [
        "# Objetivos de aprendizado:\n",
        "Depois de fazer este Colab, vamos aprender habilidades como:\n",
        "*   Converter uma pergunta de regressão em uma pergunta de classificação.\n",
        "*   Modificar o limite de classificação e determine como essa modificação influencia o modelo.\n",
        "*   Experimentar diferentes métricas de classificação para determinar a eficácia do seu modelo.\n",
        "\n"
      ]
    },
    {
      "cell_type": "markdown",
      "metadata": {
        "id": "8dPkCFpZ0Fhd",
        "colab_type": "text"
      },
      "source": [
        "## O Conjunto de Dados\n",
        "Como vários do colabs anteriores, este Colab usa o [conjunto de dados da habitação da california]\n",
        "(https://developers.google.com/machine-learning/crash-course/california-housing-data-description)."
      ]
    },
    {
      "cell_type": "markdown",
      "metadata": {
        "id": "GlRHEpR90rOq",
        "colab_type": "text"
      },
      "source": [
        "# Sempre usar a versão do tensor flow correta"
      ]
    },
    {
      "cell_type": "code",
      "metadata": {
        "id": "KBnXIF2R00SR",
        "colab_type": "code",
        "colab": {}
      },
      "source": [
        "%tensorflow_version 2.x"
      ],
      "execution_count": null,
      "outputs": []
    },
    {
      "cell_type": "markdown",
      "metadata": {
        "id": "mBZkjvEH1GF-",
        "colab_type": "text"
      },
      "source": [
        "# Importar as ferramenta nescessárias para o modelo\n"
      ]
    },
    {
      "cell_type": "code",
      "metadata": {
        "id": "MVay_5hJLMpO",
        "colab_type": "code",
        "colab": {}
      },
      "source": [
        "import numpy as np \n",
        "import pandas as np\n",
        "import tensorflow as tf\n",
        "from tensorflow import feature_column\n",
        "from tensorflow.keras import layers\n",
        "from matplotlib import pyplot as plt\n",
        "\n",
        "# ajustar a granularidade do relatorio\n",
        "pd.options.display.max_rows = 10 \n",
        "pd.options.display.float_format = \":.1f\".format\n",
        "print(\"importação executada\")"
      ],
      "execution_count": null,
      "outputs": []
    }
  ]
}